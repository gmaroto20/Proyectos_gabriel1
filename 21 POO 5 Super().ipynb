{
 "cells": [
  {
   "cell_type": "code",
   "execution_count": 1,
   "id": "d36f00c2",
   "metadata": {},
   "outputs": [],
   "source": [
    "#existe una funcion super() que sirve para llamar al metodo de la superclase\n",
    "#esto viene bien pues en la bici electrica vimos que no cogia marca y modelo por ej"
   ]
  },
  {
   "cell_type": "code",
   "execution_count": 5,
   "id": "20126ef2",
   "metadata": {},
   "outputs": [
    {
     "name": "stdout",
     "output_type": "stream",
     "text": [
      "Nombre: Antonio \n",
      "Edad: 55 \n",
      "Residencia: España\n"
     ]
    }
   ],
   "source": [
    "class persona():\n",
    "    def __init__(self,nombre,edad,residencia):\n",
    "        self.nombre=nombre\n",
    "        self.edad=edad\n",
    "        self.residencia=residencia\n",
    "        \n",
    "    def descripcion(self):\n",
    "        print(\"Nombre:\",self.nombre,\"\\nEdad:\",self.edad,\"\\nResidencia:\",self.residencia)\n",
    "        \n",
    "class empleado(persona):\n",
    "    def __init__(self,salario,antiguedad):\n",
    "        self.salario=salario\n",
    "        self.antiguedad=antiguedad\n",
    "        \n",
    "Antonio=persona(\"Antonio\",55,\"España\")\n",
    "\n",
    "Antonio.descripcion()\n",
    "    "
   ]
  },
  {
   "cell_type": "code",
   "execution_count": 6,
   "id": "2b799857",
   "metadata": {},
   "outputs": [],
   "source": [
    "#si construimos la instancia Antonio como empleado y ponemos como arg salario y antiguedad vemos que\n",
    "#nos faltaran los parametros nombre,edad,residencia y nos da un error"
   ]
  },
  {
   "cell_type": "code",
   "execution_count": 7,
   "id": "2522be38",
   "metadata": {},
   "outputs": [
    {
     "ename": "AttributeError",
     "evalue": "'empleado' object has no attribute 'nombre'",
     "output_type": "error",
     "traceback": [
      "\u001b[1;31m---------------------------------------------------------------------------\u001b[0m",
      "\u001b[1;31mAttributeError\u001b[0m                            Traceback (most recent call last)",
      "\u001b[1;32m<ipython-input-7-93f50e6ca31c>\u001b[0m in \u001b[0;36m<module>\u001b[1;34m\u001b[0m\n\u001b[0;32m     13\u001b[0m \u001b[1;33m\u001b[0m\u001b[0m\n\u001b[0;32m     14\u001b[0m \u001b[0mAntonio\u001b[0m\u001b[1;33m=\u001b[0m\u001b[0mempleado\u001b[0m\u001b[1;33m(\u001b[0m\u001b[1;36m1800\u001b[0m\u001b[1;33m,\u001b[0m\u001b[1;36m20\u001b[0m\u001b[1;33m)\u001b[0m\u001b[1;33m\u001b[0m\u001b[1;33m\u001b[0m\u001b[0m\n\u001b[1;32m---> 15\u001b[1;33m \u001b[0mAntonio\u001b[0m\u001b[1;33m.\u001b[0m\u001b[0mdescripcion\u001b[0m\u001b[1;33m(\u001b[0m\u001b[1;33m)\u001b[0m\u001b[1;33m\u001b[0m\u001b[1;33m\u001b[0m\u001b[0m\n\u001b[0m",
      "\u001b[1;32m<ipython-input-7-93f50e6ca31c>\u001b[0m in \u001b[0;36mdescripcion\u001b[1;34m(self)\u001b[0m\n\u001b[0;32m      5\u001b[0m         \u001b[0mself\u001b[0m\u001b[1;33m.\u001b[0m\u001b[0mresidencia\u001b[0m\u001b[1;33m=\u001b[0m\u001b[0mresidencia\u001b[0m\u001b[1;33m\u001b[0m\u001b[1;33m\u001b[0m\u001b[0m\n\u001b[0;32m      6\u001b[0m     \u001b[1;32mdef\u001b[0m \u001b[0mdescripcion\u001b[0m\u001b[1;33m(\u001b[0m\u001b[0mself\u001b[0m\u001b[1;33m)\u001b[0m\u001b[1;33m:\u001b[0m\u001b[1;33m\u001b[0m\u001b[1;33m\u001b[0m\u001b[0m\n\u001b[1;32m----> 7\u001b[1;33m         \u001b[0mprint\u001b[0m\u001b[1;33m(\u001b[0m\u001b[1;34m\"Nombre:\"\u001b[0m\u001b[1;33m,\u001b[0m\u001b[0mself\u001b[0m\u001b[1;33m.\u001b[0m\u001b[0mnombre\u001b[0m\u001b[1;33m,\u001b[0m\u001b[1;34m\"\\nEdad:\"\u001b[0m\u001b[1;33m,\u001b[0m\u001b[0mself\u001b[0m\u001b[1;33m.\u001b[0m\u001b[0medad\u001b[0m\u001b[1;33m,\u001b[0m\u001b[1;34m\"\\nResidencia:\"\u001b[0m\u001b[1;33m,\u001b[0m\u001b[0mself\u001b[0m\u001b[1;33m.\u001b[0m\u001b[0mresidencia\u001b[0m\u001b[1;33m)\u001b[0m\u001b[1;33m\u001b[0m\u001b[1;33m\u001b[0m\u001b[0m\n\u001b[0m\u001b[0;32m      8\u001b[0m \u001b[1;33m\u001b[0m\u001b[0m\n\u001b[0;32m      9\u001b[0m \u001b[1;32mclass\u001b[0m \u001b[0mempleado\u001b[0m\u001b[1;33m(\u001b[0m\u001b[0mpersona\u001b[0m\u001b[1;33m)\u001b[0m\u001b[1;33m:\u001b[0m\u001b[1;33m\u001b[0m\u001b[1;33m\u001b[0m\u001b[0m\n",
      "\u001b[1;31mAttributeError\u001b[0m: 'empleado' object has no attribute 'nombre'"
     ]
    }
   ],
   "source": [
    "class persona():\n",
    "    def __init__(self,nombre,edad,residencia):\n",
    "        self.nombre=nombre\n",
    "        self.edad=edad\n",
    "        self.residencia=residencia\n",
    "        \n",
    "    def descripcion(self):\n",
    "        print(\"Nombre:\",self.nombre,\"\\nEdad:\",self.edad,\"\\nResidencia:\",self.residencia)\n",
    "        \n",
    "class empleado(persona):\n",
    "    def __init__(self,salario,antiguedad):\n",
    "        self.salario=salario\n",
    "        self.antiguedad=antiguedad\n",
    "        \n",
    "Antonio=empleado(1800,20)\n",
    "\n",
    "Antonio.descripcion()"
   ]
  },
  {
   "cell_type": "code",
   "execution_count": 8,
   "id": "49e5b2fc",
   "metadata": {},
   "outputs": [],
   "source": [
    "#por eso usamos una funcion que se llama super() que incorpora estos argumentos"
   ]
  },
  {
   "cell_type": "code",
   "execution_count": 9,
   "id": "febaa410",
   "metadata": {},
   "outputs": [
    {
     "name": "stdout",
     "output_type": "stream",
     "text": [
      "Nombre: Antonio \n",
      "Edad: 55 \n",
      "Residencia: España\n"
     ]
    }
   ],
   "source": [
    "class persona():\n",
    "    def __init__(self,nombre,edad,residencia):\n",
    "        self.nombre=nombre\n",
    "        self.edad=edad\n",
    "        self.residencia=residencia\n",
    "        \n",
    "    def descripcion(self):\n",
    "        print(\"Nombre:\",self.nombre,\"\\nEdad:\",self.edad,\"\\nResidencia:\",self.residencia)\n",
    "        \n",
    "class empleado(persona):\n",
    "    def __init__(self,salario,antiguedad):\n",
    "        super().__init__(\"Antonio\",55,\"España\")\n",
    "        self.salario=salario\n",
    "        self.antiguedad=antiguedad\n",
    "        \n",
    "Antonio=empleado(1800,20)\n",
    "\n",
    "Antonio.descripcion()"
   ]
  },
  {
   "cell_type": "code",
   "execution_count": 10,
   "id": "41957093",
   "metadata": {},
   "outputs": [],
   "source": [
    "#pero esto no permite meter cualquier persona, ni refleja el salario y la antiguedad\n",
    "#para que coja cualquier persona en el constructor empleado introducimos nuevos argumentos\n",
    "#mediante super() los vinculamos a la superclase"
   ]
  },
  {
   "cell_type": "code",
   "execution_count": 1,
   "id": "9f20ce5b",
   "metadata": {},
   "outputs": [
    {
     "name": "stdout",
     "output_type": "stream",
     "text": [
      "Nombre: Pepe \n",
      "Edad: 34 \n",
      "Residencia: Francia\n"
     ]
    }
   ],
   "source": [
    "class persona():\n",
    "    def __init__(self,nombre,edad,residencia):\n",
    "        self.nombre=nombre\n",
    "        self.edad=edad\n",
    "        self.residencia=residencia\n",
    "        \n",
    "    def descripcion(self):\n",
    "        print(\"Nombre:\",self.nombre,\"\\nEdad:\",self.edad,\"\\nResidencia:\",self.residencia)\n",
    "        \n",
    "class empleado(persona):\n",
    "    def __init__(self,salario,antiguedad,nombre_empleado,edad_empleado,residencia_empleado):\n",
    "        super().__init__(nombre_empleado,edad_empleado,residencia_empleado)\n",
    "        self.salario=salario\n",
    "        self.antiguedad=antiguedad\n",
    "        \n",
    "Manuel=empleado(1800,20,\"Pepe\",34,\"Francia\")\n",
    "\n",
    "Manuel.descripcion()"
   ]
  },
  {
   "cell_type": "code",
   "execution_count": 12,
   "id": "b898411b",
   "metadata": {},
   "outputs": [],
   "source": [
    "#y para que incluya salario y antiguedad definimos un nuevo metodo descripcion y lo vinculamos al padre"
   ]
  },
  {
   "cell_type": "code",
   "execution_count": 1,
   "id": "d6e67c66",
   "metadata": {},
   "outputs": [
    {
     "name": "stdout",
     "output_type": "stream",
     "text": [
      "Nombre: Manuel \n",
      "Edad: 34 \n",
      "Residencia: Francia\n",
      "Salario: 1800 \n",
      "Antiguedad: 20\n"
     ]
    }
   ],
   "source": [
    "class persona():\n",
    "    def __init__(self,nombre,edad,residencia):\n",
    "        self.nombre=nombre\n",
    "        self.edad=edad\n",
    "        self.residencia=residencia\n",
    "        \n",
    "    def descripcion(self):\n",
    "        print(\"Nombre:\",self.nombre,\"\\nEdad:\",self.edad,\"\\nResidencia:\",self.residencia)\n",
    "        \n",
    "class empleado(persona):\n",
    "    def __init__(self,salario,antiguedad,nombre_empleado,edad_empleado,residencia_empleado):\n",
    "        super().__init__(nombre_empleado,edad_empleado,residencia_empleado)\n",
    "        self.salario=salario\n",
    "        self.antiguedad=antiguedad\n",
    "        \n",
    "    def descripcion(self):\n",
    "        super().descripcion()\n",
    "        print(\"Salario:\",self.salario,\"\\nAntiguedad:\",self.antiguedad)\n",
    "        \n",
    "Manuel=empleado(1800,20,\"Manuel\",34,\"Francia\")\n",
    "\n",
    "Manuel.descripcion()"
   ]
  },
  {
   "cell_type": "code",
   "execution_count": 15,
   "id": "58e4e314",
   "metadata": {},
   "outputs": [],
   "source": [
    "#en ocasiones no sabemos si una clase es subclasde o superclase\n",
    "#para verlo seguimos el principio de sustitucion \"es siempre un\\a\" (por ej un empleado siempre una persona)\n",
    "#pero una persona no es siempre un empleado\n",
    "#mediante isinstance()se nos va a informar si un objeto o instancia pertenece a una clase concreta\n",
    "#devuelve True o False"
   ]
  },
  {
   "cell_type": "code",
   "execution_count": 16,
   "id": "e2ed0ceb",
   "metadata": {},
   "outputs": [
    {
     "name": "stdout",
     "output_type": "stream",
     "text": [
      "Nombre: Manuel \n",
      "Edad: 34 \n",
      "Residencia: Francia\n",
      "Salario: 1800 \n",
      "Antiguedad 20\n",
      "True\n"
     ]
    }
   ],
   "source": [
    "class persona():\n",
    "    def __init__(self,nombre,edad,residencia):\n",
    "        self.nombre=nombre\n",
    "        self.edad=edad\n",
    "        self.residencia=residencia\n",
    "        \n",
    "    def descripcion(self):\n",
    "        print(\"Nombre:\",self.nombre,\"\\nEdad:\",self.edad,\"\\nResidencia:\",self.residencia)\n",
    "        \n",
    "class empleado(persona):\n",
    "    def __init__(self,salario,antiguedad,nombre_empleado,edad_empleado,residencia_empleado):\n",
    "        super().__init__(nombre_empleado,edad_empleado,residencia_empleado)\n",
    "        self.salario=salario\n",
    "        self.antiguedad=antiguedad\n",
    "        \n",
    "    def descripcion(self):\n",
    "        super().descripcion()\n",
    "        print(\"Salario:\",self.salario,\"\\nAntiguedad\",self.antiguedad)\n",
    "        \n",
    "Manuel=empleado(1800,20,\"Manuel\",34,\"Francia\")\n",
    "\n",
    "Manuel.descripcion()\n",
    "\n",
    "print(isinstance(Manuel,empleado))"
   ]
  },
  {
   "cell_type": "code",
   "execution_count": 17,
   "id": "1f0ee526",
   "metadata": {},
   "outputs": [],
   "source": [
    "#en el ejemplo de la bici electrica vamos a introducir un super()"
   ]
  },
  {
   "cell_type": "code",
   "execution_count": 4,
   "id": "8b1744e6",
   "metadata": {},
   "outputs": [
    {
     "ename": "IndentationError",
     "evalue": "expected an indented block (<ipython-input-4-09246454ced1>, line 43)",
     "output_type": "error",
     "traceback": [
      "\u001b[1;36m  File \u001b[1;32m\"<ipython-input-4-09246454ced1>\"\u001b[1;36m, line \u001b[1;32m43\u001b[0m\n\u001b[1;33m    miBicielectrica=Bicielectrica(\"BH\",\"HTI\")\u001b[0m\n\u001b[1;37m    ^\u001b[0m\n\u001b[1;31mIndentationError\u001b[0m\u001b[1;31m:\u001b[0m expected an indented block\n"
     ]
    }
   ],
   "source": [
    "class vehiculos():\n",
    "    def __init__(self,marca,modelo):\n",
    "        self.marca=marca\n",
    "        self.modelo=modelo\n",
    "        self.enmarcha=False\n",
    "        self.acelera=False\n",
    "        self.frena=False\n",
    "        \n",
    "    def arrancar(self):\n",
    "        self.enmarcha=True\n",
    "        \n",
    "    def acelerar(self):\n",
    "        self.acelera=True\n",
    "        \n",
    "    def frenar(self):\n",
    "        self.frena=True\n",
    "        \n",
    "    def estado(self):\n",
    "        print(\"Marca:\",self.marca,\"\\nModelo:\",self.modelo,\"\\nEn Marcha:\",self.enmarcha,\"\\nAcelerando:\",\n",
    "              self.acelera,\"\\nFrenando:\",self.frena)\n",
    "        \n",
    "class Furgoneta(vehiculos):\n",
    "    def carga(self,cargar):\n",
    "        self.cargado=cargar\n",
    "        if(self.cargado):\n",
    "            return \"La furgoneta esta cargada\"\n",
    "        else:\n",
    "            return \"La furgoneta no esta cargada\"\n",
    "        \n",
    "class Moto(vehiculos):\n",
    "    hcaballito=\"\"\n",
    "    def caballito(self):\n",
    "        self.hcaballito=\"Voy haciendo un caballito\"\n",
    "    def estado(self):\n",
    "        print(\"Marca:\",self.marca,\"\\nModelo:\",self.modelo,\"\\nEn Marcha:\",self.enmarcha,\"\\nAcelerando:\",\n",
    "              self.acelera,\"\\nFrenando:\",self.frena,\"\\n\",self.hcaballito)\n",
    "        \n",
    "class VElectricos(vehiculos):\n",
    "    def __init__(self,marca,modelo):\n",
    "        super().__init__(self,marca,modelo)\n",
    "        self.autonomia=100\n",
    "    def cargaenergia(self):\n",
    "        self.cargando=True\n",
    "\n",
    "class Bicielectrica (VElectricos,vehiculos):\n",
    "\n",
    "miBicielectrica=Bicielectrica(\"BH\",\"HTI\")\n",
    "\n",
    "miMoto=Moto(\"Honda\",\"XR\")\n",
    "\n",
    "miMoto.caballito()\n",
    "\n",
    "miMoto.estado()\n",
    "\n",
    "miFurgoneta=Furgoneta(\"Renault\",\"Kangoo\")\n",
    "\n",
    "miFurgoneta.arrancar()\n",
    "\n",
    "miFurgoneta.estado()\n",
    "\n",
    "print(miFurgoneta.carga(True))"
   ]
  },
  {
   "cell_type": "code",
   "execution_count": null,
   "id": "caba76c7",
   "metadata": {},
   "outputs": [],
   "source": []
  }
 ],
 "metadata": {
  "kernelspec": {
   "display_name": "Python 3",
   "language": "python",
   "name": "python3"
  },
  "language_info": {
   "codemirror_mode": {
    "name": "ipython",
    "version": 3
   },
   "file_extension": ".py",
   "mimetype": "text/x-python",
   "name": "python",
   "nbconvert_exporter": "python",
   "pygments_lexer": "ipython3",
   "version": "3.8.8"
  }
 },
 "nbformat": 4,
 "nbformat_minor": 5
}
