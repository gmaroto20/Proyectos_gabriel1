{
 "cells": [
  {
   "cell_type": "code",
   "execution_count": 1,
   "id": "f418aa82",
   "metadata": {},
   "outputs": [],
   "source": [
    "#La serializacion consiste en guardar en un fichero externo una coleccion (lista por ej)\n",
    "#un diccionario o un objeto\n",
    "#la particularidad es que se guarda en un fichero ext de codigo binario (1110000111)\n",
    "# por ej para repartirlo por internet, acceder a una BBDD\n",
    "#hay que utilizar una biblioteca de Python (pickle) y en ella dos metodos:dump() para el volcado (meter)\n",
    "#load()para la carga (sacar)"
   ]
  },
  {
   "cell_type": "code",
   "execution_count": null,
   "id": "7eb1f3d8",
   "metadata": {},
   "outputs": [],
   "source": [
    "import pickle\n",
    "listanombres=[\"pedro\",\"juana\",\"rocio\",\"ana\"]\n",
    "ficherobinario=open(\"listado_nombres\",\"wb\",encoding='utf-8')"
   ]
  },
  {
   "cell_type": "code",
   "execution_count": 2,
   "id": "7ccfff33",
   "metadata": {},
   "outputs": [],
   "source": [
    "#a continuacion tenemos que hacer un volcado dela lista al fichero ext"
   ]
  },
  {
   "cell_type": "code",
   "execution_count": 4,
   "id": "015ea821",
   "metadata": {},
   "outputs": [],
   "source": [
    "import pickle\n",
    "listanombres=[\"pedro\",\"juana\",\"rocio\",\"ana\"]\n",
    "ficherobinario=open(\"listado_nombres\",\"wb\")\n",
    "pickle.dump(listanombres,ficherobinario)\n",
    "ficherobinario.close()"
   ]
  },
  {
   "cell_type": "code",
   "execution_count": 5,
   "id": "902b0477",
   "metadata": {},
   "outputs": [],
   "source": [
    "#el fichero creado no se puede ver al abrirlo pero podemos leerlo desde fuera\n",
    "#primero lo abrimos (open) y luego cargamos la informacion en un parametro (lista)"
   ]
  },
  {
   "cell_type": "code",
   "execution_count": 6,
   "id": "1c2c2645",
   "metadata": {},
   "outputs": [
    {
     "name": "stdout",
     "output_type": "stream",
     "text": [
      "['pedro', 'juana', 'rocio', 'ana']\n"
     ]
    }
   ],
   "source": [
    "import pickle\n",
    "fichero=open(\"listado_nombres\",\"rb\")\n",
    "lista=pickle.load(fichero)\n",
    "print(lista)"
   ]
  },
  {
   "cell_type": "code",
   "execution_count": 7,
   "id": "efc4e452",
   "metadata": {},
   "outputs": [],
   "source": [
    "#vamos a serializar objetos (nos traemos el vehiculo) y definimos 3 objetos que metemos en una lista\n",
    "#creamos el fichero con open (nombre y modo de abrirlo, wb o rb)\n",
    "#hacemos el volcado,cerramos e incluso podemos borrarlo de la memoria pq ya lo tenemos en el  ext"
   ]
  },
  {
   "cell_type": "code",
   "execution_count": 9,
   "id": "c623d65b",
   "metadata": {},
   "outputs": [],
   "source": [
    "import pickle\n",
    "\n",
    "class vehiculos():\n",
    "    def __init__(self,marca,modelo):\n",
    "        self.marca=marca\n",
    "        self.modelo=modelo\n",
    "        self.enmarcha=False\n",
    "        self.acelera=False\n",
    "        self.frena=False\n",
    "        \n",
    "    def arrancar(self):\n",
    "        self.enmarcha=True\n",
    "        \n",
    "    def acelerar(self):\n",
    "        self.acelera=True\n",
    "        \n",
    "    def frenar(self):\n",
    "        self.frena=True\n",
    "        \n",
    "    def estado(self):\n",
    "        print(\"Marca:\",self.marca,\"\\nModelo:\",self.modelo,\"\\nEn Marcha:\",self.enmarcha,\"\\nAcelerando:\",\n",
    "              self.acelera,\"\\nFrenando:\",self.frena)\n",
    "        \n",
    "coche1=vehiculos(\"seat\",\"ibiza\")\n",
    "        \n",
    "coche2=vehiculos(\"renault\",\"megane\")\n",
    "\n",
    "coche3=vehiculos(\"nisan\",\"casqai\")\n",
    "\n",
    "coches=[coche1,coche2,coche3]\n",
    "\n",
    "fichero=open(\"loscoches\",\"wb\")\n",
    "\n",
    "pickle.dump(coches,fichero)\n",
    "\n",
    "fichero.close()\n",
    "\n",
    "del (fichero)"
   ]
  },
  {
   "cell_type": "code",
   "execution_count": 10,
   "id": "1fa2d7fe",
   "metadata": {},
   "outputs": [],
   "source": [
    "#una vez creado el fichero ext vamos a hacer una recuperacion de datos"
   ]
  },
  {
   "cell_type": "code",
   "execution_count": 13,
   "id": "bf99ba8c",
   "metadata": {},
   "outputs": [
    {
     "name": "stdout",
     "output_type": "stream",
     "text": [
      "Marca: seat \n",
      "Modelo: ibiza \n",
      "En Marcha: False \n",
      "Acelerando: False \n",
      "Frenando: False\n",
      "None\n",
      "Marca: renault \n",
      "Modelo: megane \n",
      "En Marcha: False \n",
      "Acelerando: False \n",
      "Frenando: False\n",
      "None\n",
      "Marca: nisan \n",
      "Modelo: casqai \n",
      "En Marcha: False \n",
      "Acelerando: False \n",
      "Frenando: False\n",
      "None\n"
     ]
    }
   ],
   "source": [
    "import pickle\n",
    "\n",
    "class vehiculos():\n",
    "    def __init__(self,marca,modelo):\n",
    "        self.marca=marca\n",
    "        self.modelo=modelo\n",
    "        self.enmarcha=False\n",
    "        self.acelera=False\n",
    "        self.frena=False\n",
    "        \n",
    "    def arrancar(self):\n",
    "        self.enmarcha=True\n",
    "        \n",
    "    def acelerar(self):\n",
    "        self.acelera=True\n",
    "        \n",
    "    def frenar(self):\n",
    "        self.frena=True\n",
    "        \n",
    "    def estado(self):\n",
    "        print(\"Marca:\",self.marca,\"\\nModelo:\",self.modelo,\"\\nEn Marcha:\",self.enmarcha,\"\\nAcelerando:\",\n",
    "              self.acelera,\"\\nFrenando:\",self.frena)\n",
    "        \n",
    "coche1=vehiculos(\"seat\",\"ibiza\")\n",
    "        \n",
    "coche2=vehiculos(\"renault\",\"megane\")\n",
    "\n",
    "coche3=vehiculos(\"nisan\",\"casqai\")\n",
    "\n",
    "coches=[coche1,coche2,coche3]\n",
    "\n",
    "fichero=open(\"loscoches\",\"wb\")\n",
    "\n",
    "pickle.dump(coches,fichero)\n",
    "\n",
    "fichero.close()\n",
    "\n",
    "del (fichero)\n",
    "\n",
    "ficheroapertura=open(\"loscoches\",\"rb\")\n",
    "\n",
    "miscoches=pickle.load(ficheroapertura)\n",
    "\n",
    "ficheroapertura.close()\n",
    "\n",
    "for c in miscoches:\n",
    "    print(c.estado())"
   ]
  },
  {
   "cell_type": "code",
   "execution_count": null,
   "id": "4ebe4e29",
   "metadata": {},
   "outputs": [],
   "source": []
  }
 ],
 "metadata": {
  "kernelspec": {
   "display_name": "Python 3",
   "language": "python",
   "name": "python3"
  },
  "language_info": {
   "codemirror_mode": {
    "name": "ipython",
    "version": 3
   },
   "file_extension": ".py",
   "mimetype": "text/x-python",
   "name": "python",
   "nbconvert_exporter": "python",
   "pygments_lexer": "ipython3",
   "version": "3.8.8"
  }
 },
 "nbformat": 4,
 "nbformat_minor": 5
}
