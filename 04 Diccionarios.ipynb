{
 "cells": [
  {
   "cell_type": "code",
   "execution_count": 1,
   "id": "0f5b7bee",
   "metadata": {},
   "outputs": [],
   "source": [
    "#los diccionarios son como listas que van entre llaves y llevan formato clave:valor"
   ]
  },
  {
   "cell_type": "code",
   "execution_count": 35,
   "id": "06a2fc70",
   "metadata": {},
   "outputs": [
    {
     "name": "stdout",
     "output_type": "stream",
     "text": [
      "{'españa': 'madrid', 'grecia': 'atenas', 'portugal': 'lisboa'}\n",
      "atenas\n"
     ]
    }
   ],
   "source": [
    "diccionario1={\"españa\":\"madrid\",\"grecia\":\"atenas\",\"portugal\":\"lisboa\"}\n",
    "print(diccionario1)\n",
    "print(diccionario1[\"grecia\"])"
   ]
  },
  {
   "cell_type": "code",
   "execution_count": 36,
   "id": "0a79274d",
   "metadata": {},
   "outputs": [],
   "source": [
    "#para añadir elementos clave:valor o modificar(si se añade nuevo valor a una clave)"
   ]
  },
  {
   "cell_type": "code",
   "execution_count": 37,
   "id": "696e943f",
   "metadata": {},
   "outputs": [
    {
     "name": "stdout",
     "output_type": "stream",
     "text": [
      "{'españa': 'madrid', 'grecia': 'atenas', 'portugal': 'lisboa', 'italia': 'roma'}\n"
     ]
    }
   ],
   "source": [
    "diccionario1={\"españa\":\"madrid\",\"grecia\":\"atenas\",\"portugal\":\"lisboa\"}\n",
    "diccionario1[\"italia\"]=\"roma\"\n",
    "print(diccionario1)"
   ]
  },
  {
   "cell_type": "code",
   "execution_count": 38,
   "id": "f1d27d2f",
   "metadata": {},
   "outputs": [],
   "source": [
    "#para quitar elementos"
   ]
  },
  {
   "cell_type": "code",
   "execution_count": 39,
   "id": "67b8d20e",
   "metadata": {},
   "outputs": [
    {
     "name": "stdout",
     "output_type": "stream",
     "text": [
      "{'españa': 'madrid', 'grecia': 'atenas'}\n"
     ]
    }
   ],
   "source": [
    "diccionario1={\"españa\":\"madrid\",\"grecia\":\"atenas\",\"portugal\":\"lisboa\"}\n",
    "del diccionario1[\"portugal\"]\n",
    "print(diccionario1)"
   ]
  },
  {
   "cell_type": "code",
   "execution_count": 40,
   "id": "d69129a3",
   "metadata": {},
   "outputs": [],
   "source": [
    "#para ver las claves o valores"
   ]
  },
  {
   "cell_type": "code",
   "execution_count": 50,
   "id": "3029cb3f",
   "metadata": {},
   "outputs": [
    {
     "name": "stdout",
     "output_type": "stream",
     "text": [
      "dict_keys(['españa', 'grecia', 'portugal'])\n",
      "dict_values(['madrid', 'atenas', 'lisboa'])\n"
     ]
    }
   ],
   "source": [
    "diccionario1={\"españa\":\"madrid\",\"grecia\":\"atenas\",\"portugal\":\"lisboa\"}\n",
    "print(diccionario1.keys())\n",
    "print(diccionario1.values())\n",
    "prin"
   ]
  },
  {
   "cell_type": "code",
   "execution_count": 42,
   "id": "440f3ef2",
   "metadata": {},
   "outputs": [],
   "source": [
    "#se puede utilizar tuplas para asignar valores"
   ]
  },
  {
   "cell_type": "code",
   "execution_count": 43,
   "id": "0e738185",
   "metadata": {},
   "outputs": [
    {
     "name": "stdout",
     "output_type": "stream",
     "text": [
      "{'suiza': 'berna', 'belgica': 'bruselas', 'noruega': 'oslo'}\n",
      "bruselas\n"
     ]
    }
   ],
   "source": [
    "tupla1=[\"suiza\",\"belgica\",\"noruega\"]\n",
    "diccionario1={tupla1[0]:\"berna\",tupla1[1]:\"bruselas\",tupla1[2]:\"oslo\"}\n",
    "print(diccionario1)\n",
    "print(diccionario1[\"belgica\"])"
   ]
  },
  {
   "cell_type": "code",
   "execution_count": 44,
   "id": "b3d211e0",
   "metadata": {},
   "outputs": [],
   "source": [
    "#se puede utilizar una tupla como valor"
   ]
  },
  {
   "cell_type": "code",
   "execution_count": 45,
   "id": "0f6f7772",
   "metadata": {},
   "outputs": [
    {
     "name": "stdout",
     "output_type": "stream",
     "text": [
      "[23, 24, 25]\n"
     ]
    }
   ],
   "source": [
    "diccionario1={\"españa\":\"madrid\",\"grecia\":\"atenas\",\"portugal\":\"lisboa\", \"anillos\":[23,24,25]}\n",
    "print(diccionario1[\"anillos\"])"
   ]
  },
  {
   "cell_type": "code",
   "execution_count": 46,
   "id": "7397d621",
   "metadata": {},
   "outputs": [],
   "source": [
    "#o un diccionario dentro de otro"
   ]
  },
  {
   "cell_type": "code",
   "execution_count": 48,
   "id": "6d31a134",
   "metadata": {},
   "outputs": [
    {
     "name": "stdout",
     "output_type": "stream",
     "text": [
      "{'titulos': [23, 24, 25]}\n"
     ]
    }
   ],
   "source": [
    "diccionario1={\"españa\":\"madrid\",\"grecia\":\"atenas\",\"portugal\":\"lisboa\", \"anillos\":{\"titulos\":[23,24,25]}}\n",
    "print(diccionario1[\"anillos\"])"
   ]
  },
  {
   "cell_type": "code",
   "execution_count": null,
   "id": "2ed92149",
   "metadata": {},
   "outputs": [],
   "source": []
  }
 ],
 "metadata": {
  "kernelspec": {
   "display_name": "Python 3",
   "language": "python",
   "name": "python3"
  },
  "language_info": {
   "codemirror_mode": {
    "name": "ipython",
    "version": 3
   },
   "file_extension": ".py",
   "mimetype": "text/x-python",
   "name": "python",
   "nbconvert_exporter": "python",
   "pygments_lexer": "ipython3",
   "version": "3.8.8"
  }
 },
 "nbformat": 4,
 "nbformat_minor": 5
}
