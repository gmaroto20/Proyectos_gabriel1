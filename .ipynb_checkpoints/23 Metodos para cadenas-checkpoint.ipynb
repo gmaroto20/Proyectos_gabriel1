{
 "cells": [
  {
   "cell_type": "code",
   "execution_count": 1,
   "id": "313511ec",
   "metadata": {},
   "outputs": [],
   "source": [
    "#vamos a ver los diferentes metodos que existen para modificar el objeto= cadena de caracteres (string)\n",
    "#es muy utilizado (introducir un mail por ej), Algunos de los mas utilizados son:\n",
    "# upper()=convierte todo en mayusculas\n",
    "# lower()= convierte todo en minusculas\n",
    "# capitalize()=Convierte solo la primera letra a may\n",
    "# count()=cuenta cuantas veces aparece una letra o una cadena de caracteres en un string\n",
    "# find()= posicion de un caracter empezando desde delante\n",
    "# rfind()=posicion de un caracter empezando desde atras\n",
    "# isdigit()= indica si el valor introducido es un digito o no (booleano True o False)\n",
    "# isalum()= indica si el valor introducido es alfanumerico\n",
    "# isalpha()= si hay solo letras, los espacios no cuentan\n",
    "# split()= separa por palabras utilizando espacios\n",
    "# sprit()= borra espacios sobrantes al principio y al final\n",
    "# replace()= cambia una palabra por otra o una letra por otra"
   ]
  },
  {
   "cell_type": "code",
   "execution_count": null,
   "id": "19121008",
   "metadata": {},
   "outputs": [],
   "source": [
    "#interesante es la pagina Web:\n",
    "# preguntar por \"documentacion de Python\"....\"refencia de bibliotecas\"....\"tipos secuenciales\"...\n",
    "#...\"metodos de las cadenas\""
   ]
  },
  {
   "cell_type": "code",
   "execution_count": 4,
   "id": "951a0068",
   "metadata": {},
   "outputs": [
    {
     "name": "stdout",
     "output_type": "stream",
     "text": [
      "introduce tu nombre de usuario:juan\n",
      "el nombre de usuario es: juan\n"
     ]
    }
   ],
   "source": [
    "nombreusuario=input(\"introduce tu nombre de usuario:\")\n",
    "print(\"el nombre de usuario es:\",nombreusuario)"
   ]
  },
  {
   "cell_type": "code",
   "execution_count": 5,
   "id": "d4b79faf",
   "metadata": {},
   "outputs": [],
   "source": [
    "# si utilizamos upper()"
   ]
  },
  {
   "cell_type": "code",
   "execution_count": 6,
   "id": "d46570d6",
   "metadata": {},
   "outputs": [
    {
     "name": "stdout",
     "output_type": "stream",
     "text": [
      "introduce tu nombre de usuario:juan\n",
      "el nombre de usuario es: JUAN\n"
     ]
    }
   ],
   "source": [
    "nombreusuario=input(\"introduce tu nombre de usuario:\")\n",
    "print(\"el nombre de usuario es:\",nombreusuario.upper())"
   ]
  },
  {
   "cell_type": "code",
   "execution_count": 7,
   "id": "b6edb440",
   "metadata": {},
   "outputs": [
    {
     "name": "stdout",
     "output_type": "stream",
     "text": [
      "introduce tu nombre de usuario:JUAn\n",
      "el nombre de usuario es: juan\n"
     ]
    }
   ],
   "source": [
    "nombreusuario=input(\"introduce tu nombre de usuario:\")\n",
    "print(\"el nombre de usuario es:\",nombreusuario.lower())"
   ]
  },
  {
   "cell_type": "code",
   "execution_count": 8,
   "id": "6a7d9757",
   "metadata": {},
   "outputs": [
    {
     "name": "stdout",
     "output_type": "stream",
     "text": [
      "introduce tu nombre de usuario:juan\n",
      "el nombre de usuario es: Juan\n"
     ]
    }
   ],
   "source": [
    "nombreusuario=input(\"introduce tu nombre de usuario:\")\n",
    "print(\"el nombre de usuario es:\",nombreusuario.capitalize())"
   ]
  },
  {
   "cell_type": "code",
   "execution_count": 9,
   "id": "23a01661",
   "metadata": {},
   "outputs": [],
   "source": [
    "# para comprobar si la edad introducida es digito o no"
   ]
  },
  {
   "cell_type": "code",
   "execution_count": 12,
   "id": "01f4e031",
   "metadata": {},
   "outputs": [
    {
     "name": "stdout",
     "output_type": "stream",
     "text": [
      "introduce tu edad:89\n",
      "True\n"
     ]
    }
   ],
   "source": [
    "edad=input(\"introduce tu edad:\")\n",
    "print(edad.isdigit())"
   ]
  },
  {
   "cell_type": "code",
   "execution_count": 13,
   "id": "c2689183",
   "metadata": {},
   "outputs": [
    {
     "name": "stdout",
     "output_type": "stream",
     "text": [
      "introduce tu edad:paco\n",
      "False\n"
     ]
    }
   ],
   "source": [
    "edad=input(\"introduce tu edad:\")\n",
    "print(edad.isdigit())"
   ]
  },
  {
   "cell_type": "code",
   "execution_count": 14,
   "id": "ab48423b",
   "metadata": {},
   "outputs": [],
   "source": [
    "# otro ejemplo "
   ]
  },
  {
   "cell_type": "code",
   "execution_count": 16,
   "id": "dc29b9c2",
   "metadata": {},
   "outputs": [
    {
     "name": "stdout",
     "output_type": "stream",
     "text": [
      "introduce tu edad:34\n",
      "puedes pasar\n"
     ]
    }
   ],
   "source": [
    "edad=input(\"introduce tu edad:\")\n",
    "if(int(edad)<18):\n",
    "    print(\"no puedes entrar\")\n",
    "else:\n",
    "    print(\"puedes pasar\")"
   ]
  },
  {
   "cell_type": "code",
   "execution_count": 17,
   "id": "71644bd5",
   "metadata": {},
   "outputs": [],
   "source": [
    "# pero si introducimos un texto"
   ]
  },
  {
   "cell_type": "code",
   "execution_count": 18,
   "id": "3d04a1aa",
   "metadata": {},
   "outputs": [
    {
     "name": "stdout",
     "output_type": "stream",
     "text": [
      "introduce tu edad:yuuu\n"
     ]
    },
    {
     "ename": "ValueError",
     "evalue": "invalid literal for int() with base 10: 'yuuu'",
     "output_type": "error",
     "traceback": [
      "\u001b[1;31m---------------------------------------------------------------------------\u001b[0m",
      "\u001b[1;31mValueError\u001b[0m                                Traceback (most recent call last)",
      "\u001b[1;32m<ipython-input-18-ac7e6473c939>\u001b[0m in \u001b[0;36m<module>\u001b[1;34m\u001b[0m\n\u001b[0;32m      1\u001b[0m \u001b[0medad\u001b[0m\u001b[1;33m=\u001b[0m\u001b[0minput\u001b[0m\u001b[1;33m(\u001b[0m\u001b[1;34m\"introduce tu edad:\"\u001b[0m\u001b[1;33m)\u001b[0m\u001b[1;33m\u001b[0m\u001b[1;33m\u001b[0m\u001b[0m\n\u001b[1;32m----> 2\u001b[1;33m \u001b[1;32mif\u001b[0m\u001b[1;33m(\u001b[0m\u001b[0mint\u001b[0m\u001b[1;33m(\u001b[0m\u001b[0medad\u001b[0m\u001b[1;33m)\u001b[0m\u001b[1;33m<\u001b[0m\u001b[1;36m18\u001b[0m\u001b[1;33m)\u001b[0m\u001b[1;33m:\u001b[0m\u001b[1;33m\u001b[0m\u001b[1;33m\u001b[0m\u001b[0m\n\u001b[0m\u001b[0;32m      3\u001b[0m     \u001b[0mprint\u001b[0m\u001b[1;33m(\u001b[0m\u001b[1;34m\"no puedes entrar\"\u001b[0m\u001b[1;33m)\u001b[0m\u001b[1;33m\u001b[0m\u001b[1;33m\u001b[0m\u001b[0m\n\u001b[0;32m      4\u001b[0m \u001b[1;32melse\u001b[0m\u001b[1;33m:\u001b[0m\u001b[1;33m\u001b[0m\u001b[1;33m\u001b[0m\u001b[0m\n\u001b[0;32m      5\u001b[0m     \u001b[0mprint\u001b[0m\u001b[1;33m(\u001b[0m\u001b[1;34m\"puedes pasar\"\u001b[0m\u001b[1;33m)\u001b[0m\u001b[1;33m\u001b[0m\u001b[1;33m\u001b[0m\u001b[0m\n",
      "\u001b[1;31mValueError\u001b[0m: invalid literal for int() with base 10: 'yuuu'"
     ]
    }
   ],
   "source": [
    "edad=input(\"introduce tu edad:\")\n",
    "if(int(edad)<18):\n",
    "    print(\"no puedes entrar\")\n",
    "else:\n",
    "    print(\"puedes pasar\")"
   ]
  },
  {
   "cell_type": "code",
   "execution_count": 19,
   "id": "f48068fa",
   "metadata": {},
   "outputs": [],
   "source": [
    "# por lo tanto"
   ]
  },
  {
   "cell_type": "code",
   "execution_count": 1,
   "id": "4883b3ac",
   "metadata": {},
   "outputs": [
    {
     "name": "stdout",
     "output_type": "stream",
     "text": [
      "introduce tu edad:yyy\n",
      "introduzca un valor numerico, por favor:\n",
      "introduce tu edad:78\n",
      "puedes pasar\n"
     ]
    }
   ],
   "source": [
    "edad=input(\"introduce tu edad:\")\n",
    "\n",
    "while (edad.isdigit())==False:\n",
    "    print(\"introduzca un valor numerico, por favor:\")\n",
    "    edad=input(\"introduce tu edad:\")\n",
    "    \n",
    "if(int(edad)<18):\n",
    "    print(\"no puedes entrar\")\n",
    "else:\n",
    "    print(\"puedes pasar\")"
   ]
  },
  {
   "cell_type": "code",
   "execution_count": null,
   "id": "f49dc80b",
   "metadata": {},
   "outputs": [],
   "source": []
  }
 ],
 "metadata": {
  "kernelspec": {
   "display_name": "Python 3",
   "language": "python",
   "name": "python3"
  },
  "language_info": {
   "codemirror_mode": {
    "name": "ipython",
    "version": 3
   },
   "file_extension": ".py",
   "mimetype": "text/x-python",
   "name": "python",
   "nbconvert_exporter": "python",
   "pygments_lexer": "ipython3",
   "version": "3.8.8"
  }
 },
 "nbformat": 4,
 "nbformat_minor": 5
}
