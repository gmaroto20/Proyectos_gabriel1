{
 "cells": [
  {
   "cell_type": "code",
   "execution_count": 2,
   "id": "6f48eeb9",
   "metadata": {},
   "outputs": [],
   "source": [
    "#la programacion orientada a objetos consiste en llevar las caracteristicas de un objeto a un programa\n",
    "#Considerando un objeto,instancia o ejemplar (un coche por ej)vamos a definir lo que es una clase.\n",
    "#clase: modulo de caracteristicas (estado,propiedades y comportamiento) comunes a varios objetos\n",
    "#(chasis y ruedas de todos los coches por ej)\n",
    "#dentro de una clase habra que tener en cuenta su estado (coche parado, en marcha)\n",
    "#sus propiedades (color,anchura, largo etc)\n",
    "#y comportamiento(metodo, que puede hacer??) (arrancar, frenar,girar etc)\n",
    "#los objetos tienen a su vez propiedades, caracteristicas y comportamientos propios\n",
    "#modularizacion: un programa consta de una o varias clases diferentes (ej del equipo de musica)\n",
    "# nomenclatura: objeto.propiedad= rojo, para propiedades, objeto.comportamiento(), para metodos\n",
    "#vamos a construir una clase en lenguaje de programa, introduciendo propiedades y estado"
   ]
  },
  {
   "cell_type": "code",
   "execution_count": 3,
   "id": "4f899475",
   "metadata": {},
   "outputs": [],
   "source": [
    "class coche():\n",
    "    largochasis=250\n",
    "    anchochasis=120\n",
    "    ruedas=4\n",
    "    enmarcha=False"
   ]
  },
  {
   "cell_type": "code",
   "execution_count": 4,
   "id": "30970015",
   "metadata": {},
   "outputs": [],
   "source": [
    "#luego introducimos el comportamiento o metodo (puede tener varios metodos),creamos un metodo\n",
    "#lo introducimos mediante un def especial para metodos y (self), este hace referencia a la misma clase"
   ]
  },
  {
   "cell_type": "code",
   "execution_count": 1,
   "id": "d32c1d48",
   "metadata": {},
   "outputs": [],
   "source": [
    "class coche():\n",
    "    largochasis=250\n",
    "    anchochasis=120\n",
    "    ruedas=4\n",
    "    enmarcha=False\n",
    "    \n",
    "    def arrancar(self):\n",
    "        self.enmarcha=True"
   ]
  },
  {
   "cell_type": "code",
   "execution_count": 7,
   "id": "162c2f15",
   "metadata": {},
   "outputs": [],
   "source": [
    "#a continuacion introducimos el objeto micoche con lo que habremos instanciado la clase \n",
    "#micoche=coche() es la nomenclatura para instanciar"
   ]
  },
  {
   "cell_type": "code",
   "execution_count": null,
   "id": "0c5b51d2",
   "metadata": {},
   "outputs": [],
   "source": [
    "class coche():\n",
    "    largochasis=250\n",
    "    anchochasis=120\n",
    "    ruedas=4\n",
    "    enmarcha=False\n",
    "    \n",
    "    def arrancar(self):\n",
    "         self.enmarcha=True \n",
    "            \n",
    "micoche=coche()\n",
    "\n",
    "print(\"el largo del coche es:\",micoche.largochasis)\n",
    "print(\"el coche tiene\",micoche.ruedas,\"ruedas\")"
   ]
  },
  {
   "cell_type": "code",
   "execution_count": 8,
   "id": "bc60d5cf",
   "metadata": {},
   "outputs": [],
   "source": [
    "# ahora vemos el sentido del self que coge el objeto que hemos definido (micoche) a posteriori"
   ]
  },
  {
   "cell_type": "code",
   "execution_count": null,
   "id": "012be12d",
   "metadata": {},
   "outputs": [],
   "source": [
    "class coche():\n",
    "    largochasis=250\n",
    "    anchochasis=120\n",
    "    ruedas=4\n",
    "    enmarcha=False\n",
    "    def arrancar(self):\n",
    "        self.enmarcha=True\n",
    "               \n",
    "micoche=coche()\n",
    "\n",
    "print(\"el largo del coche es:\"\",micoche.largochasis)\n",
    "print(\"el coche tiene\",micoche.ruedas,\"ruedas\")\n",
    "      \n",
    "micoche.arrancar()"
   ]
  },
  {
   "cell_type": "code",
   "execution_count": 9,
   "id": "66f3f375",
   "metadata": {},
   "outputs": [],
   "source": [
    "#solo faltaria saber si el coche esta en marcha o parado, definimos otro metodo"
   ]
  },
  {
   "cell_type": "code",
   "execution_count": 14,
   "id": "0d9571ae",
   "metadata": {},
   "outputs": [
    {
     "name": "stdout",
     "output_type": "stream",
     "text": [
      "el largo del coche es: 250\n",
      "el coche tiene 4 ruedas\n",
      "el coche esta en marcha\n"
     ]
    }
   ],
   "source": [
    "class coche():\n",
    "    largochasis=250\n",
    "    anchochasis=120\n",
    "    ruedas=4\n",
    "    enmarcha=False\n",
    "    \n",
    "    def arrancar(self):\n",
    "        self.enmarcha=True\n",
    "        \n",
    "    def estado(self):\n",
    "        if (self.enmarcha):\n",
    "            return(\"el coche esta en marcha\")\n",
    "        else:\n",
    "            return(\"el coche esta parado\")\n",
    "               \n",
    "micoche=coche()\n",
    "\n",
    "print(\"el largo del coche es:\",micoche.largochasis)\n",
    "print(\"el coche tiene\",micoche.ruedas,\"ruedas\")\n",
    "\n",
    "micoche.arrancar()\n",
    "\n",
    "print(micoche.estado())"
   ]
  },
  {
   "cell_type": "code",
   "execution_count": 15,
   "id": "ef128953",
   "metadata": {},
   "outputs": [],
   "source": [
    "# si quitamos la condicion micoche.arrancar(), nos dara que esta parado"
   ]
  },
  {
   "cell_type": "code",
   "execution_count": 16,
   "id": "bcb4fd4b",
   "metadata": {},
   "outputs": [
    {
     "name": "stdout",
     "output_type": "stream",
     "text": [
      "el largo del coche es: 250\n",
      "el coche tiene 4 ruedas\n",
      "el coche esta parado\n"
     ]
    }
   ],
   "source": [
    "class coche():\n",
    "    largochasis=250\n",
    "    anchochasis=120\n",
    "    ruedas=4\n",
    "    enmarcha=False\n",
    "    \n",
    "    def arrancar(self):\n",
    "        self.enmarcha=True\n",
    "        \n",
    "    def estado(self):\n",
    "        if (self.enmarcha):\n",
    "            return(\"el coche esta en marcha\")\n",
    "        else:\n",
    "            return(\"el coche esta parado\")\n",
    "               \n",
    "micoche=coche()\n",
    "\n",
    "print(\"el largo del coche es:\",micoche.largochasis)\n",
    "print(\"el coche tiene\",micoche.ruedas,\"ruedas\")\n",
    "\n",
    "print(micoche.estado())"
   ]
  },
  {
   "cell_type": "code",
   "execution_count": null,
   "id": "7b69413e",
   "metadata": {},
   "outputs": [],
   "source": [
    "#como vemos la clase coche tiene 4 propiedades y 2 metodos (en la misma sangria)"
   ]
  }
 ],
 "metadata": {
  "kernelspec": {
   "display_name": "Python 3",
   "language": "python",
   "name": "python3"
  },
  "language_info": {
   "codemirror_mode": {
    "name": "ipython",
    "version": 3
   },
   "file_extension": ".py",
   "mimetype": "text/x-python",
   "name": "python",
   "nbconvert_exporter": "python",
   "pygments_lexer": "ipython3",
   "version": "3.8.8"
  }
 },
 "nbformat": 4,
 "nbformat_minor": 5
}
