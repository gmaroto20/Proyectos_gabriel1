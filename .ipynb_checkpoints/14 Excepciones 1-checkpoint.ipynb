{
 "cells": [
  {
   "cell_type": "code",
   "execution_count": 1,
   "id": "10bc2749",
   "metadata": {},
   "outputs": [],
   "source": [
    "#Dentro de un programa puede fallar una linea de codigo que impide que el programa continue\n",
    "#Se puede interrumpir esta linea mediante una excepcion y continuara el programa en la linea siguiente\n",
    "#en el siguiente ej al dividir por cero se produce un error"
   ]
  },
  {
   "cell_type": "code",
   "execution_count": 11,
   "id": "65457039",
   "metadata": {},
   "outputs": [
    {
     "name": "stdout",
     "output_type": "stream",
     "text": [
      "introduzca un numero:8\n",
      "introduzca un numero:2\n",
      "introduzca una operacion(suma,resta,multiplica,divide):divide\n",
      "4.0\n",
      "operacion ejecutada\n"
     ]
    }
   ],
   "source": [
    "def suma(num1,num2):\n",
    "    return(num1+num2)\n",
    "def resta(num1,num2):\n",
    "    return(num1-num2)\n",
    "def multiplica(num1,num2):\n",
    "    return(num1*num2)\n",
    "def divide(num1,num2):\n",
    "    return(num1/num2)\n",
    "op1=int(input(\"introduzca un numero:\"))\n",
    "op2=int(input(\"introduzca un numero:\"))\n",
    "operacion=input(\"introduzca una operacion(suma,resta,multiplica,divide):\")\n",
    "if operacion==\"suma\":\n",
    "    print(suma(op1,op2))\n",
    "elif operacion==\"resta\":\n",
    "    print(resta(op1,op2))\n",
    "elif operacion==\"multiplica\":\n",
    "    print(multiplica(op1,op2))\n",
    "elif operacion==\"divide\":\n",
    "    print(divide(op1,op2))\n",
    "else:\n",
    "    print(\"operacion no contemplada\")\n",
    "    \n",
    "print(\"operacion ejecutada\")\n",
    "\n"
   ]
  },
  {
   "cell_type": "code",
   "execution_count": null,
   "id": "94efa8d5",
   "metadata": {},
   "outputs": [],
   "source": [
    "#pero si dividimos por cero"
   ]
  },
  {
   "cell_type": "code",
   "execution_count": 12,
   "id": "17a766e3",
   "metadata": {},
   "outputs": [
    {
     "name": "stdout",
     "output_type": "stream",
     "text": [
      "introduzca un numero:7\n",
      "introduzca un numero:0\n",
      "introduzca una operacion(suma,resta,multiplica,divide):divide\n"
     ]
    },
    {
     "ename": "ZeroDivisionError",
     "evalue": "division by zero",
     "output_type": "error",
     "traceback": [
      "\u001b[1;31m---------------------------------------------------------------------------\u001b[0m",
      "\u001b[1;31mZeroDivisionError\u001b[0m                         Traceback (most recent call last)",
      "\u001b[1;32m<ipython-input-12-5b573459705f>\u001b[0m in \u001b[0;36m<module>\u001b[1;34m\u001b[0m\n\u001b[0;32m     17\u001b[0m     \u001b[0mprint\u001b[0m\u001b[1;33m(\u001b[0m\u001b[0mmultiplica\u001b[0m\u001b[1;33m(\u001b[0m\u001b[0mop1\u001b[0m\u001b[1;33m,\u001b[0m\u001b[0mop2\u001b[0m\u001b[1;33m)\u001b[0m\u001b[1;33m)\u001b[0m\u001b[1;33m\u001b[0m\u001b[1;33m\u001b[0m\u001b[0m\n\u001b[0;32m     18\u001b[0m \u001b[1;32melif\u001b[0m \u001b[0moperacion\u001b[0m\u001b[1;33m==\u001b[0m\u001b[1;34m\"divide\"\u001b[0m\u001b[1;33m:\u001b[0m\u001b[1;33m\u001b[0m\u001b[1;33m\u001b[0m\u001b[0m\n\u001b[1;32m---> 19\u001b[1;33m     \u001b[0mprint\u001b[0m\u001b[1;33m(\u001b[0m\u001b[0mdivide\u001b[0m\u001b[1;33m(\u001b[0m\u001b[0mop1\u001b[0m\u001b[1;33m,\u001b[0m\u001b[0mop2\u001b[0m\u001b[1;33m)\u001b[0m\u001b[1;33m)\u001b[0m\u001b[1;33m\u001b[0m\u001b[1;33m\u001b[0m\u001b[0m\n\u001b[0m\u001b[0;32m     20\u001b[0m \u001b[1;32melse\u001b[0m\u001b[1;33m:\u001b[0m\u001b[1;33m\u001b[0m\u001b[1;33m\u001b[0m\u001b[0m\n\u001b[0;32m     21\u001b[0m     \u001b[0mprint\u001b[0m\u001b[1;33m(\u001b[0m\u001b[1;34m\"operacion no contemplada\"\u001b[0m\u001b[1;33m)\u001b[0m\u001b[1;33m\u001b[0m\u001b[1;33m\u001b[0m\u001b[0m\n",
      "\u001b[1;32m<ipython-input-12-5b573459705f>\u001b[0m in \u001b[0;36mdivide\u001b[1;34m(num1, num2)\u001b[0m\n\u001b[0;32m      6\u001b[0m     \u001b[1;32mreturn\u001b[0m\u001b[1;33m(\u001b[0m\u001b[0mnum1\u001b[0m\u001b[1;33m*\u001b[0m\u001b[0mnum2\u001b[0m\u001b[1;33m)\u001b[0m\u001b[1;33m\u001b[0m\u001b[1;33m\u001b[0m\u001b[0m\n\u001b[0;32m      7\u001b[0m \u001b[1;32mdef\u001b[0m \u001b[0mdivide\u001b[0m\u001b[1;33m(\u001b[0m\u001b[0mnum1\u001b[0m\u001b[1;33m,\u001b[0m\u001b[0mnum2\u001b[0m\u001b[1;33m)\u001b[0m\u001b[1;33m:\u001b[0m\u001b[1;33m\u001b[0m\u001b[1;33m\u001b[0m\u001b[0m\n\u001b[1;32m----> 8\u001b[1;33m     \u001b[1;32mreturn\u001b[0m\u001b[1;33m(\u001b[0m\u001b[0mnum1\u001b[0m\u001b[1;33m/\u001b[0m\u001b[0mnum2\u001b[0m\u001b[1;33m)\u001b[0m\u001b[1;33m\u001b[0m\u001b[1;33m\u001b[0m\u001b[0m\n\u001b[0m\u001b[0;32m      9\u001b[0m \u001b[0mop1\u001b[0m\u001b[1;33m=\u001b[0m\u001b[0mint\u001b[0m\u001b[1;33m(\u001b[0m\u001b[0minput\u001b[0m\u001b[1;33m(\u001b[0m\u001b[1;34m\"introduzca un numero:\"\u001b[0m\u001b[1;33m)\u001b[0m\u001b[1;33m)\u001b[0m\u001b[1;33m\u001b[0m\u001b[1;33m\u001b[0m\u001b[0m\n\u001b[0;32m     10\u001b[0m \u001b[0mop2\u001b[0m\u001b[1;33m=\u001b[0m\u001b[0mint\u001b[0m\u001b[1;33m(\u001b[0m\u001b[0minput\u001b[0m\u001b[1;33m(\u001b[0m\u001b[1;34m\"introduzca un numero:\"\u001b[0m\u001b[1;33m)\u001b[0m\u001b[1;33m)\u001b[0m\u001b[1;33m\u001b[0m\u001b[1;33m\u001b[0m\u001b[0m\n",
      "\u001b[1;31mZeroDivisionError\u001b[0m: division by zero"
     ]
    }
   ],
   "source": [
    "c"
   ]
  },
  {
   "cell_type": "code",
   "execution_count": 13,
   "id": "7fad471f",
   "metadata": {},
   "outputs": [],
   "source": [
    "#hay que hacer una captura o control de excepciones\n",
    "#se le indica que lo intente, try y se crea una excepcion para que continue, except\n",
    "#es necesario poner detras dell except el error que nos ha indicado el programa"
   ]
  },
  {
   "cell_type": "code",
   "execution_count": 17,
   "id": "cc685cfa",
   "metadata": {},
   "outputs": [
    {
     "name": "stdout",
     "output_type": "stream",
     "text": [
      "introduzca un numero:9\n",
      "introduzca un numero:0\n",
      "introduzca una operacion(suma,resta,multiplica,divide):divide\n",
      "no se puede dividir entre cero\n",
      "operacion erronea\n",
      "operacion ejecutada\n"
     ]
    }
   ],
   "source": [
    "def suma(num1,num2):\n",
    "    return(num1+num2)\n",
    "def resta(num1,num2):\n",
    "    return(num1-num2)\n",
    "def multiplica(num1,num2):\n",
    "    return(num1*num2)\n",
    "def divide(num1,num2):\n",
    "    try:\n",
    "        return(num1/num2)\n",
    "    except ZeroDivisionError:\n",
    "        print(\"no se puede dividir entre cero\")\n",
    "        return \"operacion erronea\"\n",
    "op1=int(input(\"introduzca un numero:\"))\n",
    "op2=int(input(\"introduzca un numero:\"))\n",
    "operacion=input(\"introduzca una operacion(suma,resta,multiplica,divide):\")\n",
    "if operacion==\"suma\":\n",
    "    print(suma(op1,op2))\n",
    "elif operacion==\"resta\":\n",
    "    print(resta(op1,op2))\n",
    "elif operacion==\"multiplica\":\n",
    "    print(multiplica(op1,op2))\n",
    "elif operacion==\"divide\":\n",
    "    print(divide(op1,op2))\n",
    "else:\n",
    "    print(\"operacion no contemplada\")\n",
    "    \n",
    "print(\"operacion ejecutada\")"
   ]
  },
  {
   "cell_type": "code",
   "execution_count": 18,
   "id": "ffb18777",
   "metadata": {},
   "outputs": [],
   "source": [
    "#puede haber otro tipo de errores,veamos un ValueError"
   ]
  },
  {
   "cell_type": "code",
   "execution_count": 19,
   "id": "db939e3e",
   "metadata": {},
   "outputs": [
    {
     "name": "stdout",
     "output_type": "stream",
     "text": [
      "introduzca un numero:pepe\n"
     ]
    },
    {
     "ename": "ValueError",
     "evalue": "invalid literal for int() with base 10: 'pepe'",
     "output_type": "error",
     "traceback": [
      "\u001b[1;31m---------------------------------------------------------------------------\u001b[0m",
      "\u001b[1;31mValueError\u001b[0m                                Traceback (most recent call last)",
      "\u001b[1;32m<ipython-input-19-5b573459705f>\u001b[0m in \u001b[0;36m<module>\u001b[1;34m\u001b[0m\n\u001b[0;32m      7\u001b[0m \u001b[1;32mdef\u001b[0m \u001b[0mdivide\u001b[0m\u001b[1;33m(\u001b[0m\u001b[0mnum1\u001b[0m\u001b[1;33m,\u001b[0m\u001b[0mnum2\u001b[0m\u001b[1;33m)\u001b[0m\u001b[1;33m:\u001b[0m\u001b[1;33m\u001b[0m\u001b[1;33m\u001b[0m\u001b[0m\n\u001b[0;32m      8\u001b[0m     \u001b[1;32mreturn\u001b[0m\u001b[1;33m(\u001b[0m\u001b[0mnum1\u001b[0m\u001b[1;33m/\u001b[0m\u001b[0mnum2\u001b[0m\u001b[1;33m)\u001b[0m\u001b[1;33m\u001b[0m\u001b[1;33m\u001b[0m\u001b[0m\n\u001b[1;32m----> 9\u001b[1;33m \u001b[0mop1\u001b[0m\u001b[1;33m=\u001b[0m\u001b[0mint\u001b[0m\u001b[1;33m(\u001b[0m\u001b[0minput\u001b[0m\u001b[1;33m(\u001b[0m\u001b[1;34m\"introduzca un numero:\"\u001b[0m\u001b[1;33m)\u001b[0m\u001b[1;33m)\u001b[0m\u001b[1;33m\u001b[0m\u001b[1;33m\u001b[0m\u001b[0m\n\u001b[0m\u001b[0;32m     10\u001b[0m \u001b[0mop2\u001b[0m\u001b[1;33m=\u001b[0m\u001b[0mint\u001b[0m\u001b[1;33m(\u001b[0m\u001b[0minput\u001b[0m\u001b[1;33m(\u001b[0m\u001b[1;34m\"introduzca un numero:\"\u001b[0m\u001b[1;33m)\u001b[0m\u001b[1;33m)\u001b[0m\u001b[1;33m\u001b[0m\u001b[1;33m\u001b[0m\u001b[0m\n\u001b[0;32m     11\u001b[0m \u001b[0moperacion\u001b[0m\u001b[1;33m=\u001b[0m\u001b[0minput\u001b[0m\u001b[1;33m(\u001b[0m\u001b[1;34m\"introduzca una operacion(suma,resta,multiplica,divide):\"\u001b[0m\u001b[1;33m)\u001b[0m\u001b[1;33m\u001b[0m\u001b[1;33m\u001b[0m\u001b[0m\n",
      "\u001b[1;31mValueError\u001b[0m: invalid literal for int() with base 10: 'pepe'"
     ]
    }
   ],
   "source": [
    "def suma(num1,num2):\n",
    "    return(num1+num2)\n",
    "def resta(num1,num2):\n",
    "    return(num1-num2)\n",
    "def multiplica(num1,num2):\n",
    "    return(num1*num2)\n",
    "def divide(num1,num2):\n",
    "    return(num1/num2)\n",
    "op1=int(input(\"introduzca un numero:\"))\n",
    "op2=int(input(\"introduzca un numero:\"))\n",
    "operacion=input(\"introduzca una operacion(suma,resta,multiplica,divide):\")\n",
    "if operacion==\"suma\":\n",
    "    print(suma(op1,op2))\n",
    "elif operacion==\"resta\":\n",
    "    print(resta(op1,op2))\n",
    "elif operacion==\"multiplica\":\n",
    "    print(multiplica(op1,op2))\n",
    "elif operacion==\"divide\":\n",
    "    print(divide(op1,op2))\n",
    "else:\n",
    "    print(\"operacion no contemplada\")\n",
    "    \n",
    "print(\"operacion ejecutada\")"
   ]
  },
  {
   "cell_type": "code",
   "execution_count": null,
   "id": "d9ddc2db",
   "metadata": {},
   "outputs": [],
   "source": []
  }
 ],
 "metadata": {
  "kernelspec": {
   "display_name": "Python 3",
   "language": "python",
   "name": "python3"
  },
  "language_info": {
   "codemirror_mode": {
    "name": "ipython",
    "version": 3
   },
   "file_extension": ".py",
   "mimetype": "text/x-python",
   "name": "python",
   "nbconvert_exporter": "python",
   "pygments_lexer": "ipython3",
   "version": "3.8.8"
  }
 },
 "nbformat": 4,
 "nbformat_minor": 5
}
