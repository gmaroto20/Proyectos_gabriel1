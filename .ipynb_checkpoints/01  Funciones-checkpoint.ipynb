{
 "cells": [
  {
   "cell_type": "code",
   "execution_count": 1,
   "id": "c8418d23",
   "metadata": {},
   "outputs": [],
   "source": [
    "#Definiendo funciones, siempre def seguido del nombre de la funcion,\n",
    "# vemos primero sin argumentos y entonces tenemos que dar de alta variables \n",
    "# y para que nos la enseñe hay que llamarla\n"
   ]
  },
  {
   "cell_type": "code",
   "execution_count": 3,
   "id": "1090f65c",
   "metadata": {},
   "outputs": [
    {
     "name": "stdout",
     "output_type": "stream",
     "text": [
      "17\n"
     ]
    }
   ],
   "source": [
    "def suma():\n",
    "    num1=9\n",
    "    num2=8\n",
    "    print(num1+num2)\n",
    "suma()\n",
    "    "
   ]
  },
  {
   "cell_type": "code",
   "execution_count": 4,
   "id": "90aab05a",
   "metadata": {},
   "outputs": [
    {
     "name": "stdout",
     "output_type": "stream",
     "text": [
      "11\n"
     ]
    }
   ],
   "source": [
    "def suma(num1,num2):\n",
    "    print(num1+num2)\n",
    "suma(5,6)\n",
    "    "
   ]
  },
  {
   "cell_type": "code",
   "execution_count": 5,
   "id": "2080f8af",
   "metadata": {},
   "outputs": [
    {
     "name": "stdout",
     "output_type": "stream",
     "text": [
      "200\n"
     ]
    }
   ],
   "source": [
    "suma(98,102)  \n"
   ]
  },
  {
   "cell_type": "code",
   "execution_count": 6,
   "id": "d2a467a6",
   "metadata": {},
   "outputs": [],
   "source": [
    "#instruccion return, guarda el valor de una variable (por ej resultado) por si lo necesitamos"
   ]
  },
  {
   "cell_type": "code",
   "execution_count": 2,
   "id": "3c7b85cf",
   "metadata": {},
   "outputs": [
    {
     "name": "stdout",
     "output_type": "stream",
     "text": [
      "12\n"
     ]
    }
   ],
   "source": [
    "def suma(num3,num4):\n",
    "    resultado=num3+num4\n",
    "    return resultado\n",
    "print(suma(5,7))"
   ]
  },
  {
   "cell_type": "code",
   "execution_count": 3,
   "id": "9bfd9312",
   "metadata": {},
   "outputs": [
    {
     "name": "stdout",
     "output_type": "stream",
     "text": [
      "12\n"
     ]
    }
   ],
   "source": [
    "def suma(num3,num4):\n",
    "    return (num3+num4)\n",
    "print(suma(5,7))"
   ]
  },
  {
   "cell_type": "code",
   "execution_count": null,
   "id": "c7cac810",
   "metadata": {},
   "outputs": [],
   "source": []
  }
 ],
 "metadata": {
  "kernelspec": {
   "display_name": "Python 3",
   "language": "python",
   "name": "python3"
  },
  "language_info": {
   "codemirror_mode": {
    "name": "ipython",
    "version": 3
   },
   "file_extension": ".py",
   "mimetype": "text/x-python",
   "name": "python",
   "nbconvert_exporter": "python",
   "pygments_lexer": "ipython3",
   "version": "3.8.8"
  }
 },
 "nbformat": 4,
 "nbformat_minor": 5
}
