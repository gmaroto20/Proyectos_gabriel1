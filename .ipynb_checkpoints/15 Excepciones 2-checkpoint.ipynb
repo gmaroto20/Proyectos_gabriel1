{
 "cells": [
  {
   "cell_type": "code",
   "execution_count": 1,
   "id": "f03ec067",
   "metadata": {},
   "outputs": [],
   "source": [
    "#se pueden añadir muchas mas excepciones seguidas en un programa"
   ]
  },
  {
   "cell_type": "code",
   "execution_count": 1,
   "id": "40aa3e33",
   "metadata": {},
   "outputs": [
    {
     "name": "stdout",
     "output_type": "stream",
     "text": [
      "introduzca un numero:6\n",
      "introduzca un numero:3\n",
      "introduzca una operacion(suma,resta,multiplica,divide):suma\n",
      "9\n",
      "operacion ejecutada\n"
     ]
    }
   ],
   "source": [
    "def suma(num1,num2):\n",
    "    return(num1+num2)\n",
    "def resta(num1,num2):\n",
    "    return(num1-num2)\n",
    "def multiplica(num1,num2):\n",
    "    return(num1*num2)\n",
    "def divide(num1,num2):\n",
    "    try:\n",
    "        return(num1/num2)\n",
    "    except ZeroDivisionError:\n",
    "        print(\"no se puede dividir entre cero\")\n",
    "        return \"operacion erronea\"\n",
    "try:\n",
    "    op1=int(input(\"introduzca un numero:\"))\n",
    "    op2=int(input(\"introduzca un numero:\"))\n",
    "except ValueError:\n",
    "        print(\"valor introducido es erroneo\")\n",
    "operacion=input(\"introduzca una operacion(suma,resta,multiplica,divide):\")\n",
    "if operacion==\"suma\":\n",
    "    print(suma(op1,op2))\n",
    "elif operacion==\"resta\":\n",
    "    print(resta(op1,op2))\n",
    "elif operacion==\"multiplica\":\n",
    "    print(multiplica(op1,op2))\n",
    "elif operacion==\"divide\":\n",
    "    print(divide(op1,op2))\n",
    "else:\n",
    "    print(\"operacion no contemplada\")\n",
    "    \n",
    "print(\"operacion ejecutada\")\n"
   ]
  },
  {
   "cell_type": "code",
   "execution_count": 2,
   "id": "0e7f72e5",
   "metadata": {},
   "outputs": [],
   "source": [
    "#pero puede que no funcione correctamente porque luego pide introducir la operacion\n",
    "#una solucion seria introducir un bucle infinito (while true) y debajo de las operaciones un break\n",
    "#el bucle no dejara continuar hasta que se introduzca un numero correcto"
   ]
  },
  {
   "cell_type": "code",
   "execution_count": 1,
   "id": "ff4bdf4b",
   "metadata": {},
   "outputs": [
    {
     "name": "stdout",
     "output_type": "stream",
     "text": [
      "introduzca un numero:pepe\n",
      "valor introducido es erroneo\n",
      "introduzca un numero:7\n",
      "introduzca un numero:6\n",
      "introduzca una operacion(suma,resta,multiplica,divide):suma\n",
      "13\n",
      "operacion ejecutada\n"
     ]
    }
   ],
   "source": [
    "def suma(num1,num2):\n",
    "    return(num1+num2)\n",
    "def resta(num1,num2):\n",
    "    return(num1-num2)\n",
    "def multiplica(num1,num2):\n",
    "    return(num1*num2)\n",
    "def divide(num1,num2):\n",
    "    try:\n",
    "        return(num1/num2)\n",
    "    except ZeroDivisionError:\n",
    "        print(\"no se puede dividir entre cero\")\n",
    "        return \"operacion erronea\"\n",
    "while True:\n",
    "    try:\n",
    "        op1=int(input(\"introduzca un numero:\"))\n",
    "        op2=int(input(\"introduzca un numero:\"))\n",
    "        break\n",
    "    except ValueError:\n",
    "        print(\"valor introducido es erroneo\")\n",
    "operacion=input(\"introduzca una operacion(suma,resta,multiplica,divide):\")\n",
    "if operacion==\"suma\":\n",
    "    print(suma(op1,op2))\n",
    "elif operacion==\"resta\":\n",
    "    print(resta(op1,op2))\n",
    "elif operacion==\"multiplica\":\n",
    "    print(multiplica(op1,op2))\n",
    "elif operacion==\"divide\":\n",
    "    print(divide(op1,op2))\n",
    "else:\n",
    "    print(\"operacion no contemplada\")\n",
    "    \n",
    "print(\"operacion ejecutada\")"
   ]
  },
  {
   "cell_type": "code",
   "execution_count": 1,
   "id": "af962e91",
   "metadata": {},
   "outputs": [],
   "source": [
    "#podemos capturar varias excepciones en un mismo bloque"
   ]
  },
  {
   "cell_type": "code",
   "execution_count": 4,
   "id": "8eec6c2b",
   "metadata": {},
   "outputs": [
    {
     "name": "stdout",
     "output_type": "stream",
     "text": [
      "introduzca primer numero:6\n",
      "introduzca segundo numero:3\n",
      "el resultado es:2.0\n",
      "programa finalizado\n"
     ]
    }
   ],
   "source": [
    "def divide():\n",
    "    op1=(float(input(\"introduzca primer numero:\")))\n",
    "    op2=(float(input(\"introduzca segundo numero:\")))\n",
    "    print(\"el resultado es:\"+ str(op1/op2))\n",
    "    print(\"programa finalizado\")\n",
    "divide()"
   ]
  },
  {
   "cell_type": "code",
   "execution_count": 5,
   "id": "8009c746",
   "metadata": {},
   "outputs": [],
   "source": [
    "#Veamos dos excepciones"
   ]
  },
  {
   "cell_type": "code",
   "execution_count": 7,
   "id": "b694e3be",
   "metadata": {},
   "outputs": [
    {
     "name": "stdout",
     "output_type": "stream",
     "text": [
      "introduzca primer numero:te\n",
      "es obligatorio un valor numerico\n",
      "programa finalizado\n"
     ]
    }
   ],
   "source": [
    "def divide():\n",
    "    try:\n",
    "        op1=(float(input(\"introduzca primer numero:\")))\n",
    "        op2=(float(input(\"introduzca segundo numero:\")))\n",
    "        print(\"el resultado es:\"+ str(op1/op2))\n",
    "    except ValueError:\n",
    "        print(\"es obligatorio un valor numerico\")\n",
    "    except ZeroDivisionError :\n",
    "        print(\"no se puede dividir por cero\")\n",
    "    print(\"programa finalizado\")\n",
    "divide()"
   ]
  },
  {
   "cell_type": "code",
   "execution_count": 8,
   "id": "d6239ec9",
   "metadata": {},
   "outputs": [],
   "source": [
    "#se puede capturar un except general pero no recomendado pq no sabemos el tipo de error"
   ]
  },
  {
   "cell_type": "code",
   "execution_count": 10,
   "id": "d03fb620",
   "metadata": {},
   "outputs": [
    {
     "name": "stdout",
     "output_type": "stream",
     "text": [
      "programa finalizado\n",
      "introduzca primer numero:ttr\n",
      "se ha cometido un error\n"
     ]
    }
   ],
   "source": [
    "def divide():\n",
    "    try:\n",
    "        op1=(float(input(\"introduzca primer numero:\")))\n",
    "        op2=(float(input(\"introduzca segundo numero:\")))\n",
    "        print(\"el resultado es:\"+ str(op1/op2))\n",
    "    except:\n",
    "        print(\"se ha cometido un error\")\n",
    "    print(\"programa finalizado\")\n",
    "divide()"
   ]
  },
  {
   "cell_type": "code",
   "execution_count": 11,
   "id": "50433c57",
   "metadata": {},
   "outputs": [],
   "source": [
    "#existe un codigo llamado finally (finalmente) que permite ejecutar siempre la instruccion contenida en el mismo"
   ]
  },
  {
   "cell_type": "code",
   "execution_count": 14,
   "id": "e86b84e7",
   "metadata": {},
   "outputs": [
    {
     "name": "stdout",
     "output_type": "stream",
     "text": [
      "introduzca primer numero:9\n",
      "introduzca segundo numero:8\n",
      "el resultado es:1.125\n",
      "programa finalizado\n"
     ]
    }
   ],
   "source": [
    "def divide():\n",
    "    try:\n",
    "        op1=(float(input(\"introduzca primer numero:\")))\n",
    "        op2=(float(input(\"introduzca segundo numero:\")))\n",
    "        print(\"el resultado es:\"+ str(op1/op2))\n",
    "    except ValueError:\n",
    "        print(\"es obligatorio un valor numerico\")\n",
    "    except ZeroDivisionError :\n",
    "        print(\"no se puede dividir por cero\")\n",
    "    finally:\n",
    "        print(\"programa finalizado\")\n",
    "divide()"
   ]
  },
  {
   "cell_type": "code",
   "execution_count": 15,
   "id": "2c2f70d6",
   "metadata": {},
   "outputs": [
    {
     "name": "stdout",
     "output_type": "stream",
     "text": [
      "introduzca primer numero:9\n",
      "introduzca segundo numero:0\n",
      "programa finalizado\n"
     ]
    },
    {
     "ename": "ZeroDivisionError",
     "evalue": "float division by zero",
     "output_type": "error",
     "traceback": [
      "\u001b[1;31m---------------------------------------------------------------------------\u001b[0m",
      "\u001b[1;31mZeroDivisionError\u001b[0m                         Traceback (most recent call last)",
      "\u001b[1;32m<ipython-input-15-5bbbe3d12727>\u001b[0m in \u001b[0;36m<module>\u001b[1;34m\u001b[0m\n\u001b[0;32m      6\u001b[0m     \u001b[1;32mfinally\u001b[0m\u001b[1;33m:\u001b[0m\u001b[1;33m\u001b[0m\u001b[1;33m\u001b[0m\u001b[0m\n\u001b[0;32m      7\u001b[0m         \u001b[0mprint\u001b[0m\u001b[1;33m(\u001b[0m\u001b[1;34m\"programa finalizado\"\u001b[0m\u001b[1;33m)\u001b[0m\u001b[1;33m\u001b[0m\u001b[1;33m\u001b[0m\u001b[0m\n\u001b[1;32m----> 8\u001b[1;33m \u001b[0mdivide\u001b[0m\u001b[1;33m(\u001b[0m\u001b[1;33m)\u001b[0m\u001b[1;33m\u001b[0m\u001b[1;33m\u001b[0m\u001b[0m\n\u001b[0m",
      "\u001b[1;32m<ipython-input-15-5bbbe3d12727>\u001b[0m in \u001b[0;36mdivide\u001b[1;34m()\u001b[0m\n\u001b[0;32m      3\u001b[0m         \u001b[0mop1\u001b[0m\u001b[1;33m=\u001b[0m\u001b[1;33m(\u001b[0m\u001b[0mfloat\u001b[0m\u001b[1;33m(\u001b[0m\u001b[0minput\u001b[0m\u001b[1;33m(\u001b[0m\u001b[1;34m\"introduzca primer numero:\"\u001b[0m\u001b[1;33m)\u001b[0m\u001b[1;33m)\u001b[0m\u001b[1;33m)\u001b[0m\u001b[1;33m\u001b[0m\u001b[1;33m\u001b[0m\u001b[0m\n\u001b[0;32m      4\u001b[0m         \u001b[0mop2\u001b[0m\u001b[1;33m=\u001b[0m\u001b[1;33m(\u001b[0m\u001b[0mfloat\u001b[0m\u001b[1;33m(\u001b[0m\u001b[0minput\u001b[0m\u001b[1;33m(\u001b[0m\u001b[1;34m\"introduzca segundo numero:\"\u001b[0m\u001b[1;33m)\u001b[0m\u001b[1;33m)\u001b[0m\u001b[1;33m)\u001b[0m\u001b[1;33m\u001b[0m\u001b[1;33m\u001b[0m\u001b[0m\n\u001b[1;32m----> 5\u001b[1;33m         \u001b[0mprint\u001b[0m\u001b[1;33m(\u001b[0m\u001b[1;34m\"el resultado es:\"\u001b[0m\u001b[1;33m+\u001b[0m \u001b[0mstr\u001b[0m\u001b[1;33m(\u001b[0m\u001b[0mop1\u001b[0m\u001b[1;33m/\u001b[0m\u001b[0mop2\u001b[0m\u001b[1;33m)\u001b[0m\u001b[1;33m)\u001b[0m\u001b[1;33m\u001b[0m\u001b[1;33m\u001b[0m\u001b[0m\n\u001b[0m\u001b[0;32m      6\u001b[0m     \u001b[1;32mfinally\u001b[0m\u001b[1;33m:\u001b[0m\u001b[1;33m\u001b[0m\u001b[1;33m\u001b[0m\u001b[0m\n\u001b[0;32m      7\u001b[0m         \u001b[0mprint\u001b[0m\u001b[1;33m(\u001b[0m\u001b[1;34m\"programa finalizado\"\u001b[0m\u001b[1;33m)\u001b[0m\u001b[1;33m\u001b[0m\u001b[1;33m\u001b[0m\u001b[0m\n",
      "\u001b[1;31mZeroDivisionError\u001b[0m: float division by zero"
     ]
    }
   ],
   "source": [
    "def divide():\n",
    "    try:\n",
    "        op1=(float(input(\"introduzca primer numero:\")))\n",
    "        op2=(float(input(\"introduzca segundo numero:\")))\n",
    "        print(\"el resultado es:\"+ str(op1/op2))\n",
    "    finally:\n",
    "        print(\"programa finalizado\")\n",
    "divide()"
   ]
  },
  {
   "cell_type": "code",
   "execution_count": null,
   "id": "841e2477",
   "metadata": {},
   "outputs": [],
   "source": []
  }
 ],
 "metadata": {
  "kernelspec": {
   "display_name": "Python 3",
   "language": "python",
   "name": "python3"
  },
  "language_info": {
   "codemirror_mode": {
    "name": "ipython",
    "version": 3
   },
   "file_extension": ".py",
   "mimetype": "text/x-python",
   "name": "python",
   "nbconvert_exporter": "python",
   "pygments_lexer": "ipython3",
   "version": "3.8.8"
  }
 },
 "nbformat": 4,
 "nbformat_minor": 5
}
