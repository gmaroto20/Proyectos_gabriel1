{
 "cells": [
  {
   "cell_type": "code",
   "execution_count": 1,
   "id": "d31e16cc",
   "metadata": {},
   "outputs": [],
   "source": [
    "#funcionamiento de and (y ademas), or (o cuando menos)\n",
    "#concesion de beca con tres requisitos"
   ]
  },
  {
   "cell_type": "code",
   "execution_count": 6,
   "id": "82678755",
   "metadata": {},
   "outputs": [
    {
     "name": "stdout",
     "output_type": "stream",
     "text": [
      "Concesion de becas\n",
      "Introduzca distancia al colegio:12\n",
      "Introduzca numero de hermanos:3\n",
      "Introduzca salario:18000\n",
      "Se concede beca\n"
     ]
    }
   ],
   "source": [
    "print(\"Concesion de becas\")\n",
    "distancia=int(input(\"Introduzca distancia al colegio:\"))\n",
    "hermanos=int(input(\"Introduzca numero de hermanos:\"))\n",
    "salario=int(input(\"Introduzca salario:\"))\n",
    "if distancia>10 and hermanos>1 and salario<20000:\n",
    "    print(\"Se concede beca\")\n",
    "else:\n",
    "    print(\"No tiene derecho a beca\")"
   ]
  },
  {
   "cell_type": "code",
   "execution_count": 9,
   "id": "eb4d4c94",
   "metadata": {},
   "outputs": [
    {
     "name": "stdout",
     "output_type": "stream",
     "text": [
      "Concesion de becas\n",
      "Introduzca distancia al colegio:2\n",
      "Introduzca numero de hermanos:3\n",
      "Introduzca salario:15000\n",
      "No tiene derecho a beca\n"
     ]
    }
   ],
   "source": [
    "print(\"Concesion de becas\")\n",
    "distancia=int(input(\"Introduzca distancia al colegio:\"))\n",
    "hermanos=int(input(\"Introduzca numero de hermanos:\"))\n",
    "salario=int(input(\"Introduzca salario:\"))\n",
    "if distancia>10 and hermanos>1 and salario<20000:\n",
    "    print(\"Se concede beca\")\n",
    "else:\n",
    "    print(\"No tiene derecho a beca\")"
   ]
  },
  {
   "cell_type": "code",
   "execution_count": 7,
   "id": "fda09cc4",
   "metadata": {},
   "outputs": [],
   "source": [
    "#si se suavizan los criterios y se priorizan algunos"
   ]
  },
  {
   "cell_type": "code",
   "execution_count": 8,
   "id": "0294f745",
   "metadata": {},
   "outputs": [
    {
     "name": "stdout",
     "output_type": "stream",
     "text": [
      "Concesion de becas\n",
      "Introduzca distancia al colegio:1\n",
      "Introduzca numero de hermanos:0\n",
      "Introduzca salario:12000\n",
      "Se concede beca\n"
     ]
    }
   ],
   "source": [
    "print(\"Concesion de becas\")\n",
    "distancia=int(input(\"Introduzca distancia al colegio:\"))\n",
    "hermanos=int(input(\"Introduzca numero de hermanos:\"))\n",
    "salario=int(input(\"Introduzca salario:\"))\n",
    "if distancia>10 and hermanos>1 or salario<20000:\n",
    "    print(\"Se concede beca\")\n",
    "else:\n",
    "    print(\"No tiene derecho a beca\")"
   ]
  },
  {
   "cell_type": "code",
   "execution_count": 10,
   "id": "84449fc4",
   "metadata": {},
   "outputs": [],
   "source": [
    "#para ver si una variable esta incluida en una variable o listado se usa in"
   ]
  },
  {
   "cell_type": "code",
   "execution_count": 11,
   "id": "1987e70e",
   "metadata": {},
   "outputs": [
    {
     "name": "stdout",
     "output_type": "stream",
     "text": [
      "Asignaturas curso\n",
      "asignatura incluida en el curso\n"
     ]
    }
   ],
   "source": [
    "print(\"Asignaturas curso\")\n",
    "asignaturas=(\"fisica\",\"quimica\",\"matematicas\")\n",
    "if \"fisica\" in asignaturas:\n",
    "    print(\"asignatura incluida en el curso\")\n",
    "else:\n",
    "    print(\"asignatura no incluida en el curso\")"
   ]
  },
  {
   "cell_type": "code",
   "execution_count": null,
   "id": "db6e25e9",
   "metadata": {},
   "outputs": [],
   "source": []
  }
 ],
 "metadata": {
  "kernelspec": {
   "display_name": "Python 3",
   "language": "python",
   "name": "python3"
  },
  "language_info": {
   "codemirror_mode": {
    "name": "ipython",
    "version": 3
   },
   "file_extension": ".py",
   "mimetype": "text/x-python",
   "name": "python",
   "nbconvert_exporter": "python",
   "pygments_lexer": "ipython3",
   "version": "3.8.8"
  }
 },
 "nbformat": 4,
 "nbformat_minor": 5
}
