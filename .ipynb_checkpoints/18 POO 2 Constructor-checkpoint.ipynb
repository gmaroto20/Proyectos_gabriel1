{
 "cells": [
  {
   "cell_type": "code",
   "execution_count": 1,
   "id": "57a82439",
   "metadata": {},
   "outputs": [],
   "source": [
    "# siguiendo el ej vamos a introducir un nuevo objeto (micoche2) podrian ser varios objetos claro"
   ]
  },
  {
   "cell_type": "code",
   "execution_count": 6,
   "id": "358b74b7",
   "metadata": {},
   "outputs": [
    {
     "name": "stdout",
     "output_type": "stream",
     "text": [
      "el largo del coche es: 250\n",
      "el coche tiene 4 ruedas\n",
      "el coche esta en marcha\n",
      ".........introducimos un segundo objeto.........\n",
      "el largo del coche es: 250\n",
      "el coche tiene 4 ruedas\n",
      "el coche esta en marcha\n"
     ]
    }
   ],
   "source": [
    "class coche():\n",
    "    largochasis=250\n",
    "    anchochasis=120\n",
    "    ruedas=4\n",
    "    enmarcha=False\n",
    "    \n",
    "    def arrancar(self):\n",
    "        self.enmarcha=True\n",
    "        \n",
    "    def estado(self):\n",
    "        if (self.enmarcha):\n",
    "            return(\"el coche esta en marcha\")\n",
    "        else:\n",
    "            return(\"el coche esta parado\")\n",
    "               \n",
    "micoche=coche()\n",
    "\n",
    "print(\"el largo del coche es:\",micoche.largochasis)\n",
    "print(\"el coche tiene\",micoche.ruedas,\"ruedas\")\n",
    "\n",
    "micoche.arrancar()\n",
    "\n",
    "print(micoche.estado())\n",
    "\n",
    "print(\".........introducimos un segundo objeto.........\")\n",
    "\n",
    "micoche2=coche()\n",
    "\n",
    "print(\"el largo del coche es:\",micoche2.largochasis)\n",
    "print(\"el coche tiene\",micoche2.ruedas,\"ruedas\")\n",
    "\n",
    "print(micoche.estado())"
   ]
  },
  {
   "cell_type": "code",
   "execution_count": 3,
   "id": "3bd3631f",
   "metadata": {},
   "outputs": [],
   "source": [
    "#vamos a utilizar el metodo arrancar para que haga en un paso lo que haciamos con metodo-estado\n",
    "#para ello aparte del arg self que recibe por defecto introducimos el arg arrancamos\n",
    "#y en el metodo estado vamos a introducir las propiedades que antes ponianmos debajo del objeto\n",
    "#damos valor al arg arrancamos"
   ]
  },
  {
   "cell_type": "code",
   "execution_count": 5,
   "id": "1e5e6b65",
   "metadata": {},
   "outputs": [
    {
     "name": "stdout",
     "output_type": "stream",
     "text": [
      "el coche esta en marcha\n",
      "el coche tiene  4 ruedas, un ancho de  120 y un largo de 250\n",
      ".........introducimos un segundo objeto.........\n",
      "el coche esta parado\n",
      "el coche tiene  4 ruedas, un ancho de  120 y un largo de 250\n"
     ]
    }
   ],
   "source": [
    "class coche():\n",
    "    largochasis=250\n",
    "    anchochasis=120\n",
    "    ruedas=4\n",
    "    enmarcha=False\n",
    "    \n",
    "    def arrancar(self,arrancamos):\n",
    "        self.enmarcha=arrancamos\n",
    "        if (self.enmarcha):\n",
    "            return(\"el coche esta en marcha\")\n",
    "        else:\n",
    "            return(\"el coche esta parado\")\n",
    "        \n",
    "    def estado(self):\n",
    "        print(\"el coche tiene \",self.ruedas, \"ruedas,\",\"un ancho de \",self.anchochasis,\n",
    "              \"y\",\"un largo de\",self.largochasis)\n",
    "               \n",
    "micoche=coche()\n",
    "\n",
    "print(micoche.arrancar(True))\n",
    "\n",
    "micoche.estado()\n",
    "\n",
    "print(\".........introducimos un segundo objeto.........\")\n",
    "\n",
    "micoche2=coche()\n",
    "\n",
    "print(micoche2.arrancar(False))\n",
    "\n",
    "micoche.estado()"
   ]
  },
  {
   "cell_type": "code",
   "execution_count": 6,
   "id": "41ed93fc",
   "metadata": {},
   "outputs": [],
   "source": [
    "#las 4 propiedades comunes iniciales forman el llamado estado inicial (como si vinieran de fabrica)\n",
    "#para especificar estas propiedades utilizamos un constructor (metodo especial que da un est inicial)\n",
    "# para construir este est incial utilizamos un constructor (def __init__(self))\n",
    "#el resultado no varia pero ahora las propiedades son comunes a todos los objetos"
   ]
  },
  {
   "cell_type": "code",
   "execution_count": 7,
   "id": "bcc1898d",
   "metadata": {},
   "outputs": [
    {
     "name": "stdout",
     "output_type": "stream",
     "text": [
      "el coche esta en marcha\n",
      "el coche tiene  4 ruedas, un ancho de  120 y un largo de 250\n",
      ".........introducimos un segundo objeto.........\n",
      "el coche esta parado\n",
      "el coche tiene  4 ruedas, un ancho de  120 y un largo de 250\n"
     ]
    }
   ],
   "source": [
    "class coche():\n",
    "    def __init__(self):\n",
    "        self.largochasis=250\n",
    "        self.anchochasis=120\n",
    "        self.ruedas=4\n",
    "        self.enmarcha=False\n",
    "        \n",
    "    def arrancar(self,arrancamos):\n",
    "        self.enmarcha=arrancamos\n",
    "        if (self.enmarcha):\n",
    "            return(\"el coche esta en marcha\")\n",
    "        else:\n",
    "            return(\"el coche esta parado\")\n",
    "        \n",
    "    def estado(self):\n",
    "        print(\"el coche tiene \",self.ruedas, \"ruedas,\",\"un ancho de \",self.anchochasis,\n",
    "              \"y\",\"un largo de\",self.largochasis)\n",
    "               \n",
    "micoche=coche()\n",
    "\n",
    "print(micoche.arrancar(True))\n",
    "micoche.estado()\n",
    "\n",
    "print(\".........introducimos un segundo objeto.........\")\n",
    "\n",
    "micoche2=coche()\n",
    "\n",
    "print(micoche2.arrancar(False))\n",
    "micoche.estado()"
   ]
  },
  {
   "cell_type": "code",
   "execution_count": 8,
   "id": "29c4b398",
   "metadata": {},
   "outputs": [],
   "source": [
    "#si intentamos modificar a lo largo del programa una propiedad, ruedas=2 por ej\n",
    "#puede que el programa en algunos casos cambie el valor del est inicial\n",
    "#para ello lo que hacemos es encapsular esa variable (__ delante de ruedas)"
   ]
  },
  {
   "cell_type": "code",
   "execution_count": 9,
   "id": "62d56dac",
   "metadata": {},
   "outputs": [
    {
     "name": "stdout",
     "output_type": "stream",
     "text": [
      "el coche esta en marcha\n",
      "el coche tiene  4 ruedas, un ancho de  120 y un largo de 250\n",
      ".........introducimos un segundo objeto.........\n",
      "el coche esta parado\n",
      "el coche tiene  4 ruedas, un ancho de  120 y un largo de 250\n"
     ]
    }
   ],
   "source": [
    "class coche():\n",
    "    def __init__(self):\n",
    "        self.largochasis=250\n",
    "        self.anchochasis=120\n",
    "        self.__ruedas=4\n",
    "        self.enmarcha=False\n",
    "        \n",
    "    def arrancar(self,arrancamos):\n",
    "        self.enmarcha=arrancamos\n",
    "        if (self.enmarcha):\n",
    "            return(\"el coche esta en marcha\")\n",
    "        else:\n",
    "            return(\"el coche esta parado\")\n",
    "        \n",
    "    def estado(self):\n",
    "        print(\"el coche tiene \",self.__ruedas, \"ruedas,\",\"un ancho de \",self.anchochasis,\n",
    "              \"y\",\"un largo de\",self.largochasis)\n",
    "               \n",
    "micoche=coche()\n",
    "\n",
    "print(micoche.arrancar(True))\n",
    "\n",
    "micoche.estado()\n",
    "\n",
    "print(\".........introducimos un segundo objeto.........\")\n",
    "\n",
    "micoche2=coche()\n",
    "\n",
    "print(micoche2.arrancar(False))\n",
    "\n",
    "micoche2.ruedas=1\n",
    "\n",
    "micoche.estado()"
   ]
  },
  {
   "cell_type": "code",
   "execution_count": null,
   "id": "6949f897",
   "metadata": {},
   "outputs": [],
   "source": []
  }
 ],
 "metadata": {
  "kernelspec": {
   "display_name": "Python 3",
   "language": "python",
   "name": "python3"
  },
  "language_info": {
   "codemirror_mode": {
    "name": "ipython",
    "version": 3
   },
   "file_extension": ".py",
   "mimetype": "text/x-python",
   "name": "python",
   "nbconvert_exporter": "python",
   "pygments_lexer": "ipython3",
   "version": "3.8.8"
  }
 },
 "nbformat": 4,
 "nbformat_minor": 5
}
