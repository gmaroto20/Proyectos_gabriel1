{
 "cells": [
  {
   "cell_type": "code",
   "execution_count": 3,
   "id": "bea1b2cf",
   "metadata": {},
   "outputs": [],
   "source": [
    "#nombre=[elem1,elem2,elem3] pero los indices van 0,1,2..."
   ]
  },
  {
   "cell_type": "code",
   "execution_count": 4,
   "id": "609a6d33",
   "metadata": {},
   "outputs": [
    {
     "name": "stdout",
     "output_type": "stream",
     "text": [
      "[2, 3, 'pepe', 'sara']\n"
     ]
    }
   ],
   "source": [
    "lista1=[2,3,\"pepe\",\"sara\"]\n",
    "print(lista1[:])"
   ]
  },
  {
   "cell_type": "code",
   "execution_count": 5,
   "id": "799901f7",
   "metadata": {},
   "outputs": [],
   "source": [
    "#con los dos puntos incluye toda la lista, para un elemento se pone su indice"
   ]
  },
  {
   "cell_type": "code",
   "execution_count": 6,
   "id": "3f750bdc",
   "metadata": {},
   "outputs": [
    {
     "name": "stdout",
     "output_type": "stream",
     "text": [
      "sara\n"
     ]
    }
   ],
   "source": [
    "lista1=[2,3,\"pepe\",\"sara\"]\n",
    "print(lista1[3])"
   ]
  },
  {
   "cell_type": "code",
   "execution_count": 7,
   "id": "7e3d2565",
   "metadata": {},
   "outputs": [],
   "source": [
    "#para coger varios,porcion de lista,el primer numero lo incluye el ultimo no"
   ]
  },
  {
   "cell_type": "code",
   "execution_count": 8,
   "id": "0aa036db",
   "metadata": {},
   "outputs": [
    {
     "name": "stdout",
     "output_type": "stream",
     "text": [
      "[3, 'pepe']\n"
     ]
    }
   ],
   "source": [
    "lista1=[2,3,\"pepe\",\"sara\"]\n",
    "print(lista1[1:3])"
   ]
  },
  {
   "cell_type": "code",
   "execution_count": 9,
   "id": "45a3400e",
   "metadata": {},
   "outputs": [],
   "source": [
    "#para agregar valores,append(añade un solo valor al final),insert(añade un valor donde le digamos,indice\n",
    "#extend(añade varios elementos a la lista, parentesis y llaves)"
   ]
  },
  {
   "cell_type": "code",
   "execution_count": 10,
   "id": "2cc31d38",
   "metadata": {},
   "outputs": [
    {
     "name": "stdout",
     "output_type": "stream",
     "text": [
      "[2, 3, 'pepe', 'sara', 4]\n"
     ]
    }
   ],
   "source": [
    "lista1=[2,3,\"pepe\",\"sara\"]\n",
    "lista1.append(4)\n",
    "print(lista1[:])"
   ]
  },
  {
   "cell_type": "code",
   "execution_count": 11,
   "id": "5446dad5",
   "metadata": {},
   "outputs": [
    {
     "name": "stdout",
     "output_type": "stream",
     "text": [
      "[2, 3, 'juana', 'pepe', 'sara']\n"
     ]
    }
   ],
   "source": [
    "lista1=[2,3,\"pepe\",\"sara\"]\n",
    "lista1.insert(2,\"juana\")\n",
    "print(lista1[:])"
   ]
  },
  {
   "cell_type": "code",
   "execution_count": 12,
   "id": "3c2c7406",
   "metadata": {},
   "outputs": [
    {
     "name": "stdout",
     "output_type": "stream",
     "text": [
      "[2, 3, 'pepe', 'sara', 'luis', 9]\n"
     ]
    }
   ],
   "source": [
    "lista1=[2,3,\"pepe\",\"sara\"]\n",
    "lista1.extend([\"luis\",9])\n",
    "print(lista1[:])"
   ]
  },
  {
   "cell_type": "code",
   "execution_count": 13,
   "id": "40c8439f",
   "metadata": {},
   "outputs": [],
   "source": [
    "#comando index, nos devuelve el indice de un elemento"
   ]
  },
  {
   "cell_type": "code",
   "execution_count": 14,
   "id": "bcde307a",
   "metadata": {},
   "outputs": [
    {
     "name": "stdout",
     "output_type": "stream",
     "text": [
      "1\n"
     ]
    }
   ],
   "source": [
    "lista1=[2,3,\"pepe\",\"sara\"]\n",
    "print(lista1.index(3))"
   ]
  },
  {
   "cell_type": "code",
   "execution_count": 15,
   "id": "d45e9aca",
   "metadata": {},
   "outputs": [],
   "source": [
    "# con el comando in nos devuelve si un valor esta en la lista o no, true o false (booleanos)"
   ]
  },
  {
   "cell_type": "code",
   "execution_count": 16,
   "id": "f8da6b24",
   "metadata": {},
   "outputs": [
    {
     "name": "stdout",
     "output_type": "stream",
     "text": [
      "True\n"
     ]
    }
   ],
   "source": [
    "lista1=[2,3,\"pepe\",\"sara\"]\n",
    "print(3 in lista1)"
   ]
  },
  {
   "cell_type": "code",
   "execution_count": 17,
   "id": "70d08559",
   "metadata": {},
   "outputs": [],
   "source": [
    "#para eliminar usar remove"
   ]
  },
  {
   "cell_type": "code",
   "execution_count": 18,
   "id": "7c2eee28",
   "metadata": {},
   "outputs": [
    {
     "name": "stdout",
     "output_type": "stream",
     "text": [
      "[2, 3, 'sara']\n"
     ]
    }
   ],
   "source": [
    "lista1=[2,3,\"pepe\",\"sara\"]\n",
    "lista1.remove(\"pepe\")\n",
    "print(lista1[:])"
   ]
  },
  {
   "cell_type": "code",
   "execution_count": 19,
   "id": "460fa0e3",
   "metadata": {},
   "outputs": [],
   "source": [
    "#para eliminar el ultimo elemento de la lista, pop"
   ]
  },
  {
   "cell_type": "code",
   "execution_count": 20,
   "id": "3c713531",
   "metadata": {},
   "outputs": [
    {
     "name": "stdout",
     "output_type": "stream",
     "text": [
      "[2, 3, 'pepe']\n"
     ]
    }
   ],
   "source": [
    "lista1=[2,3,\"pepe\",\"sara\"]\n",
    "lista1.pop()\n",
    "print(lista1[:])"
   ]
  },
  {
   "cell_type": "code",
   "execution_count": 21,
   "id": "de3e5444",
   "metadata": {},
   "outputs": [],
   "source": [
    "#agregar listas, sumar listas"
   ]
  },
  {
   "cell_type": "code",
   "execution_count": 21,
   "id": "1b609e17",
   "metadata": {},
   "outputs": [
    {
     "name": "stdout",
     "output_type": "stream",
     "text": [
      "[2, 3, 'pepe', 'sara', 7, 'dado']\n"
     ]
    }
   ],
   "source": [
    "lista1=[2,3,\"pepe\",\"sara\"]\n",
    "lista2=[7,\"dado\"]\n",
    "lista3=lista1+lista2\n",
    "print(lista3[:])"
   ]
  },
  {
   "cell_type": "code",
   "execution_count": null,
   "id": "1884ba0f",
   "metadata": {},
   "outputs": [],
   "source": []
  }
 ],
 "metadata": {
  "kernelspec": {
   "display_name": "Python 3",
   "language": "python",
   "name": "python3"
  },
  "language_info": {
   "codemirror_mode": {
    "name": "ipython",
    "version": 3
   },
   "file_extension": ".py",
   "mimetype": "text/x-python",
   "name": "python",
   "nbconvert_exporter": "python",
   "pygments_lexer": "ipython3",
   "version": "3.8.8"
  }
 },
 "nbformat": 4,
 "nbformat_minor": 5
}
