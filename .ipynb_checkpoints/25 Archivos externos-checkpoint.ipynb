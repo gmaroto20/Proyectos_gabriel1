{
 "cells": [
  {
   "cell_type": "code",
   "execution_count": 1,
   "id": "8ba79c11",
   "metadata": {},
   "outputs": [],
   "source": [
    "#para poder guardar la informacion de la programacion vamos a utilizar archivos externos\n",
    "#para ello tendremos que crear el archivo(1),abrirlo(2),manipularlo(3) y cerrarlo(4)\n",
    "#para crearlo se debera poner el nombre que le vamos a dar y el modo de verlo (w,r o append )\n",
    "#los archivos se crean desde el modulo io (se pueden ver sus caracteristicas en google)\n",
    "# al archivo y modulo añado encoding=\"utf-8\" para que me lo cree el archivo de txt de jupiter"
   ]
  },
  {
   "cell_type": "code",
   "execution_count": 6,
   "id": "b74ce6bf",
   "metadata": {},
   "outputs": [],
   "source": [
    "from io import open\n",
    "archivo_externo=open(\"archivo1.txt\",\"w\",encoding='utf-8')"
   ]
  },
  {
   "cell_type": "code",
   "execution_count": 7,
   "id": "a5e53d63",
   "metadata": {},
   "outputs": [],
   "source": [
    "#nos crea un archivo de texto automaticamente en nuestra carpeta(1)\n",
    "#acontinuacion  le introducimos texto para el tercer paso (manipulacion) y cerramos(4)"
   ]
  },
  {
   "cell_type": "code",
   "execution_count": 8,
   "id": "e1ac16a8",
   "metadata": {},
   "outputs": [],
   "source": [
    "from io import open\n",
    "archivo_externo=open(\"archivo1.txt\",\"w\",encoding='utf-8')\n",
    "frase=\"Hoy hemos jugado al padel \\nmañana jugaremos al tenis temprano\"\n",
    "archivo_externo.write(frase)\n",
    "archivo_externo.close()\n"
   ]
  },
  {
   "cell_type": "code",
   "execution_count": 9,
   "id": "134d7a7b",
   "metadata": {},
   "outputs": [],
   "source": [
    "#vamos a leer este archivo externo"
   ]
  },
  {
   "cell_type": "code",
   "execution_count": 10,
   "id": "5a31c497",
   "metadata": {},
   "outputs": [
    {
     "name": "stdout",
     "output_type": "stream",
     "text": [
      "Hoy hemos jugado al padel \n",
      "mañana jugaremos al tenis temprano\n"
     ]
    }
   ],
   "source": [
    "from io import open\n",
    "archivo_externo=open(\"archivo1.txt\",\"r\",encoding='utf-8')\n",
    "texto=archivo_externo.read()\n",
    "archivo_externo.close()\n",
    "print(texto)"
   ]
  },
  {
   "cell_type": "code",
   "execution_count": 11,
   "id": "ab47adb1",
   "metadata": {},
   "outputs": [],
   "source": [
    "# utilizando readlines en vez de read nos lee linea a linea y nos lo almacena en una lista"
   ]
  },
  {
   "cell_type": "code",
   "execution_count": 12,
   "id": "86631bb3",
   "metadata": {},
   "outputs": [
    {
     "name": "stdout",
     "output_type": "stream",
     "text": [
      "['Hoy hemos jugado al padel \\n', 'mañana jugaremos al tenis temprano']\n"
     ]
    }
   ],
   "source": [
    "from io import open\n",
    "archivo_externo=open(\"archivo1.txt\",\"r\",encoding='utf-8')\n",
    "lineas_texto=archivo_externo.readlines()\n",
    "archivo_externo.close()\n",
    "print(lineas_texto)"
   ]
  },
  {
   "cell_type": "code",
   "execution_count": 13,
   "id": "51ec4105",
   "metadata": {},
   "outputs": [],
   "source": [
    "#para acceder a cualquier linea"
   ]
  },
  {
   "cell_type": "code",
   "execution_count": 14,
   "id": "39e25fca",
   "metadata": {},
   "outputs": [
    {
     "name": "stdout",
     "output_type": "stream",
     "text": [
      "Hoy hemos jugado al padel \n",
      "\n"
     ]
    }
   ],
   "source": [
    "from io import open\n",
    "archivo_externo=open(\"archivo1.txt\",\"r\",encoding='utf-8')\n",
    "lineas_texto=archivo_externo.readlines()\n",
    "archivo_externo.close()\n",
    "print(lineas_texto[0])"
   ]
  },
  {
   "cell_type": "code",
   "execution_count": 15,
   "id": "193bc359",
   "metadata": {},
   "outputs": [],
   "source": [
    "#vamos a abrir para agregar informacion (append), cambiamos al modo a"
   ]
  },
  {
   "cell_type": "code",
   "execution_count": 16,
   "id": "29ea9fa8",
   "metadata": {},
   "outputs": [],
   "source": [
    "from io import open\n",
    "archivo_externo=open(\"archivo1.txt\",\"a\",encoding='utf-8')\n",
    "archivo_externo.write(\"\\ny pasado mañana toca petanca\")\n",
    "archivo_externo.close()"
   ]
  },
  {
   "cell_type": "code",
   "execution_count": 17,
   "id": "a4c185b3",
   "metadata": {},
   "outputs": [],
   "source": [
    "#cuando damos una orden de lectura de un arch ext lee a partir de donde se situa el puntero en\n",
    "#el archivo de texto.Si le ponemos al final al dar la orden no leera nada"
   ]
  },
  {
   "cell_type": "code",
   "execution_count": 18,
   "id": "1b73ddca",
   "metadata": {},
   "outputs": [
    {
     "name": "stdout",
     "output_type": "stream",
     "text": [
      "Hoy hemos jugado al padel \n",
      "mañana jugaremos al tenis temprano\n",
      "y pasado mañana toca petanca\n"
     ]
    }
   ],
   "source": [
    "from io import open\n",
    "archivo_externo=open(\"archivo1.txt\",\"r\",encoding='utf-8')\n",
    "print(archivo_externo.read())"
   ]
  },
  {
   "cell_type": "code",
   "execution_count": 27,
   "id": "b1b254ab",
   "metadata": {},
   "outputs": [
    {
     "name": "stdout",
     "output_type": "stream",
     "text": [
      "Hoy hemos jugado al padel \n",
      "mañana jugaremos al tenis temprano\n",
      "y pasado mañana toca petanca\n",
      "\n"
     ]
    }
   ],
   "source": [
    "from io import open\n",
    "archivo_externo=open(\"archivo1.txt\",\"r\",encoding='utf-8')\n",
    "print(archivo_externo.read())\n",
    "print(archivo_externo.read())"
   ]
  },
  {
   "cell_type": "code",
   "execution_count": 20,
   "id": "1e4d2a16",
   "metadata": {},
   "outputs": [],
   "source": [
    "#solo lo lee una vez porque una vez ejecutada la primera el cursor esta al final y si queremos situar \n",
    "#el puntero en cualquier sitio utilizaremos el parfametro seek"
   ]
  },
  {
   "cell_type": "code",
   "execution_count": 21,
   "id": "4eb7cd60",
   "metadata": {},
   "outputs": [
    {
     "name": "stdout",
     "output_type": "stream",
     "text": [
      "Hoy hemos jugado al padel \n",
      "mañana jugaremos al tenis temprano\n",
      "y pasado mañana toca petanca\n",
      "Hoy hemos jugado al padel \n",
      "mañana jugaremos al tenis temprano\n",
      "y pasado mañana toca petanca\n"
     ]
    }
   ],
   "source": [
    "from io import open\n",
    "archivo_externo=open(\"archivo1.txt\",\"r\",encoding='utf-8')\n",
    "print(archivo_externo.read())\n",
    "archivo_externo.seek(0)\n",
    "print(archivo_externo.read())"
   ]
  },
  {
   "cell_type": "code",
   "execution_count": 22,
   "id": "6f14409f",
   "metadata": {},
   "outputs": [
    {
     "name": "stdout",
     "output_type": "stream",
     "text": [
      "Hoy hemos jugado al padel \n",
      "mañana jugaremos al tenis temprano\n",
      "y pasado mañana toca petanca\n",
      "s jugado al padel \n",
      "mañana jugaremos al tenis temprano\n",
      "y pasado mañana toca petanca\n"
     ]
    }
   ],
   "source": [
    "from io import open\n",
    "archivo_externo=open(\"archivo1.txt\",\"r\",encoding='utf-8')\n",
    "print(archivo_externo.read())\n",
    "archivo_externo.seek(8)\n",
    "print(archivo_externo.read())"
   ]
  },
  {
   "cell_type": "code",
   "execution_count": 23,
   "id": "51fe04b9",
   "metadata": {},
   "outputs": [],
   "source": [
    "#con la intruccion read tambien se puede hacer esto, pero con la salvedad de que solo lee hasta\n",
    "#el numero de caracteres que le indiquemos"
   ]
  },
  {
   "cell_type": "code",
   "execution_count": 24,
   "id": "78b65dfa",
   "metadata": {},
   "outputs": [
    {
     "name": "stdout",
     "output_type": "stream",
     "text": [
      "Hoy hemos jugado al \n"
     ]
    }
   ],
   "source": [
    "from io import open\n",
    "archivo_externo=open(\"archivo1.txt\",\"r\",encoding='utf-8')\n",
    "print(archivo_externo.read(20))"
   ]
  },
  {
   "cell_type": "code",
   "execution_count": 25,
   "id": "6a1a0fa5",
   "metadata": {},
   "outputs": [],
   "source": [
    "# por ejemplo para situarlo justo en la mitad del texto"
   ]
  },
  {
   "cell_type": "code",
   "execution_count": 26,
   "id": "7ead9ff4",
   "metadata": {},
   "outputs": [
    {
     "name": "stdout",
     "output_type": "stream",
     "text": [
      " al tenis temprano\n",
      "y pasado mañana toca petanca\n"
     ]
    }
   ],
   "source": [
    "from io import open\n",
    "archivo_externo=open(\"archivo1.txt\",\"r\",encoding='utf-8')\n",
    "archivo_externo.seek(len(archivo_externo.read())/2)\n",
    "print(archivo_externo.read())"
   ]
  },
  {
   "cell_type": "code",
   "execution_count": null,
   "id": "b4607731",
   "metadata": {},
   "outputs": [],
   "source": []
  },
  {
   "cell_type": "code",
   "execution_count": null,
   "id": "aae3efe0",
   "metadata": {},
   "outputs": [],
   "source": []
  },
  {
   "cell_type": "code",
   "execution_count": null,
   "id": "837b10a5",
   "metadata": {},
   "outputs": [],
   "source": []
  }
 ],
 "metadata": {
  "kernelspec": {
   "display_name": "Python 3",
   "language": "python",
   "name": "python3"
  },
  "language_info": {
   "codemirror_mode": {
    "name": "ipython",
    "version": 3
   },
   "file_extension": ".py",
   "mimetype": "text/x-python",
   "name": "python",
   "nbconvert_exporter": "python",
   "pygments_lexer": "ipython3",
   "version": "3.8.8"
  }
 },
 "nbformat": 4,
 "nbformat_minor": 5
}
