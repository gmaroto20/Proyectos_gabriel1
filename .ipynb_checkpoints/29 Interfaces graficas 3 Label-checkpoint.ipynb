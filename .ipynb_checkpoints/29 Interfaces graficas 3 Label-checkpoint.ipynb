{
 "cells": [
  {
   "cell_type": "code",
   "execution_count": 1,
   "id": "deeb306e",
   "metadata": {},
   "outputs": [],
   "source": [
    "# los label nos permiten introducir texto (es estatico)\n",
    "#la nomnclatura sera: variablelabel=Label(contenedor,\"opciones\")\n",
    "#hay muchas opciones:text,anchor,bg,bd,bitmap,font,fg,image,justify,width,eight etc...\n",
    "#creamos el frame y lo empaquetamos"
   ]
  },
  {
   "cell_type": "code",
   "execution_count": 4,
   "id": "7cb1fcf9",
   "metadata": {},
   "outputs": [],
   "source": [
    "from tkinter import *\n",
    "root=Tk()\n",
    "\n",
    "miframe=Frame(root,width=\"500\",height=\"400\")\n",
    "miframe.pack()\n",
    "\n",
    "root.mainloop()\n"
   ]
  },
  {
   "cell_type": "code",
   "execution_count": 5,
   "id": "a530706a",
   "metadata": {},
   "outputs": [],
   "source": [
    "#vamos a introducir texto"
   ]
  },
  {
   "cell_type": "code",
   "execution_count": 6,
   "id": "0aeb05ad",
   "metadata": {},
   "outputs": [],
   "source": [
    "from tkinter import *\n",
    "root=Tk()\n",
    "\n",
    "miframe=Frame(root,width=\"500\",height=\"400\")\n",
    "miframe.pack()\n",
    "\n",
    "milabel=Label(miframe,text=\"Soy Gabriel\")\n",
    "milabel.pack()\n",
    "\n",
    "root.mainloop()"
   ]
  },
  {
   "cell_type": "code",
   "execution_count": 7,
   "id": "a0f826db",
   "metadata": {},
   "outputs": [],
   "source": [
    "#pero al empaquetar el label no recoge ya las dimensiones del frame\n",
    "#por eso debemos utilizar con el label el place()que nos permite colocar el texto en (x,y) en pixels"
   ]
  },
  {
   "cell_type": "code",
   "execution_count": 8,
   "id": "7c7a26be",
   "metadata": {},
   "outputs": [],
   "source": [
    "from tkinter import *\n",
    "root=Tk()\n",
    "\n",
    "miframe=Frame(root,width=\"500\",height=\"400\")\n",
    "miframe.pack()\n",
    "\n",
    "milabel=Label(miframe,text=\"Soy Gabriel\")\n",
    "milabel.place(x=100,y=200)\n",
    "\n",
    "root.mainloop()"
   ]
  },
  {
   "cell_type": "code",
   "execution_count": 9,
   "id": "99d5473f",
   "metadata": {},
   "outputs": [],
   "source": [
    "# estas dos ordenes milabel, se pueden agrupar en una quitandola, si es que no vamos a usar esta variable"
   ]
  },
  {
   "cell_type": "code",
   "execution_count": 10,
   "id": "35fec102",
   "metadata": {},
   "outputs": [],
   "source": [
    "from tkinter import *\n",
    "root=Tk()\n",
    "\n",
    "miframe=Frame(root,width=\"500\",height=\"400\")\n",
    "miframe.pack()\n",
    "\n",
    "Label(miframe,text=\"Soy Gabriel\").place(x=100,y=200)\n",
    "\n",
    "\n",
    "root.mainloop()"
   ]
  },
  {
   "cell_type": "code",
   "execution_count": null,
   "id": "5f9493ad",
   "metadata": {},
   "outputs": [],
   "source": [
    "#a partir de aqui se pueden nutilizar las opciones que queramos (minuto ocho)"
   ]
  }
 ],
 "metadata": {
  "kernelspec": {
   "display_name": "Python 3",
   "language": "python",
   "name": "python3"
  },
  "language_info": {
   "codemirror_mode": {
    "name": "ipython",
    "version": 3
   },
   "file_extension": ".py",
   "mimetype": "text/x-python",
   "name": "python",
   "nbconvert_exporter": "python",
   "pygments_lexer": "ipython3",
   "version": "3.8.8"
  }
 },
 "nbformat": 4,
 "nbformat_minor": 5
}
