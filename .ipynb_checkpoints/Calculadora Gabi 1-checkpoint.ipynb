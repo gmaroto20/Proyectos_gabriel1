{
 "cells": [
  {
   "cell_type": "code",
   "execution_count": 31,
   "id": "a7be2177",
   "metadata": {},
   "outputs": [],
   "source": [
    "from tkinter import *\n",
    "\n",
    "raiz=Tk()\n",
    "raiz.title(\"Calculadora Gabi\")\n",
    "\n",
    "miframe=Frame()\n",
    "miframe.pack()\n",
    "\n",
    "#---------------------- diseño pantalla------------------------\n",
    "\n",
    "pantalla=Entry(miframe)\n",
    "pantalla.grid(row=3,column=1,padx=10,pady=10)\n",
    "pantalla.config(bg=\"yellow\")\n",
    "\n",
    "#----------------- botones del teclado fila 1 row 7-----------------------\n",
    "\n",
    "tecla7=Button(miframe)\n",
    "tecla7.grid(row=7,column=1,padx=10,pady=10)\n",
    "tecla8.config(text=\"7\")\n",
    "\n",
    "tecla8=Button(miframe)\n",
    "tecla8.grid(row=7,column=2,padx=10,pady=10)\n",
    "tecla8.config(text=\"8\")\n",
    "\n",
    "tecla9=Button(miframe)\n",
    "tecla9.grid(row=7,column=3,padx=10,pady=10)\n",
    "tecla9.config(text=\"9\")\n",
    "\n",
    "raiz.mainloop()"
   ]
  },
  {
   "cell_type": "code",
   "execution_count": null,
   "id": "e379b509",
   "metadata": {},
   "outputs": [],
   "source": []
  }
 ],
 "metadata": {
  "kernelspec": {
   "display_name": "Python 3",
   "language": "python",
   "name": "python3"
  },
  "language_info": {
   "codemirror_mode": {
    "name": "ipython",
    "version": 3
   },
   "file_extension": ".py",
   "mimetype": "text/x-python",
   "name": "python",
   "nbconvert_exporter": "python",
   "pygments_lexer": "ipython3",
   "version": "3.8.8"
  }
 },
 "nbformat": 4,
 "nbformat_minor": 5
}
