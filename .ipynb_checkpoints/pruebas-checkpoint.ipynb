{
 "cells": [
  {
   "cell_type": "code",
   "execution_count": 36,
   "id": "7d4f6306",
   "metadata": {},
   "outputs": [],
   "source": [
    "def producto():\n",
    "    a=8\n",
    "    b=7\n",
    "    print(a*b)"
   ]
  },
  {
   "cell_type": "code",
   "execution_count": 37,
   "id": "d52c7b34",
   "metadata": {},
   "outputs": [
    {
     "name": "stdout",
     "output_type": "stream",
     "text": [
      "56\n"
     ]
    }
   ],
   "source": [
    "producto()"
   ]
  },
  {
   "cell_type": "code",
   "execution_count": 38,
   "id": "1e2488e8",
   "metadata": {},
   "outputs": [],
   "source": [
    "def producto(c,d):\n",
    "    print(c*d)"
   ]
  },
  {
   "cell_type": "code",
   "execution_count": 39,
   "id": "f0f5c46a",
   "metadata": {},
   "outputs": [
    {
     "name": "stdout",
     "output_type": "stream",
     "text": [
      "36\n"
     ]
    }
   ],
   "source": [
    "producto(9,4)"
   ]
  },
  {
   "cell_type": "code",
   "execution_count": 40,
   "id": "257fbf48",
   "metadata": {},
   "outputs": [
    {
     "name": "stdout",
     "output_type": "stream",
     "text": [
      "408\n"
     ]
    }
   ],
   "source": [
    "producto(136,3)"
   ]
  },
  {
   "cell_type": "code",
   "execution_count": 60,
   "id": "f5ecd453",
   "metadata": {},
   "outputs": [
    {
     "name": "stdout",
     "output_type": "stream",
     "text": [
      "['pio', 5, 7]\n"
     ]
    }
   ],
   "source": [
    "lista1=[\"pio\",5,7]\n",
    "print(lista1[:])"
   ]
  },
  {
   "cell_type": "code",
   "execution_count": 61,
   "id": "e363165f",
   "metadata": {},
   "outputs": [
    {
     "name": "stdout",
     "output_type": "stream",
     "text": [
      "['pio', 5, 7, 'gabi']\n"
     ]
    }
   ],
   "source": [
    "lista1=[\"pio\",5,7]\n",
    "lista1.append(\"gabi\")\n",
    "print(lista1[:])"
   ]
  },
  {
   "cell_type": "code",
   "execution_count": 62,
   "id": "b45458d6",
   "metadata": {},
   "outputs": [
    {
     "name": "stdout",
     "output_type": "stream",
     "text": [
      "['pio', 5, 'jo', 7, 'gabi']\n"
     ]
    }
   ],
   "source": [
    "lista1=[\"pio\",5,7,\"gabi\"]\n",
    "lista1.insert(2,\"jo\")\n",
    "print(lista1[:])"
   ]
  },
  {
   "cell_type": "code",
   "execution_count": 63,
   "id": "c5ff5a38",
   "metadata": {},
   "outputs": [
    {
     "name": "stdout",
     "output_type": "stream",
     "text": [
      "['pio', 5, 'jo', 7]\n"
     ]
    }
   ],
   "source": [
    "lista1=['pio', 5, 'jo', 7, 'gabi']\n",
    "lista1.remove(\"gabi\")\n",
    "print(lista1[:])"
   ]
  },
  {
   "cell_type": "code",
   "execution_count": 59,
   "id": "82384c17",
   "metadata": {},
   "outputs": [
    {
     "name": "stdout",
     "output_type": "stream",
     "text": [
      "['pio', 5, 7, 'dos', 78]\n"
     ]
    }
   ],
   "source": [
    "lista1=['pio', 5, 'jo', 7]\n",
    "lista1.extend([\"dos\",78])\n",
    "print(lista1[:])\n"
   ]
  },
  {
   "cell_type": "code",
   "execution_count": 7,
   "id": "69b44555",
   "metadata": {},
   "outputs": [
    {
     "name": "stdout",
     "output_type": "stream",
     "text": [
      "Introduzca su mail:..\n",
      "mail correcto\n"
     ]
    }
   ],
   "source": [
    "contador = 0\n",
    "email=input(\"Introduzca su mail:\")\n",
    "for i in email:\n",
    "    if (i==\"@\" or i ==\".\"):\n",
    "        contador = contador + 1\n",
    "if contador==2:\n",
    "    print(\"mail correcto\")\n",
    "else:\n",
    "    print(\"mail incorrecto\")\n",
    "    "
   ]
  },
  {
   "cell_type": "code",
   "execution_count": 12,
   "id": "94a0d4d0",
   "metadata": {},
   "outputs": [
    {
     "name": "stdout",
     "output_type": "stream",
     "text": [
      "Introduzca su mail:pepe.gomez@gmail.com.com\n",
      "mail correcto\n"
     ]
    }
   ],
   "source": [
    "contador_arrobas=0\n",
    "contador_puntos = 0\n",
    "email=input(\"Introduzca su mail:\")\n",
    "for i in email:\n",
    "    if i==\"@\":\n",
    "        contador_arrobas=contador_arrobas+1\n",
    "    if i==\".\":\n",
    "        contador_puntos = contador_puntos +1\n",
    "if (contador_arrobas==1 and contador_puntos>0):\n",
    "    print(\"mail correcto\")\n",
    "else:\n",
    "    print(\"mail incorrecto\")\n",
    "    \n",
    "    "
   ]
  },
  {
   "cell_type": "code",
   "execution_count": 16,
   "id": "892a278c",
   "metadata": {},
   "outputs": [
    {
     "name": "stdout",
     "output_type": "stream",
     "text": [
      "Introduzca su mail:pepe.gomez.lo@gmail.com\n",
      "mail correcto\n"
     ]
    }
   ],
   "source": [
    "contador_arrobas=0\n",
    "contador_puntos = 0\n",
    "email=input(\"Introduzca su mail:\")\n",
    "for i in email:\n",
    "    if i==\"@\":\n",
    "        contador_arrobas=contador_arrobas+1\n",
    "    if (i==\".\" and contador_arrobas==1):\n",
    "        contador_puntos = contador_puntos +1\n",
    "if (contador_arrobas==1 and contador_puntos==1):\n",
    "    print(\"mail correcto\")\n",
    "else:\n",
    "    print(\"mail incorrecto\")"
   ]
  },
  {
   "cell_type": "code",
   "execution_count": 14,
   "id": "ebdc2f58",
   "metadata": {},
   "outputs": [
    {
     "name": "stdout",
     "output_type": "stream",
     "text": [
      "[2, 4, 6, 8, 10, 12, 14, 16, 18]\n"
     ]
    }
   ],
   "source": [
    "def par(lim):\n",
    "    lis=[]\n",
    "    num=1\n",
    "    while (num<lim):\n",
    "        lis.append(num*2)\n",
    "        num=num+1\n",
    "    return lis\n",
    "print(par(10))"
   ]
  },
  {
   "cell_type": "code",
   "execution_count": 1,
   "id": "0105c93d",
   "metadata": {},
   "outputs": [
    {
     "name": "stdout",
     "output_type": "stream",
     "text": [
      "aprobado\n"
     ]
    }
   ],
   "source": [
    "def calif(nota):\n",
    "    calificacion=\"aprobado\"\n",
    "    if nota<5:\n",
    "        calificacion=\"suspenso\"\n",
    "    return calificacion\n",
    "print(calif(6))"
   ]
  },
  {
   "cell_type": "code",
   "execution_count": 8,
   "id": "134f127b",
   "metadata": {},
   "outputs": [
    {
     "name": "stdout",
     "output_type": "stream",
     "text": [
      "largo del coche: 340\n",
      "ancho del coche: 130\n",
      "el coche esta en marcha\n"
     ]
    }
   ],
   "source": [
    "class coche():\n",
    "    largo=340\n",
    "    ancho=130\n",
    "    arranca=False\n",
    "    def marcha (micoche):\n",
    "        micoche.arranca=True\n",
    "    def situacion(micoche):\n",
    "        if (micoche.arranca):\n",
    "            return(\"el coche esta en marcha\")\n",
    "        else:\n",
    "            return(\"el coche esta parado\")\n",
    "micoche=coche()\n",
    "print(\"largo del coche:\",micoche.largo)\n",
    "print(\"ancho del coche:\",micoche.ancho)\n",
    "micoche.marcha()\n",
    "print(micoche.situacion())\n",
    "\n"
   ]
  },
  {
   "cell_type": "code",
   "execution_count": 5,
   "id": "48e1f1be",
   "metadata": {},
   "outputs": [
    {
     "name": "stdout",
     "output_type": "stream",
     "text": [
      "22.0\n"
     ]
    }
   ],
   "source": [
    "def division(op1,op2):\n",
    "    resultado=o\n",
    "division(88,4)"
   ]
  },
  {
   "cell_type": "code",
   "execution_count": 18,
   "id": "655ce341",
   "metadata": {},
   "outputs": [
    {
     "name": "stdout",
     "output_type": "stream",
     "text": [
      "['paco', 'pepe', 89, 90, 'luis', 4, 'jose', 23]\n"
     ]
    }
   ],
   "source": [
    "lista=[\"paco\",\"pepe\",89,90,\"luis\"]\n",
    "lista.extend([4,\"jose\",23])\n",
    "print(lista[:])"
   ]
  },
  {
   "cell_type": "code",
   "execution_count": 5,
   "id": "f62a33d1",
   "metadata": {},
   "outputs": [
    {
     "name": "stdout",
     "output_type": "stream",
     "text": [
      "se va a proceder a chequear el coche \n",
      "Arrancado\n",
      "largo: 3900 \n",
      "ancho: 1500 \n",
      "ruedas: 4\n",
      "....introducimos un segundo objeto....\n",
      "se va a proceder a chequear el coche \n",
      "Arrancado\n",
      "largo: 3900 \n",
      "ancho: 1500 \n",
      "ruedas: 4\n"
     ]
    }
   ],
   "source": [
    "class coche():\n",
    "    def __init__(self):\n",
    "        self.largo=3900\n",
    "        self.ancho=1500\n",
    "        self.__ruedas=4\n",
    "        self.enmarcha=False\n",
    "    \n",
    "    def arrancar(self,arrancamos):\n",
    "        self.enmarcha=arrancamos\n",
    "        if(self.enmarcha):\n",
    "            chequeado=self.__chequeo()\n",
    "        if(self.enmarcha and chequeado):\n",
    "            return \"Arrancado\"\n",
    "        elif(self.enmarcha and chequeado==False):\n",
    "            return(\"No arrancar, el coche tiene que revisarse\")\n",
    "        else:\n",
    "            return \"Parado\"\n",
    "        \n",
    "    def estado(self):\n",
    "        print(\"largo:\",self.largo,\"\\nancho:\",self.ancho,\"\\nruedas:\",self.__ruedas)\n",
    "    \n",
    "    def __chequeo(self):\n",
    "        print(\"se va a proceder a chequear el coche \")\n",
    "        self.gasolina=\"ok\"\n",
    "        self.aceite=\"ok\"\n",
    "        self.puertas=\"cerradas\"\n",
    "        if(self.gasolina==\"ok\" and self.aceite==\"ok\" and self.puertas==\"cerradas\"):\n",
    "            return True\n",
    "        else:\n",
    "            return False\n",
    "        \n",
    "micoche=coche()\n",
    "\n",
    "print(micoche.arrancar(True))\n",
    "\n",
    "micoche.estado()\n",
    "\n",
    "print(\"....introducimos un segundo objeto....\")\n",
    "\n",
    "micoche2=coche()\n",
    "\n",
    "print(micoche2.arrancar(True))\n",
    "\n",
    "micoche2.estado()\n",
    "        "
   ]
  },
  {
   "cell_type": "code",
   "execution_count": 1,
   "id": "4da115bc",
   "metadata": {},
   "outputs": [
    {
     "name": "stdout",
     "output_type": "stream",
     "text": [
      "Marca: Honda \n",
      "Modelo: TX \n",
      "En Marcha: False \n",
      "Acelerando: False \n",
      "Frenando: False \n",
      " Estoy haciendo un caballito\n",
      "Marca: Renault \n",
      "Modelo: Kangoo \n",
      "En Marcha: False \n",
      "Acelerando: False \n",
      "Frenando: False\n",
      "cargada\n"
     ]
    }
   ],
   "source": [
    "class vehiculo():\n",
    "    def __init__(self,marca,modelo):\n",
    "        self.marca=marca\n",
    "        self.modelo=modelo\n",
    "        self.enmarcha=False\n",
    "        self.acelera=False\n",
    "        self.frena=False\n",
    "    \n",
    "    def arrancar(self):\n",
    "        self.enmarcha=True\n",
    "        \n",
    "    def acelerar(self):\n",
    "        self.acelera=True\n",
    "        \n",
    "    def frenar(self):\n",
    "        self.frena=True\n",
    "        \n",
    "    def estado(self):\n",
    "        print(\"Marca:\",self.marca,\"\\nModelo:\",self.modelo,\"\\nEn Marcha:\",self.enmarcha,\"\\nAcelerando:\",\n",
    "              self.acelera,\"\\nFrenando:\",self.frena)\n",
    "        \n",
    "class furgoneta(vehiculo):\n",
    "    \n",
    "    def carga(self,cargando):\n",
    "        self.cargar=cargando\n",
    "        if (self.cargar):\n",
    "            return \"cargada\"\n",
    "        else:\n",
    "            return \"vacia\"      \n",
    "        \n",
    "           \n",
    "class moto(vehiculo):\n",
    "    \n",
    "    hcaballito=\"\"\n",
    "    \n",
    "    def caballito(self):\n",
    "        self.hcaballito=\"Estoy haciendo un caballito\"\n",
    "    \n",
    "    def estado(self):\n",
    "        print(\"Marca:\",self.marca,\"\\nModelo:\",self.modelo,\"\\nEn Marcha:\",self.enmarcha,\"\\nAcelerando:\",\n",
    "              self.acelera,\"\\nFrenando:\",self.frena,\"\\n\",self.hcaballito)\n",
    "        \n",
    "class vehiculoelectrico():\n",
    "    \n",
    "    def __init__(self):\n",
    "        self.autonomia=100\n",
    "    def cargabateria(self):\n",
    "        self.cargandobateria=True\n",
    "        \n",
    "class bicielectrica(vehiculoelectrico,vehiculo):\n",
    "    pass    \n",
    "    \n",
    "mimoto=moto(\"Honda\",\"TX\")\n",
    "\n",
    "mimoto.caballito()\n",
    "    \n",
    "mimoto.estado()\n",
    "\n",
    "mifurgoneta=furgoneta(\"Renault\",\"Kangoo\")\n",
    "\n",
    "mifurgoneta.estado()\n",
    "\n",
    "print(mifurgoneta.carga(True))\n",
    "\n",
    "mibiciel=bicielectrica()\n",
    "\n",
    "mibiciel.cargabateria()\n",
    "\n"
   ]
  },
  {
   "cell_type": "code",
   "execution_count": 8,
   "id": "9ebcc13c",
   "metadata": {},
   "outputs": [
    {
     "name": "stdout",
     "output_type": "stream",
     "text": [
      "Introduzca el numero de terminos de la serie que desea:20\n",
      "La serie fibonacci hasta ese ternmino elegido es:\n",
      "0 1 1 2 3 5 8 13 21 34 55 89 144 233 377 610 987 1597 2584 4181 "
     ]
    }
   ],
   "source": [
    "\n",
    "\n",
    "def fivonacci(Num):\n",
    "    if Num==0:\n",
    "        return 0\n",
    "    elif Num==1:\n",
    "        return 1\n",
    "    else:\n",
    "        return(fivonacci(Num-2)+fivonacci(Num-1))\n",
    "    \n",
    "n=int(input(\"Introduzca el numero de terminos de la serie que desea:\"))\n",
    "\n",
    "print(\"La serie fibonacci hasta ese ternmino elegido es:\")\n",
    "\n",
    "for n in range(n):\n",
    " print(fivonacci(n),end=\" \")\n",
    "    \n",
    "    "
   ]
  },
  {
   "cell_type": "code",
   "execution_count": null,
   "id": "7af9760c",
   "metadata": {},
   "outputs": [],
   "source": []
  },
  {
   "cell_type": "code",
   "execution_count": null,
   "id": "7e596512",
   "metadata": {},
   "outputs": [],
   "source": []
  }
 ],
 "metadata": {
  "kernelspec": {
   "display_name": "Python 3",
   "language": "python",
   "name": "python3"
  },
  "language_info": {
   "codemirror_mode": {
    "name": "ipython",
    "version": 3
   },
   "file_extension": ".py",
   "mimetype": "text/x-python",
   "name": "python",
   "nbconvert_exporter": "python",
   "pygments_lexer": "ipython3",
   "version": "3.8.8"
  }
 },
 "nbformat": 4,
 "nbformat_minor": 5
}
