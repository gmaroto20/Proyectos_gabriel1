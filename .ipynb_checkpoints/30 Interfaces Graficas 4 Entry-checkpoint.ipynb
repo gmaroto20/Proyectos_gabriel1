{
 "cells": [
  {
   "cell_type": "code",
   "execution_count": 1,
   "id": "2517f121",
   "metadata": {},
   "outputs": [],
   "source": [
    "#vamos a inroducir cuadros de texto (Entry())"
   ]
  },
  {
   "cell_type": "code",
   "execution_count": 3,
   "id": "eee36521",
   "metadata": {},
   "outputs": [],
   "source": [
    "from tkinter import *\n",
    "\n",
    "raiz=Tk()\n",
    "\n",
    "cuadrodetexto=Entry(raiz)\n",
    "cuadrodetexto.pack()\n",
    "\n",
    "root.mainloop()"
   ]
  },
  {
   "cell_type": "code",
   "execution_count": 4,
   "id": "70b56e29",
   "metadata": {},
   "outputs": [],
   "source": [
    "#una vez creado podemos darle un Frame con las caracteristicas que queramos"
   ]
  },
  {
   "cell_type": "code",
   "execution_count": 5,
   "id": "f7ef39b0",
   "metadata": {},
   "outputs": [],
   "source": [
    "from tkinter import *\n",
    "\n",
    "raiz=Tk()\n",
    "\n",
    "miframe=Frame(raiz,width=\"1200\",height=\"600\")\n",
    "miframe.pack()\n",
    "\n",
    "cuadrodetexto=Entry(miframe)\n",
    "cuadrodetexto.place(x=100,y=100)\n",
    "\n",
    "root.mainloop()"
   ]
  },
  {
   "cell_type": "code",
   "execution_count": 6,
   "id": "89ad46f9",
   "metadata": {},
   "outputs": [],
   "source": [
    "#ahora vamos a colocar un label delante del cuadro de texto y habra que poner su sitacion (coordenadas)"
   ]
  },
  {
   "cell_type": "code",
   "execution_count": 8,
   "id": "1e62a390",
   "metadata": {},
   "outputs": [],
   "source": [
    "from tkinter import *\n",
    "\n",
    "raiz=Tk()\n",
    "\n",
    "miframe=Frame(raiz,width=\"1200\",height=\"600\")\n",
    "miframe.pack()\n",
    "\n",
    "cuadrodetexto=Entry(miframe)\n",
    "cuadrodetexto.place(x=100,y=100)\n",
    "\n",
    "milabel=Label(miframe,text=\"Nombre:\")\n",
    "milabel.place(x=100,y=100)\n",
    "\n",
    "root.mainloop()"
   ]
  },
  {
   "cell_type": "code",
   "execution_count": 9,
   "id": "d506d51a",
   "metadata": {},
   "outputs": [],
   "source": [
    "#pero no es la forma mas adecuada de utilizar el place\n",
    "#vamos a trabajar con el metodo grid() que crea el frame en forma de casillas (row=hileras,column=columnas)\n",
    "#sustituimos el metodo place() por el metodo grid() las hileras y col serian (0,1,2,...)"
   ]
  },
  {
   "cell_type": "code",
   "execution_count": 14,
   "id": "389cefaf",
   "metadata": {},
   "outputs": [],
   "source": [
    "from tkinter import *\n",
    "\n",
    "raiz=Tk()\n",
    "\n",
    "miframe=Frame(raiz,width=\"1200\",height=\"600\")\n",
    "miframe.pack()\n",
    "\n",
    "cuadrodetexto=Entry(miframe)\n",
    "cuadrodetexto.grid(row=0,column=1)\n",
    "\n",
    "milabel=Label(miframe,text=\"Nombre:\")\n",
    "milabel.grid(row=0,column=0)\n",
    "\n",
    "root.mainloop()"
   ]
  },
  {
   "cell_type": "code",
   "execution_count": 15,
   "id": "0828f733",
   "metadata": {},
   "outputs": [],
   "source": [
    "#a continuacion añadimos dos cuadros de texto nuevos y dos label"
   ]
  },
  {
   "cell_type": "code",
   "execution_count": 19,
   "id": "2027d9a2",
   "metadata": {},
   "outputs": [],
   "source": [
    "from tkinter import *\n",
    "\n",
    "raiz=Tk()\n",
    "\n",
    "miframe=Frame(raiz,width=\"1200\",height=\"600\")\n",
    "miframe.pack()\n",
    "\n",
    "cuadronombre=Entry(miframe)\n",
    "cuadronombre.grid(row=0,column=1)\n",
    "\n",
    "cuadroapellido=Entry(miframe)\n",
    "cuadroapellido.grid(row=1,column=1)\n",
    "\n",
    "cuadrodireccion=Entry(miframe)\n",
    "cuadrodireccion.grid(row=2,column=1)\n",
    "\n",
    "nombrelabel=Label(miframe,text=\"Nombre:\")\n",
    "nombrelabel.grid(row=0,column=0)\n",
    "\n",
    "apellidolabel=Label(miframe,text=\"Apellido:\")\n",
    "apellidolabel.grid(row=1,column=0)\n",
    "\n",
    "direccionlabel=Label(miframe,text=\"Direccion:\")\n",
    "direccionlabel.grid(row=2,column=0)\n",
    "\n",
    "root.mainloop()"
   ]
  },
  {
   "cell_type": "code",
   "execution_count": 20,
   "id": "7a791e12",
   "metadata": {},
   "outputs": [],
   "source": [
    "#los label se pueden centrar o ir a la izquierda o derecha.Esto se hace con el sticky(puntos cardinales)\n",
    "#n,s,e,w,ne,nw,se,sw en google se veran diferentes vinculos"
   ]
  },
  {
   "cell_type": "code",
   "execution_count": 23,
   "id": "0d33d9cd",
   "metadata": {},
   "outputs": [],
   "source": [
    "from tkinter import *\n",
    "\n",
    "raiz=Tk()\n",
    "\n",
    "miframe=Frame(raiz,width=\"1200\",height=\"600\")\n",
    "miframe.pack()\n",
    "\n",
    "cuadronombre=Entry(miframe)\n",
    "cuadronombre.grid(row=0,column=1)\n",
    "\n",
    "cuadroapellido=Entry(miframe)\n",
    "cuadroapellido.grid(row=1,column=1)\n",
    "\n",
    "cuadrodireccion=Entry(miframe)\n",
    "cuadrodireccion.grid(row=2,column=1)\n",
    "\n",
    "nombrelabel=Label(miframe,text=\"Nombre:\")\n",
    "nombrelabel.grid(row=0,column=0,sticky=\"e\")\n",
    "\n",
    "apellidolabel=Label(miframe,text=\"Apellido:\")\n",
    "apellidolabel.grid(row=1,column=0,sticky=\"e\")\n",
    "\n",
    "direccionlabel=Label(miframe,text=\"Direccion:\")\n",
    "direccionlabel.grid(row=2,column=0,sticky=\"e\")\n",
    "\n",
    "root.mainloop()"
   ]
  },
  {
   "cell_type": "code",
   "execution_count": 24,
   "id": "4554133b",
   "metadata": {},
   "outputs": [],
   "source": [
    "#uno de esos vinculos es el pady o padx que permite separar los cuadros de texto\n",
    "#pady (vertical) o padx (horizontal) es la distancia a los limites del contenedor"
   ]
  },
  {
   "cell_type": "code",
   "execution_count": 26,
   "id": "47189f0a",
   "metadata": {},
   "outputs": [],
   "source": [
    "from tkinter import *\n",
    "\n",
    "raiz=Tk()\n",
    "\n",
    "miframe=Frame(raiz,width=\"1200\",height=\"600\")\n",
    "miframe.pack()\n",
    "\n",
    "cuadronombre=Entry(miframe)\n",
    "cuadronombre.grid(row=0,column=1,padx=10,pady=10)\n",
    "\n",
    "cuadroapellido=Entry(miframe)\n",
    "cuadroapellido.grid(row=1,column=1,padx=10,pady=10)\n",
    "\n",
    "cuadrodireccion=Entry(miframe)\n",
    "cuadrodireccion.grid(row=2,column=1,padx=10,pady=10)\n",
    "\n",
    "nombrelabel=Label(miframe,text=\"Nombre:\")\n",
    "nombrelabel.grid(row=0,column=0,sticky=\"e\",padx=10,pady=10)\n",
    "\n",
    "apellidolabel=Label(miframe,text=\"Apellido:\")\n",
    "apellidolabel.grid(row=1,column=0,sticky=\"e\",padx=10,pady=10)\n",
    "\n",
    "direccionlabel=Label(miframe,text=\"Direccion:\")\n",
    "direccionlabel.grid(row=2,column=0,sticky=\"e\",padx=10,pady=10)\n",
    "\n",
    "root.mainloop()"
   ]
  },
  {
   "cell_type": "code",
   "execution_count": 27,
   "id": "36891422",
   "metadata": {},
   "outputs": [],
   "source": [
    "#luego se puede ir mejorando a traves de un nuevo metodo config() las caracteristicas del modelo\n",
    "#introducimos un nuevo cuadro de texto para el pasword"
   ]
  },
  {
   "cell_type": "code",
   "execution_count": 29,
   "id": "69b2349d",
   "metadata": {},
   "outputs": [],
   "source": [
    "from tkinter import *\n",
    "\n",
    "raiz=Tk()\n",
    "\n",
    "miframe=Frame(raiz,width=\"1200\",height=\"600\")\n",
    "miframe.pack()\n",
    "\n",
    "cuadronombre=Entry(miframe)\n",
    "cuadronombre.grid(row=0,column=1,padx=10,pady=10)\n",
    "cuadronombre.config(fg=\"red\",justify=\"center\")\n",
    "\n",
    "cuadropass=Entry(miframe)\n",
    "cuadropass.grid(row=1,column=1,padx=10,pady=10)\n",
    "cuadropass.config(fg=\"red\",justify=\"center\")\n",
    "\n",
    "cuadroapellido=Entry(miframe)\n",
    "cuadroapellido.grid(row=2,column=1,padx=10,pady=10)\n",
    "cuadroapellido.config(fg=\"red\",justify=\"center\")\n",
    "\n",
    "cuadrodireccion=Entry(miframe)\n",
    "cuadrodireccion.grid(row=3,column=1,padx=10,pady=10)\n",
    "cuadrodireccion.config(fg=\"red\",justify=\"center\")\n",
    "\n",
    "nombrelabel=Label(miframe,text=\"Nombre:\")\n",
    "nombrelabel.grid(row=0,column=0,sticky=\"e\",padx=10,pady=10)\n",
    "\n",
    "passlabel=Label(miframe,text=\"Pasword:\")\n",
    "passlabel.grid(row=1,column=0,sticky=\"e\",padx=10,pady=10)\n",
    "\n",
    "apellidolabel=Label(miframe,text=\"Apellido:\")\n",
    "apellidolabel.grid(row=2,column=0,sticky=\"e\",padx=10,pady=10)\n",
    "\n",
    "direccionlabel=Label(miframe,text=\"Direccion:\")\n",
    "direccionlabel.grid(row=3,column=0,sticky=\"e\",padx=10,pady=10)\n",
    "\n",
    "root.mainloop()"
   ]
  },
  {
   "cell_type": "code",
   "execution_count": 30,
   "id": "9c291793",
   "metadata": {},
   "outputs": [],
   "source": [
    "#en el cuadro de texto del pasword queremos que salgan solo asteriscos al introducir una contraseña\n",
    "#usamos el argumento show(\"*\")"
   ]
  },
  {
   "cell_type": "code",
   "execution_count": 34,
   "id": "4de42443",
   "metadata": {},
   "outputs": [],
   "source": [
    "from tkinter import *\n",
    "\n",
    "raiz=Tk()\n",
    "\n",
    "miframe=Frame(raiz,width=\"1200\",height=\"600\")\n",
    "miframe.pack()\n",
    "\n",
    "cuadronombre=Entry(miframe)\n",
    "cuadronombre.grid(row=0,column=1,padx=10,pady=10)\n",
    "cuadronombre.config(fg=\"red\",justify=\"center\")\n",
    "\n",
    "cuadropass=Entry(miframe)\n",
    "cuadropass.grid(row=1,column=1,padx=10,pady=10)\n",
    "cuadropass.config(fg=\"red\",justify=\"center\",show=\"*\")\n",
    "\n",
    "cuadroapellido=Entry(miframe)\n",
    "cuadroapellido.grid(row=2,column=1,padx=10,pady=10)\n",
    "cuadroapellido.config(fg=\"red\",justify=\"center\")\n",
    "\n",
    "cuadrodireccion=Entry(miframe)\n",
    "cuadrodireccion.grid(row=3,column=1,padx=10,pady=10)\n",
    "cuadrodireccion.config(fg=\"red\",justify=\"center\")\n",
    "\n",
    "nombrelabel=Label(miframe,text=\"Nombre:\")\n",
    "nombrelabel.grid(row=0,column=0,sticky=\"e\",padx=10,pady=10)\n",
    "\n",
    "passlabel=Label(miframe,text=\"Pasword:\")\n",
    "passlabel.grid(row=1,column=0,sticky=\"e\",padx=10,pady=10)\n",
    "\n",
    "apellidolabel=Label(miframe,text=\"Apellido:\")\n",
    "apellidolabel.grid(row=2,column=0,sticky=\"e\",padx=10,pady=10)\n",
    "\n",
    "direccionlabel=Label(miframe,text=\"Direccion:\")\n",
    "direccionlabel.grid(row=3,column=0,sticky=\"e\",padx=10,pady=10)\n",
    "\n",
    "root.mainloop()"
   ]
  },
  {
   "cell_type": "code",
   "execution_count": null,
   "id": "d7c132de",
   "metadata": {},
   "outputs": [],
   "source": []
  }
 ],
 "metadata": {
  "kernelspec": {
   "display_name": "Python 3",
   "language": "python",
   "name": "python3"
  },
  "language_info": {
   "codemirror_mode": {
    "name": "ipython",
    "version": 3
   },
   "file_extension": ".py",
   "mimetype": "text/x-python",
   "name": "python",
   "nbconvert_exporter": "python",
   "pygments_lexer": "ipython3",
   "version": "3.8.8"
  }
 },
 "nbformat": 4,
 "nbformat_minor": 5
}
