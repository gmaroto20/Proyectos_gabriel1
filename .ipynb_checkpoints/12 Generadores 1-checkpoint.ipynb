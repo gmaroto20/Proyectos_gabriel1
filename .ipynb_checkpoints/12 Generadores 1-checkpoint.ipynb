{
 "cells": [
  {
   "cell_type": "code",
   "execution_count": 1,
   "id": "b2899b34",
   "metadata": {},
   "outputs": [],
   "source": [
    "#un generador es como una funcion que se ejecuta ahorrando espacio en la memoria\n",
    "#por ej una funcion que nos de x numeros pares en la f da una lista pero en el g se pueden \n",
    "#recuperar de uno en uno"
   ]
  },
  {
   "cell_type": "code",
   "execution_count": 4,
   "id": "acd259f2",
   "metadata": {},
   "outputs": [
    {
     "name": "stdout",
     "output_type": "stream",
     "text": [
      "[2, 4, 6, 8, 10, 12, 14, 16, 18, 20, 22, 24, 26, 28, 30, 32, 34, 36, 38]\n"
     ]
    }
   ],
   "source": [
    "def pares(limite):\n",
    "    num=1\n",
    "    lista=[]\n",
    "    while num<limite:\n",
    "        lista.append(num*2)\n",
    "        num=num+1\n",
    "    return lista\n",
    "print(pares(20))"
   ]
  },
  {
   "cell_type": "code",
   "execution_count": 5,
   "id": "b29e594a",
   "metadata": {},
   "outputs": [],
   "source": [
    "#el generador nos devuelve la lista almacenada en un objeto iterable\n",
    "#para almacenar los datos se usa la instruccion yield\n",
    "#luego creo una variable generapares por ej,donde almaceno el objeto iterable pares(20)\n",
    "#luego mediante un bucle genero la lista,que puede ser completa o uno a uno"
   ]
  },
  {
   "cell_type": "code",
   "execution_count": 7,
   "id": "3fc7ec0b",
   "metadata": {},
   "outputs": [
    {
     "name": "stdout",
     "output_type": "stream",
     "text": [
      "2\n",
      "4\n",
      "6\n",
      "8\n"
     ]
    }
   ],
   "source": [
    "def pares(limite):\n",
    "    num=1\n",
    "    while num<limite:\n",
    "        yield num*2\n",
    "        num=num+1\n",
    "generapares=pares(5)\n",
    "for i in generapares:\n",
    "    print(i)\n",
    "   "
   ]
  },
  {
   "cell_type": "code",
   "execution_count": 8,
   "id": "de317716",
   "metadata": {},
   "outputs": [],
   "source": [
    "#pero para ver la eficiencia habria que solicitarlos de uno en uno,de dos en dos etc.\n",
    "#con el codigo next nos devuelve el primero"
   ]
  },
  {
   "cell_type": "code",
   "execution_count": 9,
   "id": "609a92d7",
   "metadata": {},
   "outputs": [
    {
     "name": "stdout",
     "output_type": "stream",
     "text": [
      "2\n"
     ]
    }
   ],
   "source": [
    "def pares(limite):\n",
    "    num=1\n",
    "    while num<limite:\n",
    "        yield num*2\n",
    "        num=num+1\n",
    "generapares=pares(5)\n",
    "print(next(generapares))\n",
    "   "
   ]
  },
  {
   "cell_type": "code",
   "execution_count": 10,
   "id": "04a0741e",
   "metadata": {},
   "outputs": [],
   "source": [
    "#despues de esta instruccion se puede seguir con el programa e ir llamando a los valores cuando quiera"
   ]
  },
  {
   "cell_type": "code",
   "execution_count": 12,
   "id": "1af81a40",
   "metadata": {},
   "outputs": [
    {
     "name": "stdout",
     "output_type": "stream",
     "text": [
      "2\n",
      "el moski es guapo\n",
      "4\n",
      "el moski es guapo\n",
      "6\n",
      "el moski es guapo\n"
     ]
    }
   ],
   "source": [
    "def pares(limite):\n",
    "    num=1\n",
    "    while num<limite:\n",
    "        yield num*2\n",
    "        num=num+1\n",
    "generapares=pares(5)\n",
    "print(next(generapares))\n",
    "print(\"el moski es guapo\")\n",
    "print(next(generapares))\n",
    "print(\"el moski es guapo\")\n",
    "print(next(generapares))\n",
    "print(\"el moski es guapo\")"
   ]
  },
  {
   "cell_type": "code",
   "execution_count": null,
   "id": "0aafd614",
   "metadata": {},
   "outputs": [],
   "source": []
  }
 ],
 "metadata": {
  "kernelspec": {
   "display_name": "Python 3",
   "language": "python",
   "name": "python3"
  },
  "language_info": {
   "codemirror_mode": {
    "name": "ipython",
    "version": 3
   },
   "file_extension": ".py",
   "mimetype": "text/x-python",
   "name": "python",
   "nbconvert_exporter": "python",
   "pygments_lexer": "ipython3",
   "version": "3.8.8"
  }
 },
 "nbformat": 4,
 "nbformat_minor": 5
}
