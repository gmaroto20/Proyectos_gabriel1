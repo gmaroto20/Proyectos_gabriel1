{
 "cells": [
  {
   "cell_type": "code",
   "execution_count": 1,
   "id": "b97b6794",
   "metadata": {},
   "outputs": [],
   "source": [
    "#un bucle permite repetir una instruccion x veces\n",
    "#nomenclatura: for i in lista,tupla,string,range etc, i puede ser cualquier variable\n",
    "#da tantas vueltas como elementos haya en la lista, i=indice0,i=indice1....o letras tenga el string"
   ]
  },
  {
   "cell_type": "code",
   "execution_count": 21,
   "id": "e88f72ec",
   "metadata": {},
   "outputs": [
    {
     "name": "stdout",
     "output_type": "stream",
     "text": [
      "Hola\n",
      "Hola\n",
      "Hola\n"
     ]
    }
   ],
   "source": [
    "for i in (\"paco\",2,\"pepe\"):\n",
    "    print(\"Hola\")"
   ]
  },
  {
   "cell_type": "code",
   "execution_count": 22,
   "id": "4df3ada1",
   "metadata": {},
   "outputs": [],
   "source": [
    "#si queremos que lo saque en horizontal y podemos abrir la separacion de las comillas"
   ]
  },
  {
   "cell_type": "code",
   "execution_count": 23,
   "id": "6ebbfa3c",
   "metadata": {},
   "outputs": [
    {
     "name": "stdout",
     "output_type": "stream",
     "text": [
      "HolaHolaHola"
     ]
    }
   ],
   "source": [
    "for i in (\"paco\",2,\"pepe\"):\n",
    "    print(\"Hola\",end=\"\")"
   ]
  },
  {
   "cell_type": "code",
   "execution_count": 24,
   "id": "34ab010e",
   "metadata": {},
   "outputs": [],
   "source": [
    "#si recorre un string la longitud del bucle sera la de este"
   ]
  },
  {
   "cell_type": "code",
   "execution_count": 25,
   "id": "08f915ea",
   "metadata": {},
   "outputs": [
    {
     "name": "stdout",
     "output_type": "stream",
     "text": [
      "Hey\n",
      "Hey\n",
      "Hey\n",
      "Hey\n",
      "Hey\n",
      "Hey\n",
      "Hey\n"
     ]
    }
   ],
   "source": [
    "for i in \"macario\":\n",
    "    print(\"Hey\")"
   ]
  },
  {
   "cell_type": "code",
   "execution_count": 26,
   "id": "19e37971",
   "metadata": {},
   "outputs": [],
   "source": [
    "#por ej si queremos comprobar que una direccion email es correcta\n",
    "#lo podemos hacer comprobando que lleva el signo @"
   ]
  },
  {
   "cell_type": "code",
   "execution_count": 27,
   "id": "fe646dad",
   "metadata": {},
   "outputs": [
    {
     "name": "stdout",
     "output_type": "stream",
     "text": [
      "mail correcto\n"
     ]
    }
   ],
   "source": [
    "email=False\n",
    "for i in \"gmaroto20@gmail.com\":\n",
    "    if i==\"@\":\n",
    "        email=True\n",
    "if email==True:\n",
    "    print(\"mail correcto\")\n",
    "else:\n",
    "    print(\"mail incorrecto\")\n",
    "        "
   ]
  },
  {
   "cell_type": "code",
   "execution_count": 28,
   "id": "7bdd0071",
   "metadata": {},
   "outputs": [],
   "source": [
    "#para cualquier mail por pantalla"
   ]
  },
  {
   "cell_type": "code",
   "execution_count": 1,
   "id": "56a9b61d",
   "metadata": {},
   "outputs": [
    {
     "name": "stdout",
     "output_type": "stream",
     "text": [
      "Introduzca su mail:pepe\n",
      "mail incorrecto\n"
     ]
    }
   ],
   "source": [
    "email=False\n",
    "mimail=input(\"Introduzca su mail:\")\n",
    "for i in mimail:\n",
    "    if i==\"@\":\n",
    "        email=True\n",
    "if email==True:\n",
    "    print(\"mail correcto\")\n",
    "else:\n",
    "    print(\"mail incorrecto\")\n",
    "        "
   ]
  },
  {
   "cell_type": "code",
   "execution_count": 30,
   "id": "5a4a8947",
   "metadata": {},
   "outputs": [],
   "source": [
    "#pero todos los mail tienen al menos un punto, para evaluar esto utilizamos un contador y los operadores and y or"
   ]
  },
  {
   "cell_type": "code",
   "execution_count": 2,
   "id": "f7b116b2",
   "metadata": {},
   "outputs": [
    {
     "name": "stdout",
     "output_type": "stream",
     "text": [
      "Introduzca su mail:juan\n",
      "mail incorrecto\n"
     ]
    }
   ],
   "source": [
    "contador=0\n",
    "mimail=input(\"Introduzca su mail:\")\n",
    "for i in mimail:\n",
    "    if (i==\"@\" or i==\".\"):\n",
    "        contador=contador+1\n",
    "if contador==2:\n",
    "    print(\"mail correcto\")\n",
    "else:\n",
    "    print(\"mail incorrecto\")\n",
    "        "
   ]
  },
  {
   "cell_type": "code",
   "execution_count": 17,
   "id": "672eaeb9",
   "metadata": {},
   "outputs": [],
   "source": [
    "#pero falla si"
   ]
  },
  {
   "cell_type": "code",
   "execution_count": 20,
   "id": "0548a6c1",
   "metadata": {},
   "outputs": [
    {
     "name": "stdout",
     "output_type": "stream",
     "text": [
      "Introduzca su mail:pepe@@gmail\n",
      "mail correcto\n"
     ]
    }
   ],
   "source": [
    "contador=0\n",
    "mimail=input(\"Introduzca su mail:\")\n",
    "for i in mimail:\n",
    "    if (i==\"@\" or i==\".\"):\n",
    "        contador=contador+1\n",
    "if contador==2:\n",
    "    print(\"mail correcto\")\n",
    "else:\n",
    "    print(\"mail incorrecto\")\n",
    "        "
   ]
  },
  {
   "cell_type": "code",
   "execution_count": 15,
   "id": "77e59d9e",
   "metadata": {},
   "outputs": [],
   "source": [
    "#si en el ej del mail necesitasemos que no fallase, tendria que tener un solo @ y un . detras"
   ]
  },
  {
   "cell_type": "code",
   "execution_count": 16,
   "id": "2237b5b2",
   "metadata": {},
   "outputs": [
    {
     "name": "stdout",
     "output_type": "stream",
     "text": [
      "Introduzca su mail:gabi.maroto@gmail.com\n",
      "mail correcto\n"
     ]
    }
   ],
   "source": [
    "contador_arrobas=0\n",
    "contador_puntos = 0\n",
    "email=input(\"Introduzca su mail:\")\n",
    "for i in email:\n",
    "    if i==\"@\":\n",
    "        contador_arrobas=contador_arrobas+1\n",
    "    if (i==\".\" and contador_arrobas==1):\n",
    "        contador_puntos = contador_puntos +1\n",
    "if (contador_arrobas==1 and contador_puntos==1):\n",
    "    print(\"mail correcto\")\n",
    "else:\n",
    "    print(\"mail incorrecto\")"
   ]
  },
  {
   "cell_type": "code",
   "execution_count": 13,
   "id": "82d1386b",
   "metadata": {},
   "outputs": [],
   "source": [
    "#range"
   ]
  },
  {
   "cell_type": "code",
   "execution_count": 1,
   "id": "2c1b1a2a",
   "metadata": {
    "scrolled": true
   },
   "outputs": [
    {
     "name": "stdout",
     "output_type": "stream",
     "text": [
      "luis\n",
      "luis\n",
      "luis\n",
      "luis\n",
      "luis\n",
      "luis\n"
     ]
    }
   ],
   "source": [
    "for i in range(6):\n",
    "    print(\"luis\")"
   ]
  },
  {
   "cell_type": "code",
   "execution_count": null,
   "id": "662418ff",
   "metadata": {},
   "outputs": [],
   "source": []
  }
 ],
 "metadata": {
  "kernelspec": {
   "display_name": "Python 3",
   "language": "python",
   "name": "python3"
  },
  "language_info": {
   "codemirror_mode": {
    "name": "ipython",
    "version": 3
   },
   "file_extension": ".py",
   "mimetype": "text/x-python",
   "name": "python",
   "nbconvert_exporter": "python",
   "pygments_lexer": "ipython3",
   "version": "3.8.8"
  }
 },
 "nbformat": 4,
 "nbformat_minor": 5
}
