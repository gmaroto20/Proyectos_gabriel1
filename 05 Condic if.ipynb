{
 "cells": [
  {
   "cell_type": "code",
   "execution_count": 1,
   "id": "99eb1836",
   "metadata": {},
   "outputs": [],
   "source": [
    "#el condicional if supone que cuando se llegue en el programa a el hay que decidir entre verdadero y falso\n",
    "#si es verdadero sigue con la condicion elegida y si es falso ignora todo el if\n",
    "#se puede considerar como \"si es verdad\" o \"si se cumple que\" entonces se cumple la condicion de debajo"
   ]
  },
  {
   "cell_type": "code",
   "execution_count": 2,
   "id": "7c8e0ab8",
   "metadata": {},
   "outputs": [
    {
     "name": "stdout",
     "output_type": "stream",
     "text": [
      "programa de evaluacion\n",
      "suspenso\n"
     ]
    }
   ],
   "source": [
    "print(\"programa de evaluacion\")\n",
    "def evaluacion(nota):\n",
    "    calificacion=\"aprobado\"\n",
    "    if nota<5:\n",
    "        calificacion=\"suspenso\"\n",
    "    return calificacion\n",
    "print(evaluacion(4))"
   ]
  },
  {
   "cell_type": "code",
   "execution_count": null,
   "id": "fdddd2e3",
   "metadata": {},
   "outputs": [],
   "source": []
  },
  {
   "cell_type": "code",
   "execution_count": 3,
   "id": "ae7e1f6a",
   "metadata": {},
   "outputs": [
    {
     "name": "stdout",
     "output_type": "stream",
     "text": [
      "programa de evaluacion\n",
      "aprobado\n"
     ]
    }
   ],
   "source": [
    "print(\"programa de evaluacion\")\n",
    "print(evaluacion(8))"
   ]
  },
  {
   "cell_type": "code",
   "execution_count": 4,
   "id": "65248356",
   "metadata": {},
   "outputs": [],
   "source": [
    "#se puede meter la nota por teclado con input y cuando se abra el cuadro dar a intro\n",
    "#al llamar la funcion poner int delante porque sino lo considera texto y da error"
   ]
  },
  {
   "cell_type": "code",
   "execution_count": 7,
   "id": "019de3e5",
   "metadata": {},
   "outputs": [
    {
     "name": "stdout",
     "output_type": "stream",
     "text": [
      "programa de evaluacion\n",
      "7\n",
      "aprobado\n"
     ]
    }
   ],
   "source": [
    "print(\"programa de evaluacion\")\n",
    "nota_alumno=int(input())\n",
    "def evaluacion(nota):\n",
    "    calificacion=\"aprobado\"\n",
    "    if nota<5:\n",
    "        calificacion=\"suspenso\"\n",
    "    return calificacion\n",
    "print(evaluacion(nota_alumno))"
   ]
  },
  {
   "cell_type": "code",
   "execution_count": 8,
   "id": "326b55d6",
   "metadata": {},
   "outputs": [
    {
     "name": "stdout",
     "output_type": "stream",
     "text": [
      "programa de evaluacion\n",
      "6\n",
      "aprobado\n"
     ]
    }
   ],
   "source": [
    "print(\"programa de evaluacion\")\n",
    "nota_alumno=input()\n",
    "def evaluacion(nota):\n",
    "    calificacion=\"aprobado\"\n",
    "    if nota<5:\n",
    "        calificacion=\"suspenso\"\n",
    "    return calificacion\n",
    "print(evaluacion(int(nota_alumno)))"
   ]
  },
  {
   "cell_type": "code",
   "execution_count": null,
   "id": "668755e6",
   "metadata": {},
   "outputs": [],
   "source": []
  },
  {
   "cell_type": "code",
   "execution_count": null,
   "id": "0652b516",
   "metadata": {},
   "outputs": [],
   "source": []
  }
 ],
 "metadata": {
  "kernelspec": {
   "display_name": "Python 3",
   "language": "python",
   "name": "python3"
  },
  "language_info": {
   "codemirror_mode": {
    "name": "ipython",
    "version": 3
   },
   "file_extension": ".py",
   "mimetype": "text/x-python",
   "name": "python",
   "nbconvert_exporter": "python",
   "pygments_lexer": "ipython3",
   "version": "3.8.8"
  }
 },
 "nbformat": 4,
 "nbformat_minor": 5
}
