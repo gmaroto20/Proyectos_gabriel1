{
 "cells": [
  {
   "cell_type": "code",
   "execution_count": 1,
   "id": "a7f39a9c",
   "metadata": {},
   "outputs": [],
   "source": [
    "#ahora vamos a crear un frame(Frame()) (coordinador de los widgets) para meterlo dentro de la raiz\n",
    "#documentacion en pag web \"25.graphical user interfaces with Tk\""
   ]
  },
  {
   "cell_type": "code",
   "execution_count": null,
   "id": "4dbdc556",
   "metadata": {},
   "outputs": [],
   "source": [
    "from tkinter import *\n",
    "raiz=Tk()\n",
    "\n",
    "raiz.title(\"Prueba Gabriel\")\n",
    "raiz.resizable(True,True)\n",
    "raiz.geometry(\"650x350\")\n",
    "raiz.config(bg=\"Blue\")\n",
    "\n",
    "miframe=Frame()\n",
    "\n",
    "raiz.mainloop()"
   ]
  },
  {
   "cell_type": "code",
   "execution_count": 2,
   "id": "63cd62b1",
   "metadata": {},
   "outputs": [],
   "source": [
    "#una vez creado hay que empaquetarlo (pack) o sea meterlo dentro de la raiz\n",
    "#luego le damos un color para poder distinguirlo de la raiz\n",
    "#le damos tamaño(config(width=\"\",eight=\"\"),no geometry)), pero tenemos que quitar el tamaño de la raiz\n",
    "#pq esta se adapta al tamaño de frame"
   ]
  },
  {
   "cell_type": "code",
   "execution_count": 13,
   "id": "13877aa0",
   "metadata": {},
   "outputs": [],
   "source": [
    "from tkinter import *\n",
    "raiz=Tk()\n",
    " \n",
    "raiz.title(\"Prueba Gabriel\")\n",
    "raiz.resizable(True,True)\n",
    "raiz.config(bg=\"Blue\")\n",
    "\n",
    "miframe=Frame()\n",
    "miframe.pack()\n",
    "miframe.config(width=\"650\",height=\"350\")\n",
    "miframe.config(bg=\"red\")\n",
    "\n",
    "raiz.mainloop()"
   ]
  },
  {
   "cell_type": "code",
   "execution_count": 14,
   "id": "4cc91408",
   "metadata": {},
   "outputs": [],
   "source": [
    "#si ampliamos la raiz vemos como el cuadro del frame queda dentro de la raiz pero en una posicion\n",
    "#que podemos cambiar (packer options de la web) con el argumento side (\"right\",left,botton,top) pej"
   ]
  },
  {
   "cell_type": "code",
   "execution_count": 15,
   "id": "f27389af",
   "metadata": {},
   "outputs": [],
   "source": [
    "from tkinter import *\n",
    "raiz=Tk()\n",
    " \n",
    "raiz.title(\"Prueba Gabriel\")\n",
    "raiz.resizable(True,True)\n",
    "raiz.config(bg=\"Blue\")\n",
    "\n",
    "miframe=Frame()\n",
    "miframe.pack(side=\"right\")\n",
    "miframe.config(width=\"650\",height=\"350\")\n",
    "miframe.config(bg=\"red\")\n",
    "\n",
    "raiz.mainloop()"
   ]
  },
  {
   "cell_type": "code",
   "execution_count": 16,
   "id": "1e521b88",
   "metadata": {},
   "outputs": [],
   "source": [
    "#para utilizar dos opciones a la vez (ariba y a la derecha pej)\n",
    "#hay que utilizar el atributo anchor() que maneja puntos cardinales(n,s,e,w.ne,se,nw,sw) y asi \n",
    "#podemos colocar el frame en cualquier lado de la raiz"
   ]
  },
  {
   "cell_type": "code",
   "execution_count": 18,
   "id": "221b5669",
   "metadata": {},
   "outputs": [],
   "source": [
    "from tkinter import *\n",
    "raiz=Tk()\n",
    " \n",
    "raiz.title(\"Prueba Gabriel\")\n",
    "raiz.resizable(True,True)\n",
    "raiz.config(bg=\"Blue\")\n",
    "\n",
    "miframe=Frame()\n",
    "miframe.pack(side=\"right\",anchor=\"n\")\n",
    "miframe.config(width=\"650\",height=\"350\")\n",
    "miframe.config(bg=\"red\")\n",
    "\n",
    "raiz.mainloop()"
   ]
  },
  {
   "cell_type": "code",
   "execution_count": 19,
   "id": "e863bee6",
   "metadata": {},
   "outputs": [],
   "source": [
    "#otra opcion es considerar un sistema de ejes (fill=\"x\") y (fill=\"y\",expand=True) o\n",
    "#(fill=\"both\", expand=True) y mediante los mismos redimensionamos el frame"
   ]
  },
  {
   "cell_type": "code",
   "execution_count": 20,
   "id": "8ca459dc",
   "metadata": {},
   "outputs": [],
   "source": [
    "from tkinter import *\n",
    "raiz=Tk()\n",
    " \n",
    "raiz.title(\"Prueba Gabriel\")\n",
    "raiz.resizable(True,True)\n",
    "raiz.config(bg=\"Blue\")\n",
    "\n",
    "miframe=Frame()\n",
    "miframe.pack(fill=\"x\")\n",
    "miframe.config(width=\"650\",height=\"350\")\n",
    "miframe.config(bg=\"red\")\n",
    "\n",
    "raiz.mainloop()"
   ]
  },
  {
   "cell_type": "code",
   "execution_count": 21,
   "id": "e9d26b27",
   "metadata": {},
   "outputs": [],
   "source": [
    "#ojo, para expandir y se debe incorporar el atributo expand=True. con fill=\"both\" hace x e y"
   ]
  },
  {
   "cell_type": "code",
   "execution_count": 24,
   "id": "fed3ef9a",
   "metadata": {},
   "outputs": [],
   "source": [
    "from tkinter import *\n",
    "raiz=Tk()\n",
    " \n",
    "raiz.title(\"Prueba Gabriel\")\n",
    "raiz.resizable(True,True)\n",
    "raiz.config(bg=\"Blue\")\n",
    "\n",
    "miframe=Frame()\n",
    "miframe.pack(fill=\"y\",expand=\"True\")\n",
    "miframe.config(width=\"650\",height=\"350\")\n",
    "miframe.config(bg=\"red\")\n",
    "\n",
    "raiz.mainloop()"
   ]
  },
  {
   "cell_type": "code",
   "execution_count": 25,
   "id": "233a8aa3",
   "metadata": {},
   "outputs": [],
   "source": [
    "#se pueden cambiar muchas caracteristicas del borde (ver web) pej los bordes (bd=25 y relief=\"groove\")"
   ]
  },
  {
   "cell_type": "code",
   "execution_count": 26,
   "id": "f355e7e5",
   "metadata": {},
   "outputs": [],
   "source": [
    "from tkinter import *\n",
    "raiz=Tk()\n",
    " \n",
    "raiz.title(\"Prueba Gabriel\")\n",
    "raiz.resizable(True,True)\n",
    "raiz.config(bg=\"Blue\")\n",
    "\n",
    "miframe=Frame()\n",
    "miframe.pack(fill=\"y\",expand=\"True\")\n",
    "miframe.config(width=\"650\",height=\"350\")\n",
    "miframe.config(bg=\"red\")\n",
    "miframe.config(bd=35)\n",
    "miframe.config(relief=\"groove\")\n",
    "\n",
    "raiz.mainloop()"
   ]
  },
  {
   "cell_type": "code",
   "execution_count": 27,
   "id": "b1a38a67",
   "metadata": {},
   "outputs": [],
   "source": [
    "#se puede cambiar el cursor del raton (a una mano o una calavera pej)"
   ]
  },
  {
   "cell_type": "code",
   "execution_count": 28,
   "id": "e440b2fa",
   "metadata": {},
   "outputs": [],
   "source": [
    "from tkinter import *\n",
    "raiz=Tk()\n",
    " \n",
    "raiz.title(\"Prueba Gabriel\")\n",
    "raiz.resizable(True,True)\n",
    "raiz.config(bg=\"Blue\")\n",
    "\n",
    "miframe=Frame()\n",
    "miframe.pack(fill=\"y\",expand=\"True\")\n",
    "miframe.config(width=\"650\",height=\"350\")\n",
    "miframe.config(bg=\"red\")\n",
    "miframe.config(bd=35)\n",
    "miframe.config(relief=\"groove\")\n",
    "miframe.config(cursor=\"hand2\")\n",
    "\n",
    "raiz.mainloop()"
   ]
  },
  {
   "cell_type": "code",
   "execution_count": null,
   "id": "d430d7bf",
   "metadata": {},
   "outputs": [],
   "source": [
    "#todas las configuraciones del frame se pueden aplicar a la raiz"
   ]
  },
  {
   "cell_type": "code",
   "execution_count": null,
   "id": "13abed22",
   "metadata": {},
   "outputs": [],
   "source": []
  }
 ],
 "metadata": {
  "kernelspec": {
   "display_name": "Python 3",
   "language": "python",
   "name": "python3"
  },
  "language_info": {
   "codemirror_mode": {
    "name": "ipython",
    "version": 3
   },
   "file_extension": ".py",
   "mimetype": "text/x-python",
   "name": "python",
   "nbconvert_exporter": "python",
   "pygments_lexer": "ipython3",
   "version": "3.8.8"
  }
 },
 "nbformat": 4,
 "nbformat_minor": 5
}
