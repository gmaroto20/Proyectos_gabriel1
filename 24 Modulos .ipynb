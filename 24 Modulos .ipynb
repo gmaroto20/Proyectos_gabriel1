{
 "cells": [
  {
   "cell_type": "code",
   "execution_count": 1,
   "id": "600ddcc1",
   "metadata": {},
   "outputs": [],
   "source": [
    "#Vamos a utilizar funciones que estan en modulos.py"
   ]
  },
  {
   "cell_type": "code",
   "execution_count": 1,
   "id": "a69f7ccb",
   "metadata": {},
   "outputs": [],
   "source": [
    "#los modulos son archivos .py, sirven para reutilizar codigos\n",
    "#para dar de alta se puede ejecutar las ordenes en python y luego pegarlas en un .txt cambiando la \n",
    "#extension a .py"
   ]
  },
  {
   "cell_type": "code",
   "execution_count": 5,
   "id": "db0db503",
   "metadata": {},
   "outputs": [
    {
     "name": "stdout",
     "output_type": "stream",
     "text": [
      "El resultado de la suma es: 15\n",
      "El resultado de la resta es: -1\n",
      "El resultado de la multiplicacion es: 56\n",
      "El resultado de la division es: 0.875\n"
     ]
    }
   ],
   "source": [
    "import Modulo_mates\n",
    "Modulo_mates.sumar(7,8)\n",
    "Modulo_mates.restar(7,8)\n",
    "Modulo_mates.multiplicar(7,8)\n",
    "Modulo_mates.dividir(7,8)"
   ]
  },
  {
   "cell_type": "code",
   "execution_count": 4,
   "id": "bbe49723",
   "metadata": {},
   "outputs": [],
   "source": [
    "#se puede importar todo con un *"
   ]
  },
  {
   "cell_type": "code",
   "execution_count": 11,
   "id": "a181c28a",
   "metadata": {},
   "outputs": [
    {
     "name": "stdout",
     "output_type": "stream",
     "text": [
      "El resultado de la suma es: 43\n",
      "El resultado de la division es: 9.88888888888889\n"
     ]
    }
   ],
   "source": [
    "from Modulo_mates import *\n",
    "sumar(9,34)\n",
    "dividir(89,9)"
   ]
  },
  {
   "cell_type": "code",
   "execution_count": 12,
   "id": "1ab9d19f",
   "metadata": {},
   "outputs": [],
   "source": [
    "#con el modulo del coche"
   ]
  },
  {
   "cell_type": "code",
   "execution_count": 16,
   "id": "2131efc1",
   "metadata": {},
   "outputs": [
    {
     "name": "stdout",
     "output_type": "stream",
     "text": [
      "se va a proceder a chequear el coche \n",
      "Arrancado\n",
      "largo: 3900 \n",
      "ancho: 1500 \n",
      "ruedas: 4\n"
     ]
    }
   ],
   "source": [
    "from Modulo_coche import *\n",
    "micoche=coche()\n",
    "print(micoche.arrancar(True))\n",
    "micoche.estado()"
   ]
  },
  {
   "cell_type": "code",
   "execution_count": null,
   "id": "761a93a9",
   "metadata": {},
   "outputs": [],
   "source": [
    "#todo esto es posible porque el fichero importado (.py) se encuentra en la misma carpeta que el 24 Modulos\n",
    "#si estuvieran en directorios diferentes hay que utilizar paquetes"
   ]
  }
 ],
 "metadata": {
  "kernelspec": {
   "display_name": "Python 3",
   "language": "python",
   "name": "python3"
  },
  "language_info": {
   "codemirror_mode": {
    "name": "ipython",
    "version": 3
   },
   "file_extension": ".py",
   "mimetype": "text/x-python",
   "name": "python",
   "nbconvert_exporter": "python",
   "pygments_lexer": "ipython3",
   "version": "3.8.8"
  }
 },
 "nbformat": 4,
 "nbformat_minor": 5
}
