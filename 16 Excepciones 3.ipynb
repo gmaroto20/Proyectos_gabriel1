{
 "cells": [
  {
   "cell_type": "code",
   "execution_count": 2,
   "id": "c873af55",
   "metadata": {},
   "outputs": [],
   "source": [
    "#las excepciones se pueden lanzar voluntariamente por nosotros (comando Raise)"
   ]
  },
  {
   "cell_type": "code",
   "execution_count": 3,
   "id": "47f7d238",
   "metadata": {},
   "outputs": [
    {
     "name": "stdout",
     "output_type": "stream",
     "text": [
      "eres maduro\n"
     ]
    }
   ],
   "source": [
    "def evaluaedad(edad):\n",
    "    if edad<18:\n",
    "        return(\"eres joven\")\n",
    "    elif edad<65:\n",
    "        return(\"eres maduro\")\n",
    "    elif edad<100:\n",
    "        return(\"cuidate..\")\n",
    "print(evaluaedad(20))\n",
    "\n",
    "    "
   ]
  },
  {
   "cell_type": "code",
   "execution_count": 4,
   "id": "43b359e1",
   "metadata": {},
   "outputs": [],
   "source": [
    "#pero si metemos una edad negativa, podemos lanzar una excepcion entre otras soluciones\n",
    "#podemos poner el tipo de error que queramos, si esta en los reconocidos en la biblioteca Phyton\n",
    "#si no esta reconocido nos dira que no esta en la clase correspondiente"
   ]
  },
  {
   "cell_type": "code",
   "execution_count": 5,
   "id": "a5511d7b",
   "metadata": {},
   "outputs": [
    {
     "ename": "TypeError",
     "evalue": "nose permiten edades negativas",
     "output_type": "error",
     "traceback": [
      "\u001b[1;31m---------------------------------------------------------------------------\u001b[0m",
      "\u001b[1;31mTypeError\u001b[0m                                 Traceback (most recent call last)",
      "\u001b[1;32m<ipython-input-5-8eacc57d4dc4>\u001b[0m in \u001b[0;36m<module>\u001b[1;34m\u001b[0m\n\u001b[0;32m      9\u001b[0m     \u001b[1;32melif\u001b[0m \u001b[0medad\u001b[0m\u001b[1;33m<\u001b[0m\u001b[1;36m100\u001b[0m\u001b[1;33m:\u001b[0m\u001b[1;33m\u001b[0m\u001b[1;33m\u001b[0m\u001b[0m\n\u001b[0;32m     10\u001b[0m         \u001b[1;32mreturn\u001b[0m\u001b[1;33m(\u001b[0m\u001b[1;34m\"cuidate..\"\u001b[0m\u001b[1;33m)\u001b[0m\u001b[1;33m\u001b[0m\u001b[1;33m\u001b[0m\u001b[0m\n\u001b[1;32m---> 11\u001b[1;33m \u001b[0mprint\u001b[0m\u001b[1;33m(\u001b[0m\u001b[0mevaluaedad\u001b[0m\u001b[1;33m(\u001b[0m\u001b[1;33m-\u001b[0m\u001b[1;36m20\u001b[0m\u001b[1;33m)\u001b[0m\u001b[1;33m)\u001b[0m\u001b[1;33m\u001b[0m\u001b[1;33m\u001b[0m\u001b[0m\n\u001b[0m",
      "\u001b[1;32m<ipython-input-5-8eacc57d4dc4>\u001b[0m in \u001b[0;36mevaluaedad\u001b[1;34m(edad)\u001b[0m\n\u001b[0;32m      1\u001b[0m \u001b[1;32mdef\u001b[0m \u001b[0mevaluaedad\u001b[0m\u001b[1;33m(\u001b[0m\u001b[0medad\u001b[0m\u001b[1;33m)\u001b[0m\u001b[1;33m:\u001b[0m\u001b[1;33m\u001b[0m\u001b[1;33m\u001b[0m\u001b[0m\n\u001b[0;32m      2\u001b[0m     \u001b[1;32mif\u001b[0m \u001b[0medad\u001b[0m\u001b[1;33m<\u001b[0m\u001b[1;36m0\u001b[0m\u001b[1;33m:\u001b[0m\u001b[1;33m\u001b[0m\u001b[1;33m\u001b[0m\u001b[0m\n\u001b[1;32m----> 3\u001b[1;33m         \u001b[1;32mraise\u001b[0m \u001b[0mTypeError\u001b[0m \u001b[1;33m(\u001b[0m\u001b[1;34m\"nose permiten edades negativas\"\u001b[0m\u001b[1;33m)\u001b[0m\u001b[1;33m\u001b[0m\u001b[1;33m\u001b[0m\u001b[0m\n\u001b[0m\u001b[0;32m      4\u001b[0m \u001b[1;33m\u001b[0m\u001b[0m\n\u001b[0;32m      5\u001b[0m     \u001b[1;32mif\u001b[0m \u001b[0medad\u001b[0m\u001b[1;33m<\u001b[0m\u001b[1;36m18\u001b[0m\u001b[1;33m:\u001b[0m\u001b[1;33m\u001b[0m\u001b[1;33m\u001b[0m\u001b[0m\n",
      "\u001b[1;31mTypeError\u001b[0m: nose permiten edades negativas"
     ]
    }
   ],
   "source": [
    "def evaluaedad(edad):\n",
    "    if edad<0:\n",
    "        raise TypeError (\"no se permiten edades negativas\")\n",
    "    \n",
    "    if edad<18:\n",
    "        return(\"eres joven\")\n",
    "    elif edad<65:\n",
    "        return(\"eres maduro\")\n",
    "    elif edad<100:\n",
    "        return(\"cuidate..\")\n",
    "print(evaluaedad(-20))"
   ]
  },
  {
   "cell_type": "code",
   "execution_count": 6,
   "id": "d727cb1b",
   "metadata": {},
   "outputs": [],
   "source": [
    "#vampos a lanzar una exc y a la vez capturarla"
   ]
  },
  {
   "cell_type": "code",
   "execution_count": 7,
   "id": "f2c4d00f",
   "metadata": {},
   "outputs": [
    {
     "name": "stdout",
     "output_type": "stream",
     "text": [
      "introduce un numero:144\n",
      "12.0\n",
      "el programa continua\n"
     ]
    }
   ],
   "source": [
    "import math\n",
    "def raizcu(num1):\n",
    "    if num1<0:\n",
    "        raise ValueError (\"el numero no puede ser negativo\")\n",
    "    else:\n",
    "        return math.sqrt(num1)\n",
    "op1=(int(input(\"introduce un numero:\")))\n",
    "print(raizcu(op1))\n",
    "print(\"el programa continua\")\n"
   ]
  },
  {
   "cell_type": "code",
   "execution_count": 8,
   "id": "47df4d7d",
   "metadata": {},
   "outputs": [],
   "source": [
    "#pero si añadimos un numero negativo vemos que el programa no llega al ultimo print"
   ]
  },
  {
   "cell_type": "code",
   "execution_count": 9,
   "id": "7b201afa",
   "metadata": {},
   "outputs": [
    {
     "name": "stdout",
     "output_type": "stream",
     "text": [
      "introduce un numero:-144\n"
     ]
    },
    {
     "ename": "ValueError",
     "evalue": "el numero no puede ser negativo",
     "output_type": "error",
     "traceback": [
      "\u001b[1;31m---------------------------------------------------------------------------\u001b[0m",
      "\u001b[1;31mValueError\u001b[0m                                Traceback (most recent call last)",
      "\u001b[1;32m<ipython-input-9-ef1b2edf63bb>\u001b[0m in \u001b[0;36m<module>\u001b[1;34m\u001b[0m\n\u001b[0;32m      6\u001b[0m         \u001b[1;32mreturn\u001b[0m \u001b[0mmath\u001b[0m\u001b[1;33m.\u001b[0m\u001b[0msqrt\u001b[0m\u001b[1;33m(\u001b[0m\u001b[0mnum1\u001b[0m\u001b[1;33m)\u001b[0m\u001b[1;33m\u001b[0m\u001b[1;33m\u001b[0m\u001b[0m\n\u001b[0;32m      7\u001b[0m \u001b[0mop1\u001b[0m\u001b[1;33m=\u001b[0m\u001b[1;33m(\u001b[0m\u001b[0mint\u001b[0m\u001b[1;33m(\u001b[0m\u001b[0minput\u001b[0m\u001b[1;33m(\u001b[0m\u001b[1;34m\"introduce un numero:\"\u001b[0m\u001b[1;33m)\u001b[0m\u001b[1;33m)\u001b[0m\u001b[1;33m)\u001b[0m\u001b[1;33m\u001b[0m\u001b[1;33m\u001b[0m\u001b[0m\n\u001b[1;32m----> 8\u001b[1;33m \u001b[0mprint\u001b[0m\u001b[1;33m(\u001b[0m\u001b[0mraizcu\u001b[0m\u001b[1;33m(\u001b[0m\u001b[0mop1\u001b[0m\u001b[1;33m)\u001b[0m\u001b[1;33m)\u001b[0m\u001b[1;33m\u001b[0m\u001b[1;33m\u001b[0m\u001b[0m\n\u001b[0m\u001b[0;32m      9\u001b[0m \u001b[0mprint\u001b[0m\u001b[1;33m(\u001b[0m\u001b[1;34m\"el programa continua\"\u001b[0m\u001b[1;33m)\u001b[0m\u001b[1;33m\u001b[0m\u001b[1;33m\u001b[0m\u001b[0m\n",
      "\u001b[1;32m<ipython-input-9-ef1b2edf63bb>\u001b[0m in \u001b[0;36mraizcu\u001b[1;34m(num1)\u001b[0m\n\u001b[0;32m      2\u001b[0m \u001b[1;32mdef\u001b[0m \u001b[0mraizcu\u001b[0m\u001b[1;33m(\u001b[0m\u001b[0mnum1\u001b[0m\u001b[1;33m)\u001b[0m\u001b[1;33m:\u001b[0m\u001b[1;33m\u001b[0m\u001b[1;33m\u001b[0m\u001b[0m\n\u001b[0;32m      3\u001b[0m     \u001b[1;32mif\u001b[0m \u001b[0mnum1\u001b[0m\u001b[1;33m<\u001b[0m\u001b[1;36m0\u001b[0m\u001b[1;33m:\u001b[0m\u001b[1;33m\u001b[0m\u001b[1;33m\u001b[0m\u001b[0m\n\u001b[1;32m----> 4\u001b[1;33m         \u001b[1;32mraise\u001b[0m \u001b[0mValueError\u001b[0m \u001b[1;33m(\u001b[0m\u001b[1;34m\"el numero no puede ser negativo\"\u001b[0m\u001b[1;33m)\u001b[0m\u001b[1;33m\u001b[0m\u001b[1;33m\u001b[0m\u001b[0m\n\u001b[0m\u001b[0;32m      5\u001b[0m     \u001b[1;32melse\u001b[0m\u001b[1;33m:\u001b[0m\u001b[1;33m\u001b[0m\u001b[1;33m\u001b[0m\u001b[0m\n\u001b[0;32m      6\u001b[0m         \u001b[1;32mreturn\u001b[0m \u001b[0mmath\u001b[0m\u001b[1;33m.\u001b[0m\u001b[0msqrt\u001b[0m\u001b[1;33m(\u001b[0m\u001b[0mnum1\u001b[0m\u001b[1;33m)\u001b[0m\u001b[1;33m\u001b[0m\u001b[1;33m\u001b[0m\u001b[0m\n",
      "\u001b[1;31mValueError\u001b[0m: el numero no puede ser negativo"
     ]
    }
   ],
   "source": [
    "import math\n",
    "def raizcu(num1):\n",
    "    if num1<0:\n",
    "        raise ValueError (\"el numero no puede ser negativo\")\n",
    "    else:\n",
    "        return math.sqrt(num1)\n",
    "op1=(int(input(\"introduce un numero:\")))\n",
    "print(raizcu(op1))\n",
    "print(\"el programa continua\")"
   ]
  },
  {
   "cell_type": "code",
   "execution_count": 10,
   "id": "3bcc460e",
   "metadata": {},
   "outputs": [],
   "source": [
    "#por lo tanto estamos obligados a capturar nuestra propia excepcion con un except\n",
    "#se pone el try justo encima de la linea erronea(8)\n",
    "#se puede renombrar el error con as para que cuando aparezca en pantalla nos sirva de pista"
   ]
  },
  {
   "cell_type": "code",
   "execution_count": 12,
   "id": "bfc16385",
   "metadata": {},
   "outputs": [
    {
     "name": "stdout",
     "output_type": "stream",
     "text": [
      "introduce un numero:-122\n",
      "ErrorNumNegativo\n",
      "el programa continua\n"
     ]
    }
   ],
   "source": [
    "import math\n",
    "def raizcu(num1):\n",
    "    if num1<0:\n",
    "        raise ValueError (\"el numero no puede ser negativo\")\n",
    "    else:\n",
    "        return math.sqrt(num1)\n",
    "op1=(int(input(\"introduce un numero:\")))\n",
    "try:\n",
    "    print(raizcu(op1))\n",
    "except ValueError as ErrorNumNegativo:\n",
    "    print(\"ErrorNumNegativo\")\n",
    "\n",
    "print(\"el programa continua\")"
   ]
  },
  {
   "cell_type": "code",
   "execution_count": null,
   "id": "edddb184",
   "metadata": {},
   "outputs": [],
   "source": []
  }
 ],
 "metadata": {
  "kernelspec": {
   "display_name": "Python 3",
   "language": "python",
   "name": "python3"
  },
  "language_info": {
   "codemirror_mode": {
    "name": "ipython",
    "version": 3
   },
   "file_extension": ".py",
   "mimetype": "text/x-python",
   "name": "python",
   "nbconvert_exporter": "python",
   "pygments_lexer": "ipython3",
   "version": "3.8.8"
  }
 },
 "nbformat": 4,
 "nbformat_minor": 5
}
