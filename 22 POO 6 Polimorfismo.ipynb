{
 "cells": [
  {
   "cell_type": "code",
   "execution_count": 1,
   "id": "8bd6afb4",
   "metadata": {},
   "outputs": [],
   "source": [
    "#polimorfismo:es cuando el mismo objeto puede adoptar varias formas(pasar de camion a moto por ej)\n",
    "#cambiarian sus caracteristicas y metodos"
   ]
  },
  {
   "cell_type": "code",
   "execution_count": 5,
   "id": "5cc89aeb",
   "metadata": {},
   "outputs": [
    {
     "name": "stdout",
     "output_type": "stream",
     "text": [
      "me desplazo utilizando dos ruedas\n",
      "me desplazo utilizando cuatro ruedas\n",
      "me desplazo utilizando seis ruedas\n"
     ]
    }
   ],
   "source": [
    "class coche():\n",
    "    def desplazamiento(self):\n",
    "        print(\"me desplazo utilizando cuatro ruedas\")\n",
    "        \n",
    "class moto():\n",
    "    def desplazamiento(self):\n",
    "        print(\"me desplazo utilizando dos ruedas\")\n",
    "        \n",
    "class camion():\n",
    "    def desplazamiento(self):\n",
    "        print(\"me desplazo utilizando seis ruedas\")\n",
    "        \n",
    "miMoto=moto()\n",
    "miMoto.desplazamiento()\n",
    "\n",
    "miCoche=coche()\n",
    "miCoche.desplazamiento()\n",
    "\n",
    "miCamion=camion()\n",
    "miCamion.desplazamiento()"
   ]
  },
  {
   "cell_type": "code",
   "execution_count": 6,
   "id": "1dc713bb",
   "metadata": {},
   "outputs": [],
   "source": [
    "#si tuvieramos un juego con multiples objetos que tienen el metodo desplazamiento podriamos hacerlo \n",
    "#llamando uno a uno como hemos visto o mediante un polimorfismo (creamos un metodo nuevo que sirva para todos)"
   ]
  },
  {
   "cell_type": "code",
   "execution_count": null,
   "id": "9bd8113b",
   "metadata": {},
   "outputs": [],
   "source": [
    "class coche():\n",
    "    def desplazamiento(self):\n",
    "        print(\"me desplazo utilizando cuatro ruedas\")\n",
    "        \n",
    "class moto():\n",
    "    def desplazamiento(self):\n",
    "        print(\"me desplazo utilizando dos ruedas\")\n",
    "        \n",
    "class camion():\n",
    "    def desplazamiento(self):\n",
    "        print(\"me desplazo utilizando seis ruedas\")\n",
    "\n",
    "def desplazamientovehiculo(vehiculo):\n",
    "    vehiculo.desplazamiento()"
   ]
  },
  {
   "cell_type": "code",
   "execution_count": 7,
   "id": "4c122c26",
   "metadata": {},
   "outputs": [],
   "source": [
    "#pero no sabemos a que metodo desplazamiento (coche,moto..) esta llamando\n",
    "#para ello creammos un nuevo metodo \"desplazamientovehiculo\" y arg \"vehiculo\""
   ]
  },
  {
   "cell_type": "code",
   "execution_count": 10,
   "id": "0d733f3e",
   "metadata": {},
   "outputs": [
    {
     "name": "stdout",
     "output_type": "stream",
     "text": [
      "me desplazo utilizando seis ruedas\n"
     ]
    }
   ],
   "source": [
    "class coche():\n",
    "    def desplazamiento(self):\n",
    "        print(\"me desplazo utilizando cuatro ruedas\")\n",
    "        \n",
    "class moto():\n",
    "    def desplazamiento(self):\n",
    "        print(\"me desplazo utilizando dos ruedas\")\n",
    "        \n",
    "class camion():\n",
    "    def desplazamiento(self):\n",
    "        print(\"me desplazo utilizando seis ruedas\")\n",
    "\n",
    "def desplazamientovehiculo(vehiculo):\n",
    "    vehiculo.desplazamiento()\n",
    "    \n",
    "miVehiculo=camion()\n",
    "desplazamientovehiculo(miVehiculo)"
   ]
  },
  {
   "cell_type": "code",
   "execution_count": 11,
   "id": "027fbe56",
   "metadata": {},
   "outputs": [],
   "source": [
    "# si el camion lo sustituimos por un coche o por una moto"
   ]
  },
  {
   "cell_type": "code",
   "execution_count": 12,
   "id": "5a89cf64",
   "metadata": {},
   "outputs": [
    {
     "name": "stdout",
     "output_type": "stream",
     "text": [
      "me desplazo utilizando cuatro ruedas\n"
     ]
    }
   ],
   "source": [
    "class coche():\n",
    "    def desplazamiento(self):\n",
    "        print(\"me desplazo utilizando cuatro ruedas\")\n",
    "        \n",
    "class moto():\n",
    "    def desplazamiento(self):\n",
    "        print(\"me desplazo utilizando dos ruedas\")\n",
    "        \n",
    "class camion():\n",
    "    def desplazamiento(self):\n",
    "        print(\"me desplazo utilizando seis ruedas\")\n",
    "\n",
    "def desplazamientovehiculo(vehiculo):\n",
    "    vehiculo.desplazamiento()\n",
    "    \n",
    "miVehiculo=coche()\n",
    "desplazamientovehiculo(miVehiculo)"
   ]
  },
  {
   "cell_type": "code",
   "execution_count": 13,
   "id": "aae58578",
   "metadata": {},
   "outputs": [
    {
     "name": "stdout",
     "output_type": "stream",
     "text": [
      "me desplazo utilizando dos ruedas\n"
     ]
    }
   ],
   "source": [
    "class coche():\n",
    "    def desplazamiento(self):\n",
    "        print(\"me desplazo utilizando cuatro ruedas\")\n",
    "        \n",
    "class moto():\n",
    "    def desplazamiento(self):\n",
    "        print(\"me desplazo utilizando dos ruedas\")\n",
    "        \n",
    "class camion():\n",
    "    def desplazamiento(self):\n",
    "        print(\"me desplazo utilizando seis ruedas\")\n",
    "\n",
    "def desplazamientovehiculo(vehiculo):\n",
    "    vehiculo.desplazamiento()\n",
    "    \n",
    "miVehiculo=moto()\n",
    "desplazamientovehiculo(miVehiculo)"
   ]
  },
  {
   "cell_type": "code",
   "execution_count": null,
   "id": "88793d4e",
   "metadata": {},
   "outputs": [],
   "source": []
  }
 ],
 "metadata": {
  "kernelspec": {
   "display_name": "Python 3",
   "language": "python",
   "name": "python3"
  },
  "language_info": {
   "codemirror_mode": {
    "name": "ipython",
    "version": 3
   },
   "file_extension": ".py",
   "mimetype": "text/x-python",
   "name": "python",
   "nbconvert_exporter": "python",
   "pygments_lexer": "ipython3",
   "version": "3.8.8"
  }
 },
 "nbformat": 4,
 "nbformat_minor": 5
}
