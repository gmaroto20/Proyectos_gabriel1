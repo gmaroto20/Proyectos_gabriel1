{
 "cells": [
  {
   "cell_type": "code",
   "execution_count": 1,
   "id": "b288282c",
   "metadata": {},
   "outputs": [],
   "source": [
    "#vamos a ver la condicion if con mas de un comparativo, primero con dos \"<\" "
   ]
  },
  {
   "cell_type": "code",
   "execution_count": 3,
   "id": "a1df0616",
   "metadata": {},
   "outputs": [
    {
     "name": "stdout",
     "output_type": "stream",
     "text": [
      "introduce tu edad:102\n",
      "edad incorrecta\n"
     ]
    }
   ],
   "source": [
    "edad=int(input(\"introduce tu edad:\"))\n",
    "if 0<edad<100:\n",
    "    print(\"edad correcta\")\n",
    "else:\n",
    "    print(\"edad incorrecta\")"
   ]
  },
  {
   "cell_type": "code",
   "execution_count": 4,
   "id": "918eff32",
   "metadata": {},
   "outputs": [],
   "source": [
    "#vamos a probar con varios, por ej la coherencia de los sueldos de una empresa"
   ]
  },
  {
   "cell_type": "code",
   "execution_count": null,
   "id": "c0c6ce94",
   "metadata": {},
   "outputs": [],
   "source": []
  },
  {
   "cell_type": "code",
   "execution_count": 11,
   "id": "6fe80778",
   "metadata": {},
   "outputs": [
    {
     "name": "stdout",
     "output_type": "stream",
     "text": [
      "sal presidente:2000\n",
      "sal director:3000\n",
      "sal jefe:1500\n",
      "sal administrativo:198\n",
      "hay un error\n"
     ]
    }
   ],
   "source": [
    "salario_presi=int(input(\"sal presidente:\"))\n",
    "salario_dir=int(input(\"sal director:\"))\n",
    "salario_jefe=int(input(\"sal jefe:\"))\n",
    "salario_adm=int(input(\"sal administrativo:\"))\n",
    "if salario_presi>salario_dir>salario_jefe>salario_adm:\n",
    "    print(\"empresa funciona bien\")\n",
    "else:\n",
    "    print(\"hay un error\")"
   ]
  },
  {
   "cell_type": "code",
   "execution_count": 13,
   "id": "5facab45",
   "metadata": {},
   "outputs": [],
   "source": [
    "#ver si se puede entrar en una discoteca"
   ]
  },
  {
   "cell_type": "code",
   "execution_count": 16,
   "id": "797e3ff5",
   "metadata": {},
   "outputs": [
    {
     "name": "stdout",
     "output_type": "stream",
     "text": [
      "entrada discoteca\n",
      "introduzca su edad:102\n",
      "puede pasar\n"
     ]
    }
   ],
   "source": [
    "print(\"entrada discoteca\")\n",
    "edad=int(input(\"introduzca su edad:\"))\n",
    "if edad>18:\n",
    "    print(\"puede pasar\")\n",
    "elif edad>100:\n",
    "    print(\"edad incorrecta\") \n",
    "else:\n",
    "    print(\"no puede pasar\")"
   ]
  },
  {
   "cell_type": "code",
   "execution_count": null,
   "id": "18fdf0ab",
   "metadata": {},
   "outputs": [],
   "source": []
  }
 ],
 "metadata": {
  "kernelspec": {
   "display_name": "Python 3",
   "language": "python",
   "name": "python3"
  },
  "language_info": {
   "codemirror_mode": {
    "name": "ipython",
    "version": 3
   },
   "file_extension": ".py",
   "mimetype": "text/x-python",
   "name": "python",
   "nbconvert_exporter": "python",
   "pygments_lexer": "ipython3",
   "version": "3.8.8"
  }
 },
 "nbformat": 4,
 "nbformat_minor": 5
}
