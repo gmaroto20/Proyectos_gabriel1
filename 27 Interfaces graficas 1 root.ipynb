{
 "cells": [
  {
   "cell_type": "code",
   "execution_count": 1,
   "id": "8d0c3c76",
   "metadata": {},
   "outputs": [],
   "source": [
    "#interfaces graficas (GUI) son las ventanas que diseñamos en excel,word etc\n",
    "#Se componen de una raiz (ventana propiamente),frame (coordinador de botones) y widgets (botones, iconos)\n",
    "#se crean importando una libreria que esta en python (tkinter)\n",
    "#luego creamos la raiz (Tk()) y a continuacion cerramos con un bucle infinito (raiz.mainloop()), debe\n",
    "#estar siempre al final"
   ]
  },
  {
   "cell_type": "code",
   "execution_count": 9,
   "id": "8402a5d7",
   "metadata": {},
   "outputs": [],
   "source": [
    "from tkinter import *\n",
    "raiz=Tk()\n",
    "raiz.mainloop()"
   ]
  },
  {
   "cell_type": "code",
   "execution_count": 8,
   "id": "221681da",
   "metadata": {},
   "outputs": [],
   "source": [
    "#para darle titulo"
   ]
  },
  {
   "cell_type": "code",
   "execution_count": 10,
   "id": "c935f50b",
   "metadata": {},
   "outputs": [],
   "source": [
    "from tkinter import *\n",
    "raiz=Tk()\n",
    "raiz.title(\"Prueba Gabriel\")\n",
    "raiz.mainloop()"
   ]
  },
  {
   "cell_type": "code",
   "execution_count": 11,
   "id": "bb919618",
   "metadata": {},
   "outputs": [],
   "source": [
    "#Para impedir que se pueda redimensionar una ventana  usamos resizable(True,False) o (1,0)\n",
    "#primer parametro ancho (widht) y alto (height)"
   ]
  },
  {
   "cell_type": "code",
   "execution_count": 12,
   "id": "cc3901fe",
   "metadata": {},
   "outputs": [],
   "source": [
    "from tkinter import *\n",
    "raiz=Tk()\n",
    "raiz.title(\"Prueba Gabriel\")\n",
    "raiz.resizable(False,False)\n",
    "raiz.mainloop()"
   ]
  },
  {
   "cell_type": "code",
   "execution_count": 13,
   "id": "965ce70c",
   "metadata": {},
   "outputs": [],
   "source": [
    "# tambien  se puede cambiar el icono de la esquina importando un fichero .ico (google= conversor.ico)\n",
    "#raiz.inconvitmap(\"gabi.ico\") en el parentesis va la ruta para incorporarlo\n",
    "# para cambiar el tamaño (geometry(350,650))\n",
    "#otro metodo importanter seria configuracion (config())para cambiar colores volumen etc (bg=fondo de pantalla)"
   ]
  },
  {
   "cell_type": "code",
   "execution_count": null,
   "id": "b417f1bf",
   "metadata": {},
   "outputs": [],
   "source": [
    "from tkinter import *\n",
    "raiz=Tk()\n",
    "raiz.title(\"Prueba Gabriel\")\n",
    "raiz.resizable(True,True)\n",
    "raiz.geometry(\"650x350\")\n",
    "raiz.config(bg=\"Blue\")\n",
    "raiz.mainloop()"
   ]
  },
  {
   "cell_type": "code",
   "execution_count": null,
   "id": "4563bd23",
   "metadata": {},
   "outputs": [],
   "source": []
  }
 ],
 "metadata": {
  "kernelspec": {
   "display_name": "Python 3",
   "language": "python",
   "name": "python3"
  },
  "language_info": {
   "codemirror_mode": {
    "name": "ipython",
    "version": 3
   },
   "file_extension": ".py",
   "mimetype": "text/x-python",
   "name": "python",
   "nbconvert_exporter": "python",
   "pygments_lexer": "ipython3",
   "version": "3.8.8"
  }
 },
 "nbformat": 4,
 "nbformat_minor": 5
}
