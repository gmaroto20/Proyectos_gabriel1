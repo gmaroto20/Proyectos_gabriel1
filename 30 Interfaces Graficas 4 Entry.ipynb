{
 "cells": [
  {
   "cell_type": "code",
   "execution_count": 1,
   "id": "24bec21a",
   "metadata": {},
   "outputs": [],
   "source": [
    "#vamos a inroducir cuadros de texto (Entry())"
   ]
  },
  {
   "cell_type": "code",
   "execution_count": 3,
   "id": "45435ac5",
   "metadata": {},
   "outputs": [],
   "source": [
    "from tkinter import *\n",
    "\n",
    "raiz=Tk()\n",
    "\n",
    "cuadrodetexto=Entry(raiz)\n",
    "cuadrodetexto.pack()\n",
    "\n",
    "root.mainloop()"
   ]
  },
  {
   "cell_type": "code",
   "execution_count": 4,
   "id": "d677a5cb",
   "metadata": {},
   "outputs": [],
   "source": [
    "#una vez creado podemos darle un Frame con las caracteristicas que queramos"
   ]
  },
  {
   "cell_type": "code",
   "execution_count": 5,
   "id": "f3b45274",
   "metadata": {},
   "outputs": [],
   "source": [
    "from tkinter import *\n",
    "\n",
    "raiz=Tk()\n",
    "\n",
    "miframe=Frame(raiz,width=\"1200\",height=\"600\")\n",
    "miframe.pack()\n",
    "\n",
    "cuadrodetexto=Entry(miframe)\n",
    "cuadrodetexto.place(x=100,y=100)\n",
    "\n",
    "root.mainloop()"
   ]
  },
  {
   "cell_type": "code",
   "execution_count": 6,
   "id": "920246db",
   "metadata": {},
   "outputs": [],
   "source": [
    "#ahora vamos a colocar un label delante del cuadro de texto y habra que poner su sitacion (coordenadas)"
   ]
  },
  {
   "cell_type": "code",
   "execution_count": 8,
   "id": "30c6c703",
   "metadata": {},
   "outputs": [],
   "source": [
    "from tkinter import *\n",
    "\n",
    "raiz=Tk()\n",
    "\n",
    "miframe=Frame(raiz,width=\"1200\",height=\"600\")\n",
    "miframe.pack()\n",
    "\n",
    "cuadrodetexto=Entry(miframe)\n",
    "cuadrodetexto.place(x=100,y=100)\n",
    "\n",
    "milabel=Label(miframe,text=\"Nombre:\")\n",
    "milabel.place(x=100,y=100)\n",
    "\n",
    "root.mainloop()"
   ]
  },
  {
   "cell_type": "code",
   "execution_count": 9,
   "id": "27ddfca5",
   "metadata": {},
   "outputs": [],
   "source": [
    "#pero no es la forma mas adecuada de utilizar el place\n",
    "#vamos a trabajar con el metodo grid() que crea el frame en forma de casillas (row=hileras,column=columnas)\n",
    "#sustituimos el metodo place() por el metodo grid() las hileras y col serian (0,1,2,...)"
   ]
  },
  {
   "cell_type": "code",
   "execution_count": 14,
   "id": "cfa0f0a6",
   "metadata": {},
   "outputs": [],
   "source": [
    "from tkinter import *\n",
    "\n",
    "raiz=Tk()\n",
    "\n",
    "miframe=Frame(raiz,width=\"1200\",height=\"600\")\n",
    "miframe.pack()\n",
    "\n",
    "cuadrodetexto=Entry(miframe)\n",
    "cuadrodetexto.grid(row=0,column=1)\n",
    "\n",
    "milabel=Label(miframe,text=\"Nombre:\")\n",
    "milabel.grid(row=0,column=0)\n",
    "\n",
    "root.mainloop()"
   ]
  },
  {
   "cell_type": "code",
   "execution_count": 15,
   "id": "2894622a",
   "metadata": {},
   "outputs": [],
   "source": [
    "#a continuacion añadimos dos cuadros de texto nuevos y dos label"
   ]
  },
  {
   "cell_type": "code",
   "execution_count": 19,
   "id": "ac744e0a",
   "metadata": {},
   "outputs": [],
   "source": [
    "from tkinter import *\n",
    "\n",
    "raiz=Tk()\n",
    "\n",
    "miframe=Frame(raiz,width=\"1200\",height=\"600\")\n",
    "miframe.pack()\n",
    "\n",
    "cuadronombre=Entry(miframe)\n",
    "cuadronombre.grid(row=0,column=1)\n",
    "\n",
    "cuadroapellido=Entry(miframe)\n",
    "cuadroapellido.grid(row=1,column=1)\n",
    "\n",
    "cuadrodireccion=Entry(miframe)\n",
    "cuadrodireccion.grid(row=2,column=1)\n",
    "\n",
    "nombrelabel=Label(miframe,text=\"Nombre:\")\n",
    "nombrelabel.grid(row=0,column=0)\n",
    "\n",
    "apellidolabel=Label(miframe,text=\"Apellido:\")\n",
    "apellidolabel.grid(row=1,column=0)\n",
    "\n",
    "direccionlabel=Label(miframe,text=\"Direccion:\")\n",
    "direccionlabel.grid(row=2,column=0)\n",
    "\n",
    "root.mainloop()"
   ]
  },
  {
   "cell_type": "code",
   "execution_count": 20,
   "id": "a40edcd3",
   "metadata": {},
   "outputs": [],
   "source": [
    "#los label se pueden centrar o ir a la izquierda o derecha.Esto se hace con el sticky(puntos cardinales)\n",
    "#n,s,e,w,ne,nw,se,sw en google se veran diferentes vinculos"
   ]
  },
  {
   "cell_type": "code",
   "execution_count": 23,
   "id": "06b92346",
   "metadata": {},
   "outputs": [],
   "source": [
    "from tkinter import *\n",
    "\n",
    "raiz=Tk()\n",
    "\n",
    "miframe=Frame(raiz,width=\"1200\",height=\"600\")\n",
    "miframe.pack()\n",
    "\n",
    "cuadronombre=Entry(miframe)\n",
    "cuadronombre.grid(row=0,column=1)\n",
    "\n",
    "cuadroapellido=Entry(miframe)\n",
    "cuadroapellido.grid(row=1,column=1)\n",
    "\n",
    "cuadrodireccion=Entry(miframe)\n",
    "cuadrodireccion.grid(row=2,column=1)\n",
    "\n",
    "nombrelabel=Label(miframe,text=\"Nombre:\")\n",
    "nombrelabel.grid(row=0,column=0,sticky=\"e\")\n",
    "\n",
    "apellidolabel=Label(miframe,text=\"Apellido:\")\n",
    "apellidolabel.grid(row=1,column=0,sticky=\"e\")\n",
    "\n",
    "direccionlabel=Label(miframe,text=\"Direccion:\")\n",
    "direccionlabel.grid(row=2,column=0,sticky=\"e\")\n",
    "\n",
    "root.mainloop()"
   ]
  },
  {
   "cell_type": "code",
   "execution_count": 24,
   "id": "afa824cf",
   "metadata": {},
   "outputs": [],
   "source": [
    "#uno de esos vinculos es el pady o padx que permite separar los cuadros de texto\n",
    "#pady (vertical) o padx (horizontal) es la distancia a los limites del contenedor"
   ]
  },
  {
   "cell_type": "code",
   "execution_count": 26,
   "id": "9146c8f6",
   "metadata": {},
   "outputs": [],
   "source": [
    "from tkinter import *\n",
    "\n",
    "raiz=Tk()\n",
    "\n",
    "miframe=Frame(raiz,width=\"1200\",height=\"600\")\n",
    "miframe.pack()\n",
    "\n",
    "cuadronombre=Entry(miframe)\n",
    "cuadronombre.grid(row=0,column=1,padx=10,pady=10)\n",
    "\n",
    "cuadroapellido=Entry(miframe)\n",
    "cuadroapellido.grid(row=1,column=1,padx=10,pady=10)\n",
    "\n",
    "cuadrodireccion=Entry(miframe)\n",
    "cuadrodireccion.grid(row=2,column=1,padx=10,pady=10)\n",
    "\n",
    "nombrelabel=Label(miframe,text=\"Nombre:\")\n",
    "nombrelabel.grid(row=0,column=0,sticky=\"e\",padx=10,pady=10)\n",
    "\n",
    "apellidolabel=Label(miframe,text=\"Apellido:\")\n",
    "apellidolabel.grid(row=1,column=0,sticky=\"e\",padx=10,pady=10)\n",
    "\n",
    "direccionlabel=Label(miframe,text=\"Direccion:\")\n",
    "direccionlabel.grid(row=2,column=0,sticky=\"e\",padx=10,pady=10)\n",
    "\n",
    "root.mainloop()"
   ]
  },
  {
   "cell_type": "code",
   "execution_count": 27,
   "id": "257429ac",
   "metadata": {},
   "outputs": [],
   "source": [
    "#luego se puede ir mejorando a traves de un nuevo metodo config() las caracteristicas del modelo\n",
    "#introducimos un nuevo cuadro de texto para el pasword"
   ]
  },
  {
   "cell_type": "code",
   "execution_count": 3,
   "id": "61831335",
   "metadata": {},
   "outputs": [],
   "source": [
    "from tkinter import *\n",
    "\n",
    "raiz=Tk()\n",
    "\n",
    "miframe=Frame(raiz,width=\"1200\",height=\"600\")\n",
    "miframe.pack()\n",
    "\n",
    "cuadronombre=Entry(miframe)\n",
    "cuadronombre.grid(row=0,column=1,padx=10,pady=10)\n",
    "cuadronombre.config(fg=\"red\",justify=\"center\")\n",
    "\n",
    "cuadropass=Entry(miframe)\n",
    "cuadropass.grid(row=1,column=1,padx=10,pady=10)\n",
    "cuadropass.config(fg=\"red\",justify=\"center\")\n",
    "\n",
    "cuadroapellido=Entry(miframe)\n",
    "cuadroapellido.grid(row=2,column=1,padx=10,pady=10)\n",
    "cuadroapellido.config(fg=\"red\",justify=\"center\")\n",
    "\n",
    "cuadrodireccion=Entry(miframe)\n",
    "cuadrodireccion.grid(row=3,column=1,padx=10,pady=10)\n",
    "cuadrodireccion.config(fg=\"red\",justify=\"center\",bg=\"red\")\n",
    "\n",
    "nombrelabel=Label(miframe,text=\"Nombre:\")\n",
    "nombrelabel.grid(row=0,column=0,sticky=\"e\",padx=10,pady=10)\n",
    "\n",
    "passlabel=Label(miframe,text=\"Pasword:\")\n",
    "passlabel.grid(row=1,column=0,sticky=\"e\",padx=10,pady=10)\n",
    "\n",
    "apellidolabel=Label(miframe,text=\"Apellido:\")\n",
    "apellidolabel.grid(row=2,column=0,sticky=\"e\",padx=10,pady=10)\n",
    "\n",
    "direccionlabel=Label(miframe,text=\"Direccion:\")\n",
    "direccionlabel.grid(row=3,column=0,sticky=\"e\",padx=10,pady=10)\n",
    "\n",
    "raiz.mainloop()"
   ]
  },
  {
   "cell_type": "code",
   "execution_count": 30,
   "id": "28ee56d1",
   "metadata": {},
   "outputs": [],
   "source": [
    "#en el cuadro de texto del pasword queremos que salgan solo asteriscos al introducir una contraseña\n",
    "#usamos el argumento show(\"*\")"
   ]
  },
  {
   "cell_type": "code",
   "execution_count": 34,
   "id": "279ff6c8",
   "metadata": {},
   "outputs": [],
   "source": [
    "from tkinter import *\n",
    "\n",
    "raiz=Tk()\n",
    "\n",
    "miframe=Frame(raiz,width=\"1200\",height=\"600\")\n",
    "miframe.pack()\n",
    "\n",
    "cuadronombre=Entry(miframe)\n",
    "cuadronombre.grid(row=0,column=1,padx=10,pady=10)\n",
    "cuadronombre.config(fg=\"red\",justify=\"center\")\n",
    "\n",
    "cuadropass=Entry(miframe)\n",
    "cuadropass.grid(row=1,column=1,padx=10,pady=10)\n",
    "cuadropass.config(fg=\"red\",justify=\"center\",show=\"*\")\n",
    "\n",
    "cuadroapellido=Entry(miframe)\n",
    "cuadroapellido.grid(row=2,column=1,padx=10,pady=10)\n",
    "cuadroapellido.config(fg=\"red\",justify=\"center\")\n",
    "\n",
    "cuadrodireccion=Entry(miframe)\n",
    "cuadrodireccion.grid(row=3,column=1,padx=10,pady=10)\n",
    "cuadrodireccion.config(fg=\"red\",justify=\"center\")\n",
    "\n",
    "nombrelabel=Label(miframe,text=\"Nombre:\")\n",
    "nombrelabel.grid(row=0,column=0,sticky=\"e\",padx=10,pady=10)\n",
    "\n",
    "passlabel=Label(miframe,text=\"Pasword:\")\n",
    "passlabel.grid(row=1,column=0,sticky=\"e\",padx=10,pady=10)\n",
    "\n",
    "apellidolabel=Label(miframe,text=\"Apellido:\")\n",
    "apellidolabel.grid(row=2,column=0,sticky=\"e\",padx=10,pady=10)\n",
    "\n",
    "direccionlabel=Label(miframe,text=\"Direccion:\")\n",
    "direccionlabel.grid(row=3,column=0,sticky=\"e\",padx=10,pady=10)\n",
    "\n",
    "root.mainloop()"
   ]
  },
  {
   "cell_type": "code",
   "execution_count": null,
   "id": "2003b7f6",
   "metadata": {},
   "outputs": [],
   "source": [
    "\n"
   ]
  }
 ],
 "metadata": {
  "kernelspec": {
   "display_name": "Python 3",
   "language": "python",
   "name": "python3"
  },
  "language_info": {
   "codemirror_mode": {
    "name": "ipython",
    "version": 3
   },
   "file_extension": ".py",
   "mimetype": "text/x-python",
   "name": "python",
   "nbconvert_exporter": "python",
   "pygments_lexer": "ipython3",
   "version": "3.8.8"
  }
 },
 "nbformat": 4,
 "nbformat_minor": 5
}
