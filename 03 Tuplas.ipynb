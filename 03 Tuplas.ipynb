{
 "cells": [
  {
   "cell_type": "code",
   "execution_count": 1,
   "id": "3da902df",
   "metadata": {},
   "outputs": [],
   "source": [
    "#una tupla es parecido a la lista pero entre parentesis en vez de corchetes"
   ]
  },
  {
   "cell_type": "code",
   "execution_count": 5,
   "id": "efd09794",
   "metadata": {},
   "outputs": [
    {
     "name": "stdout",
     "output_type": "stream",
     "text": [
      "('luis', 45, 'rocio', 68)\n",
      "rocio\n",
      "(45, 'rocio')\n"
     ]
    }
   ],
   "source": [
    "tupla1=(\"luis\",45,\"rocio\",68)\n",
    "print(tupla1)\n",
    "print(tupla1[2])\n",
    "print(tupla1[1:3])"
   ]
  },
  {
   "cell_type": "code",
   "execution_count": 7,
   "id": "9177b1c2",
   "metadata": {},
   "outputs": [],
   "source": [
    "#las tuplas no permiten la funcion append, para añadir valores se puede hacer pasando a lista"
   ]
  },
  {
   "cell_type": "code",
   "execution_count": 9,
   "id": "79fca18b",
   "metadata": {},
   "outputs": [
    {
     "name": "stdout",
     "output_type": "stream",
     "text": [
      "['luis', 45, 'rocio', 68]\n"
     ]
    }
   ],
   "source": [
    "tupla1=(\"luis\",45,\"rocio\",68)\n",
    "lista1=list(tupla1)\n",
    "print(lista1)"
   ]
  },
  {
   "cell_type": "code",
   "execution_count": 12,
   "id": "76c1ea7b",
   "metadata": {},
   "outputs": [],
   "source": [
    "#tambien se puede pasar de lista a tupla"
   ]
  },
  {
   "cell_type": "code",
   "execution_count": 2,
   "id": "ee392454",
   "metadata": {},
   "outputs": [
    {
     "name": "stdout",
     "output_type": "stream",
     "text": [
      "('luis', 45, 'rocio', 68)\n"
     ]
    }
   ],
   "source": [
    "lista1=[\"luis\",45,\"rocio\",68]\n",
    "tupla1=tuple (lista1)\n",
    "print(tupla1)\n"
   ]
  },
  {
   "cell_type": "code",
   "execution_count": 3,
   "id": "4f2e1877",
   "metadata": {},
   "outputs": [],
   "source": [
    "#para ver si un valor esta contenido en la tupla"
   ]
  },
  {
   "cell_type": "code",
   "execution_count": 7,
   "id": "3b74c6cb",
   "metadata": {},
   "outputs": [
    {
     "name": "stdout",
     "output_type": "stream",
     "text": [
      "True\n"
     ]
    }
   ],
   "source": [
    "tupla2=(\"javi\",45,\"ana\",68)\n",
    "print(45 in tupla2)"
   ]
  },
  {
   "cell_type": "code",
   "execution_count": 8,
   "id": "ad90a33a",
   "metadata": {},
   "outputs": [],
   "source": [
    "#para saber las veces que estA INCLUIDO un valor "
   ]
  },
  {
   "cell_type": "code",
   "execution_count": 13,
   "id": "ce753495",
   "metadata": {},
   "outputs": [
    {
     "name": "stdout",
     "output_type": "stream",
     "text": [
      "2\n"
     ]
    }
   ],
   "source": [
    "tupla2=(\"javi\",45,\"ana\",68,68)\n",
    "print(tupla2.count(68))"
   ]
  },
  {
   "cell_type": "code",
   "execution_count": 14,
   "id": "3a7e2688",
   "metadata": {},
   "outputs": [],
   "source": [
    "#para saber la longitud de una tupla"
   ]
  },
  {
   "cell_type": "code",
   "execution_count": 19,
   "id": "18506532",
   "metadata": {},
   "outputs": [
    {
     "name": "stdout",
     "output_type": "stream",
     "text": [
      "6\n"
     ]
    }
   ],
   "source": [
    "tupla3=(\"javi\",45,\"ana\",68,68,\"carlos\")\n",
    "print(len (tupla3))"
   ]
  },
  {
   "cell_type": "code",
   "execution_count": null,
   "id": "e5d2c685",
   "metadata": {},
   "outputs": [],
   "source": []
  }
 ],
 "metadata": {
  "kernelspec": {
   "display_name": "Python 3",
   "language": "python",
   "name": "python3"
  },
  "language_info": {
   "codemirror_mode": {
    "name": "ipython",
    "version": 3
   },
   "file_extension": ".py",
   "mimetype": "text/x-python",
   "name": "python",
   "nbconvert_exporter": "python",
   "pygments_lexer": "ipython3",
   "version": "3.8.8"
  }
 },
 "nbformat": 4,
 "nbformat_minor": 5
}
