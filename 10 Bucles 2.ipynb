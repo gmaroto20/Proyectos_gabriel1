{
 "cells": [
  {
   "cell_type": "code",
   "execution_count": 1,
   "id": "c9fbee8c",
   "metadata": {},
   "outputs": [],
   "source": [
    "#uso de range y print especial"
   ]
  },
  {
   "cell_type": "code",
   "execution_count": 3,
   "id": "a47de5a5",
   "metadata": {},
   "outputs": [
    {
     "name": "stdout",
     "output_type": "stream",
     "text": [
      "0\n",
      "1\n",
      "2\n",
      "3\n",
      "4\n"
     ]
    }
   ],
   "source": [
    "for i in range(5):\n",
    "    print(i)\n",
    "              "
   ]
  },
  {
   "cell_type": "code",
   "execution_count": 4,
   "id": "718f4be8",
   "metadata": {},
   "outputs": [],
   "source": [
    "#pero en el print se pueden concatenar valores de texto con variables con la funcion f delante de \"\""
   ]
  },
  {
   "cell_type": "code",
   "execution_count": 5,
   "id": "6cafc7cd",
   "metadata": {},
   "outputs": [
    {
     "name": "stdout",
     "output_type": "stream",
     "text": [
      "valor de la variable 0\n",
      "valor de la variable 1\n",
      "valor de la variable 2\n",
      "valor de la variable 3\n",
      "valor de la variable 4\n"
     ]
    }
   ],
   "source": [
    "for i in range(5):\n",
    "    print(f\"valor de la variable {i}\")"
   ]
  },
  {
   "cell_type": "code",
   "execution_count": 6,
   "id": "233d2282",
   "metadata": {},
   "outputs": [],
   "source": [
    "#range admite otros valores"
   ]
  },
  {
   "cell_type": "code",
   "execution_count": 7,
   "id": "8410dd5b",
   "metadata": {},
   "outputs": [
    {
     "name": "stdout",
     "output_type": "stream",
     "text": [
      "valor de la variable 5\n",
      "valor de la variable 6\n",
      "valor de la variable 7\n",
      "valor de la variable 8\n",
      "valor de la variable 9\n"
     ]
    }
   ],
   "source": [
    "for i in range(5,10):\n",
    "    print(f\"valor de la variable {i}\")"
   ]
  },
  {
   "cell_type": "code",
   "execution_count": 8,
   "id": "8d8e3ba3",
   "metadata": {},
   "outputs": [
    {
     "name": "stdout",
     "output_type": "stream",
     "text": [
      "valor de la variable 5\n",
      "valor de la variable 8\n",
      "valor de la variable 11\n",
      "valor de la variable 14\n",
      "valor de la variable 17\n",
      "valor de la variable 20\n",
      "valor de la variable 23\n",
      "valor de la variable 26\n",
      "valor de la variable 29\n",
      "valor de la variable 32\n",
      "valor de la variable 35\n",
      "valor de la variable 38\n",
      "valor de la variable 41\n",
      "valor de la variable 44\n",
      "valor de la variable 47\n"
     ]
    }
   ],
   "source": [
    "for i in range(5,50,3):\n",
    "    print(f\"valor de la variable {i}\")"
   ]
  },
  {
   "cell_type": "code",
   "execution_count": 9,
   "id": "45593b8b",
   "metadata": {},
   "outputs": [],
   "source": [
    "#se puede ver el ejemplo del mail para detectar por ej solo @"
   ]
  },
  {
   "cell_type": "code",
   "execution_count": 16,
   "id": "6cd59d81",
   "metadata": {},
   "outputs": [
    {
     "name": "stdout",
     "output_type": "stream",
     "text": [
      "introduce email:pepe@gmail.com\n",
      "mail correcto\n"
     ]
    }
   ],
   "source": [
    "valido=False\n",
    "email=input(\"introduce email:\")\n",
    "for i in range(len(email)):\n",
    "    if email[i]==\"@\":\n",
    "        valido=True\n",
    "if valido:\n",
    "    print(\"mail correcto\")\n",
    "else:\n",
    "    print(\"mail incorrecto\")"
   ]
  },
  {
   "cell_type": "code",
   "execution_count": null,
   "id": "61503111",
   "metadata": {},
   "outputs": [],
   "source": []
  }
 ],
 "metadata": {
  "kernelspec": {
   "display_name": "Python 3",
   "language": "python",
   "name": "python3"
  },
  "language_info": {
   "codemirror_mode": {
    "name": "ipython",
    "version": 3
   },
   "file_extension": ".py",
   "mimetype": "text/x-python",
   "name": "python",
   "nbconvert_exporter": "python",
   "pygments_lexer": "ipython3",
   "version": "3.8.8"
  }
 },
 "nbformat": 4,
 "nbformat_minor": 5
}
