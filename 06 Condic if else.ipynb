{
 "cells": [
  {
   "cell_type": "code",
   "execution_count": 1,
   "id": "0560a1d1",
   "metadata": {},
   "outputs": [],
   "source": [
    "#la condicion else la consideraremos como \"y si no es verdad\""
   ]
  },
  {
   "cell_type": "code",
   "execution_count": 30,
   "id": "38e946a7",
   "metadata": {},
   "outputs": [
    {
     "name": "stdout",
     "output_type": "stream",
     "text": [
      "solicitud entrada local\n",
      "¿que edad tienes?:19\n",
      "puedes entrar\n"
     ]
    }
   ],
   "source": [
    "print(\"solicitud entrada local\")\n",
    "edad=int(input(\"¿que edad tienes?:\"))\n",
    "if edad<18:\n",
    "    print(\"no puedes entrar\")\n",
    "else:\n",
    "    print(\"puedes entrar\")\n",
    "    "
   ]
  },
  {
   "cell_type": "code",
   "execution_count": 23,
   "id": "773c5bda",
   "metadata": {},
   "outputs": [],
   "source": [
    "#pero y si pones 240 años? no tiene logica, hay que poner otro if"
   ]
  },
  {
   "cell_type": "code",
   "execution_count": 31,
   "id": "2da396e9",
   "metadata": {},
   "outputs": [
    {
     "name": "stdout",
     "output_type": "stream",
     "text": [
      "solicitud entrada local\n",
      "¿que edad tienes?:20\n",
      "puedes entrar\n"
     ]
    }
   ],
   "source": [
    "print(\"solicitud entrada local\")\n",
    "edad=int(input(\"¿que edad tienes?:\"))\n",
    "if edad<18:\n",
    "    print(\"no puedes entrar\")\n",
    "if edad>100:\n",
    "    print(\"edad incorrecta\")\n",
    "else:\n",
    "    print(\"puedes entrar\")"
   ]
  },
  {
   "cell_type": "code",
   "execution_count": 25,
   "id": "ade93248",
   "metadata": {},
   "outputs": [],
   "source": [
    "#pero el else siempre va ligado al if mas cercano y nos daria problemas es mejor utilizar elif\n",
    "#de esta manera el else coge tambien el if inicial"
   ]
  },
  {
   "cell_type": "code",
   "execution_count": 32,
   "id": "ed2917ff",
   "metadata": {},
   "outputs": [
    {
     "name": "stdout",
     "output_type": "stream",
     "text": [
      "solicitud entrada local\n",
      "¿que edad tienes?:105\n",
      "edad incorrecta\n"
     ]
    }
   ],
   "source": [
    "print(\"solicitud entrada local\")\n",
    "edad=int(input(\"¿que edad tienes?:\"))\n",
    "if edad<18:\n",
    "    print(\"no puedes entrar\")\n",
    "elif edad>100:\n",
    "    print(\"edad incorrecta\")\n",
    "else:\n",
    "    print(\"puedes entrar\")"
   ]
  },
  {
   "cell_type": "code",
   "execution_count": 33,
   "id": "829df7ac",
   "metadata": {},
   "outputs": [
    {
     "name": "stdout",
     "output_type": "stream",
     "text": [
      "solicitud entrada local\n",
      "¿que edad tienes?:23\n",
      "puedes entrar\n"
     ]
    }
   ],
   "source": [
    "print(\"solicitud entrada local\")\n",
    "edad=int(input(\"¿que edad tienes?:\"))\n",
    "if edad<18:\n",
    "    print(\"no puedes entrar\")\n",
    "elif edad>100:\n",
    "    print(\"edad incorrecta\")\n",
    "else:\n",
    "    print(\"puedes entrar\")"
   ]
  },
  {
   "cell_type": "code",
   "execution_count": 28,
   "id": "5ad5d787",
   "metadata": {},
   "outputs": [],
   "source": [
    "#se puede hacer un ejercicio de notas con varios if que se cambian por elif"
   ]
  },
  {
   "cell_type": "code",
   "execution_count": 34,
   "id": "0d4053ea",
   "metadata": {},
   "outputs": [
    {
     "name": "stdout",
     "output_type": "stream",
     "text": [
      "Notas de alumnos\n",
      "Introduzca la nota:10\n",
      "matricula de honor\n"
     ]
    }
   ],
   "source": [
    "print(\"Notas de alumnos\")\n",
    "nota=int(input(\"Introduzca la nota:\"))\n",
    "if nota<5:\n",
    "    print(\"insuficiente\")\n",
    "elif nota<6:\n",
    "    print(\"aprobado\")\n",
    "elif nota<7:\n",
    "    print(\"bien\")\n",
    "elif nota<8:\n",
    "    print(\"notable\")\n",
    "elif nota<10:\n",
    "    print(\"sobresaliente\")\n",
    "elif nota<11:\n",
    "    print(\"matricula de honor\")\n",
    "else:\n",
    "    print(\"nota erronea, introduzcala de nuevo\")"
   ]
  },
  {
   "cell_type": "code",
   "execution_count": null,
   "id": "668718ba",
   "metadata": {},
   "outputs": [],
   "source": []
  },
  {
   "cell_type": "code",
   "execution_count": null,
   "id": "916397c1",
   "metadata": {},
   "outputs": [],
   "source": []
  },
  {
   "cell_type": "code",
   "execution_count": null,
   "id": "e7622cee",
   "metadata": {},
   "outputs": [],
   "source": []
  }
 ],
 "metadata": {
  "kernelspec": {
   "display_name": "Python 3",
   "language": "python",
   "name": "python3"
  },
  "language_info": {
   "codemirror_mode": {
    "name": "ipython",
    "version": 3
   },
   "file_extension": ".py",
   "mimetype": "text/x-python",
   "name": "python",
   "nbconvert_exporter": "python",
   "pygments_lexer": "ipython3",
   "version": "3.8.8"
  }
 },
 "nbformat": 4,
 "nbformat_minor": 5
}
