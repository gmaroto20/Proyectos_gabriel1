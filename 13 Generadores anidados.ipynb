{
 "cells": [
  {
   "cell_type": "code",
   "execution_count": 1,
   "id": "0f85a1f9",
   "metadata": {},
   "outputs": [],
   "source": [
    "#vamos a ver un generador que informa sobre elementos y subelenmentos\n",
    "#el assterisco sinifica que van a entrar x ciudades incluidas en una tupla o lista"
   ]
  },
  {
   "cell_type": "code",
   "execution_count": 2,
   "id": "016aa8fa",
   "metadata": {},
   "outputs": [
    {
     "name": "stdout",
     "output_type": "stream",
     "text": [
      "madrid\n",
      "toledo\n",
      "avila\n"
     ]
    }
   ],
   "source": [
    "def devuelve_ciudades(*ciudades):\n",
    "    for elemento in ciudades:\n",
    "        yield elemento\n",
    "genciudades=devuelve_ciudades(\"madrid\",\"toledo\",\"avila\",\"segovia\")\n",
    "print(next(genciudades))\n",
    "print(next(genciudades))\n",
    "print(next(genciudades))\n",
    "    "
   ]
  },
  {
   "cell_type": "code",
   "execution_count": 3,
   "id": "85a7ed57",
   "metadata": {},
   "outputs": [],
   "source": [
    "#si queremos que a su vez nos devuelva suelementos (letras de la palabra madrid por ej)\n",
    "#utilizaremos un bucle for anidado"
   ]
  },
  {
   "cell_type": "code",
   "execution_count": 6,
   "id": "33a27cef",
   "metadata": {},
   "outputs": [
    {
     "name": "stdout",
     "output_type": "stream",
     "text": [
      "m\n",
      "a\n",
      "d\n"
     ]
    }
   ],
   "source": [
    "def devuelve_ciudades(*ciudades):\n",
    "    for elemento in ciudades:\n",
    "        for subelemento in elemento:\n",
    "            yield subelemento\n",
    "genciudades=devuelve_ciudades(\"madrid\",\"toledo\",\"avila\",\"segovia\")\n",
    "print(next(genciudades))\n",
    "print(next(genciudades))\n",
    "print(next(genciudades))"
   ]
  },
  {
   "cell_type": "code",
   "execution_count": 7,
   "id": "2ac6b46a",
   "metadata": {},
   "outputs": [],
   "source": [
    "#esto se puede simplificar con la expresion \"yield from\""
   ]
  },
  {
   "cell_type": "code",
   "execution_count": null,
   "id": "cd3e6368",
   "metadata": {},
   "outputs": [],
   "source": []
  }
 ],
 "metadata": {
  "kernelspec": {
   "display_name": "Python 3",
   "language": "python",
   "name": "python3"
  },
  "language_info": {
   "codemirror_mode": {
    "name": "ipython",
    "version": 3
   },
   "file_extension": ".py",
   "mimetype": "text/x-python",
   "name": "python",
   "nbconvert_exporter": "python",
   "pygments_lexer": "ipython3",
   "version": "3.8.8"
  }
 },
 "nbformat": 4,
 "nbformat_minor": 5
}
