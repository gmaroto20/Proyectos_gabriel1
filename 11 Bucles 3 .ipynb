{
 "cells": [
  {
   "cell_type": "code",
   "execution_count": 2,
   "id": "66bf056d",
   "metadata": {},
   "outputs": [],
   "source": [
    "#Vamos a ver los bucles indeterminados, while, mientras (que a priori no se sabe las veces que se van a ejecutar)\n",
    "#empezamos con un bucle que ejecute 10 veces una instruccion\n"
   ]
  },
  {
   "cell_type": "code",
   "execution_count": 9,
   "id": "25866d38",
   "metadata": {},
   "outputs": [
    {
     "name": "stdout",
     "output_type": "stream",
     "text": [
      "ejecucion 1\n",
      "ejecucion 2\n",
      "ejecucion 3\n",
      "ejecucion 4\n",
      "ejecucion 5\n",
      "ejecucion 6\n",
      "ejecucion 7\n",
      "ejecucion 8\n",
      "ejecucion 9\n",
      "ejecucion 10\n",
      "termino la ejecucion\n"
     ]
    }
   ],
   "source": [
    "i=1\n",
    "while i<=10:\n",
    "    print(\"ejecucion\"+\" \"+str(i))\n",
    "    i=i+1\n",
    "print(\"termino la ejecucion\")"
   ]
  },
  {
   "cell_type": "code",
   "execution_count": 10,
   "id": "c428a6d1",
   "metadata": {},
   "outputs": [],
   "source": [
    "#vamos a ver un ej: evaluar una edad negativa al pedirnos la edad\n",
    "#el bucle continua hasta que no se cumpla la condicion (si es verdad hasta que sea mentira y vice)"
   ]
  },
  {
   "cell_type": "code",
   "execution_count": 13,
   "id": "89533793",
   "metadata": {},
   "outputs": [
    {
     "name": "stdout",
     "output_type": "stream",
     "text": [
      "introduzca su edad:-86\n",
      "edad erronea, por favor introduzcala de nuevo\n",
      "introduzca su edad:67\n",
      "gracias\n",
      "edad introducida:67\n"
     ]
    }
   ],
   "source": [
    "edad=int(input(\"introduzca su edad:\"))\n",
    "while edad<0:\n",
    "    print(\"edad erronea, por favor introduzcala de nuevo\")\n",
    "    edad=int(input(\"introduzca su edad:\"))\n",
    "print(\"gracias\")\n",
    "print(\"edad introducida:\"+ str(edad))"
   ]
  },
  {
   "cell_type": "code",
   "execution_count": 14,
   "id": "40c1cd52",
   "metadata": {},
   "outputs": [],
   "source": [
    "#se puede limitar a 110 años"
   ]
  },
  {
   "cell_type": "code",
   "execution_count": 15,
   "id": "6a106479",
   "metadata": {},
   "outputs": [
    {
     "name": "stdout",
     "output_type": "stream",
     "text": [
      "introduzca su edad:112\n",
      "edad erronea, por favor introduzcala de nuevo\n",
      "introduzca su edad:53\n",
      "gracias\n",
      "edad introducida:53\n"
     ]
    }
   ],
   "source": [
    "edad=int(input(\"introduzca su edad:\"))\n",
    "while edad<0 or edad>110:\n",
    "    print(\"edad erronea, por favor introduzcala de nuevo\")\n",
    "    edad=int(input(\"introduzca su edad:\"))\n",
    "print(\"gracias\")\n",
    "print(\"edad introducida:\"+ str(edad))"
   ]
  },
  {
   "cell_type": "code",
   "execution_count": 17,
   "id": "0ca94082",
   "metadata": {},
   "outputs": [],
   "source": [
    "#en ese bucle si metemos sienmpre negativos podemos ir a infinito\n",
    "#para poder parar un bucle (break;), por ej calcular la raiz cuadrada de un numero, raiz=math.sqrt(numero)"
   ]
  },
  {
   "cell_type": "code",
   "execution_count": 30,
   "id": "b3aab2d4",
   "metadata": {},
   "outputs": [
    {
     "name": "stdout",
     "output_type": "stream",
     "text": [
      "Calculo de raiz cuadrada\n",
      "introduzca un numero:67\n",
      "la raiz del numero pedido es:8.18535277187245\n"
     ]
    }
   ],
   "source": [
    "import math\n",
    "print(\"Calculo de raiz cuadrada\")\n",
    "numero=int(input(\"introduzca un numero:\"))\n",
    "intentos=0\n",
    "while numero<0:\n",
    "    intentos=intentos+1\n",
    "    print(\"numero erroneo, por favor introduzca numero de nuevo\")\n",
    "    if intentos==3:\n",
    "        print(\"ha consumido los intentos que tenia\")\n",
    "        break;\n",
    "    numero=int(input(\"introduzca un numero:\"))\n",
    "    \n",
    "if intentos<2:\n",
    "    raiz=math.sqrt(numero)\n",
    "    print(\"la raiz del numero pedido es:\"+ str(raiz))\n",
    "            "
   ]
  },
  {
   "cell_type": "code",
   "execution_count": 31,
   "id": "9ba704c6",
   "metadata": {},
   "outputs": [
    {
     "name": "stdout",
     "output_type": "stream",
     "text": [
      "Calculo de raiz cuadrada\n",
      "introduzca un numero:67\n",
      "la raiz del numero pedido es:8.19\n"
     ]
    }
   ],
   "source": [
    "import math\n",
    "print(\"Calculo de raiz cuadrada\")\n",
    "numero=int(input(\"introduzca un numero:\"))\n",
    "intentos=0\n",
    "while numero<0:\n",
    "    intentos=intentos+1\n",
    "    print(\"numero erroneo, por favor introduzca numero de nuevo\")\n",
    "    if intentos==3:\n",
    "        print(\"ha consumido los intentos que tenia\")\n",
    "        break;\n",
    "    numero=int(input(\"introduzca un numero:\"))\n",
    "    \n",
    "if intentos<2:\n",
    "    raiz=math.sqrt(numero)\n",
    "    print(\"la raiz del numero pedido es:\"+ str(round(raiz,2)))"
   ]
  },
  {
   "cell_type": "code",
   "execution_count": 1,
   "id": "a22580ec",
   "metadata": {},
   "outputs": [],
   "source": [
    "#instruccion continue,permite un salto cuando se lee un string\n",
    "#por ej numero de letras en \"luis Maroto\", son 10 pero el bucle da 11"
   ]
  },
  {
   "cell_type": "code",
   "execution_count": 3,
   "id": "6241dcba",
   "metadata": {},
   "outputs": [
    {
     "name": "stdout",
     "output_type": "stream",
     "text": [
      "viendo la letra:L\n",
      "viendo la letra:u\n",
      "viendo la letra:i\n",
      "viendo la letra:s\n",
      "viendo la letra: \n",
      "viendo la letra:M\n",
      "viendo la letra:a\n",
      "viendo la letra:r\n",
      "viendo la letra:o\n",
      "viendo la letra:t\n",
      "viendo la letra:o\n"
     ]
    }
   ],
   "source": [
    "for i in \"Luis Maroto\":\n",
    "    print(\"viendo la letra:\"+i)"
   ]
  },
  {
   "cell_type": "code",
   "execution_count": 7,
   "id": "aadfefac",
   "metadata": {},
   "outputs": [
    {
     "name": "stdout",
     "output_type": "stream",
     "text": [
      "viendo la letra:L\n",
      "viendo la letra:u\n",
      "viendo la letra:i\n",
      "viendo la letra:s\n",
      "viendo la letra: \n",
      "viendo la letra:a\n",
      "viendo la letra:r\n",
      "viendo la letra:o\n",
      "viendo la letra:t\n",
      "viendo la letra:o\n"
     ]
    }
   ],
   "source": [
    "for letra in \"Luis Maroto\":\n",
    "    if letra==\"M\":\n",
    "        continue\n",
    "    print(\"viendo la letra:\"+letra)"
   ]
  },
  {
   "cell_type": "code",
   "execution_count": 5,
   "id": "3c1be05a",
   "metadata": {},
   "outputs": [],
   "source": [
    "#vemos que se salta la linea de bucle de la M\n",
    "#vamos a ver ej de un contador de letras en un string con espacios en blanco"
   ]
  },
  {
   "cell_type": "code",
   "execution_count": 8,
   "id": "0ad641e0",
   "metadata": {},
   "outputs": [
    {
     "name": "stdout",
     "output_type": "stream",
     "text": [
      "11\n"
     ]
    }
   ],
   "source": [
    "nombre=\"luis maroto\"\n",
    "print(len(nombre))"
   ]
  },
  {
   "cell_type": "code",
   "execution_count": 14,
   "id": "ecd16e61",
   "metadata": {},
   "outputs": [
    {
     "name": "stdout",
     "output_type": "stream",
     "text": [
      "10\n"
     ]
    }
   ],
   "source": [
    "nombre=\"luis maroto\"\n",
    "contador=0\n",
    "for i in nombre:\n",
    "    if i==\" \":\n",
    "        continue\n",
    "    contador=contador+1\n",
    "print(contador)"
   ]
  },
  {
   "cell_type": "code",
   "execution_count": 4,
   "id": "c45927db",
   "metadata": {},
   "outputs": [
    {
     "name": "stdout",
     "output_type": "stream",
     "text": [
      "Calculo de raiz cuadrada\n",
      "introduzca un numero:-34\n",
      "numero erroneo, por favor introduzca numero de nuevo\n",
      "introduzca un numero:-43\n",
      "numero erroneo, por favor introduzca numero de nuevo\n",
      "ha consumido los intentos que tenia\n"
     ]
    }
   ],
   "source": [
    "import math\n",
    "print(\"Calculo de raiz cuadrada\")\n",
    "numero=int(input(\"introduzca un numero:\"))\n",
    "intentos=0\n",
    "while numero<0:\n",
    "    print(\"numero erroneo, por favor introduzca numero de nuevo\")\n",
    "    if intentos==1:\n",
    "        print(\"ha consumido los intentos que tenia\")\n",
    "        break;\n",
    "    intentos=intentos+1\n",
    "    numero=int(input(\"introduzca un numero:\"))\n",
    "    \n",
    "if intentos<1:\n",
    "    raiz=math.sqrt(numero)\n",
    "    print(\"la raiz del numero pedido es:\"+ str(raiz))"
   ]
  },
  {
   "cell_type": "code",
   "execution_count": null,
   "id": "d76283d7",
   "metadata": {},
   "outputs": [],
   "source": []
  }
 ],
 "metadata": {
  "kernelspec": {
   "display_name": "Python 3",
   "language": "python",
   "name": "python3"
  },
  "language_info": {
   "codemirror_mode": {
    "name": "ipython",
    "version": 3
   },
   "file_extension": ".py",
   "mimetype": "text/x-python",
   "name": "python",
   "nbconvert_exporter": "python",
   "pygments_lexer": "ipython3",
   "version": "3.8.8"
  }
 },
 "nbformat": 4,
 "nbformat_minor": 5
}
